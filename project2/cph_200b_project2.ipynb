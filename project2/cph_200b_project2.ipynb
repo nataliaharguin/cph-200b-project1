{
 "cells": [
  {
   "cell_type": "code",
   "execution_count": 377,
   "metadata": {},
   "outputs": [],
   "source": [
    "import pandas as pd\n",
    "import numpy as np\n",
    "import math\n",
    "import lifelines\n",
    "import scipy\n",
    "\n",
    "import matplotlib.pyplot as plt\n",
    "\n",
    "from lifelines import CoxPHFitter, KaplanMeierFitter\n",
    "from lifelines.statistics import logrank_test\n",
    "from sklearn.linear_model import LogisticRegression\n",
    "from sklearn.metrics import accuracy_score, roc_auc_score\n",
    "\n",
    "from causallib.estimation import IPW"
   ]
  },
  {
   "cell_type": "code",
   "execution_count": 103,
   "metadata": {},
   "outputs": [],
   "source": [
    "UNOS_data = pd.read_csv(\"data/UNOS_train.csv\")"
   ]
  },
  {
   "cell_type": "code",
   "execution_count": 104,
   "metadata": {},
   "outputs": [],
   "source": [
    "patient_variables   = [\"init_age\", \"gender\", \"hgt_cm_tcr\", \"wgt_kg_tcr\", \"diab\", \"ventilator_tcr\",\n",
    "                       \"ecmo_tcr\", \"most_rcnt_creat\", \"abo_A\", \"abo_B\", \"abo_O\", \"vad_while_listed\",\n",
    "                       \"iabp_tcr\",\n",
    "                       \"init_bmi_calc\", \"tah\", \"inotropic\", \"Censor (Censor = 1)\", \"Survival Time\"]\n",
    "\n",
    "# removed: \"days_stat1\", \"days_stat1a\", \"days_stat2\", \"days_stat1b\","
   ]
  },
  {
   "cell_type": "code",
   "execution_count": 105,
   "metadata": {},
   "outputs": [],
   "source": [
    "# cleaning up dataframe\n",
    "UNOS_data = UNOS_data[patient_variables]\n",
    "\n",
    "UNOS_data = UNOS_data[UNOS_data['Survival Time']>=0]"
   ]
  },
  {
   "cell_type": "markdown",
   "metadata": {},
   "source": [
    "# Part 1: Hypothesis Testing & Confounding "
   ]
  },
  {
   "cell_type": "markdown",
   "metadata": {},
   "source": [
    "## Task 1.1"
   ]
  },
  {
   "cell_type": "code",
   "execution_count": 106,
   "metadata": {},
   "outputs": [],
   "source": [
    "def statistics_at_j(df, time, column_of_interest = 'vad_while_listed' ):\n",
    "    # Get all the patients at risk at that time\n",
    "    at_risk_at_j = df[df['Survival Time']>=time]\n",
    "    nt_j = len(at_risk_at_j)\n",
    "    nt_j_1 = len(at_risk_at_j[at_risk_at_j[column_of_interest]==1])\n",
    "    nt_j_0 = len(at_risk_at_j[at_risk_at_j[column_of_interest]==0])\n",
    "\n",
    "    # Get all the events at that time\n",
    "    events_at_j = df[(df['Survival Time']==time) & (df['Censor (Censor = 1)']==0)]\n",
    "    dt_j = len(events_at_j)\n",
    "    dt_j_1 = len(events_at_j[events_at_j[column_of_interest]==1])\n",
    "\n",
    "    e_j = (nt_j_1/nt_j) * dt_j\n",
    "    v_j = (nt_j_0 * nt_j_1 * dt_j * (nt_j - dt_j))/(nt_j*nt_j*(nt_j-1))\n",
    "\n",
    "    return e_j, v_j, dt_j_1\n",
    "\n",
    "def log_rank_statistic(df, column_of_interest = 'vad_while_listed'):\n",
    "    times = np.sort(df[df['Censor (Censor = 1)']==0]['Survival Time'].unique())\n",
    "    numerator = 0 \n",
    "    sq_denominator = 0\n",
    "    for time in times:\n",
    "        e_j, v_j, dt_j_1 = statistics_at_j(df, time, column_of_interest)\n",
    "        numerator += (dt_j_1 - e_j)\n",
    "        sq_denominator += v_j\n",
    "\n",
    "    log_rank_statistic = numerator/ math.sqrt(sq_denominator)  \n",
    "\n",
    "    return log_rank_statistic \n"
   ]
  },
  {
   "cell_type": "code",
   "execution_count": 107,
   "metadata": {},
   "outputs": [
    {
     "name": "stdout",
     "output_type": "stream",
     "text": [
      "7.642021036449715\n"
     ]
    }
   ],
   "source": [
    "statistic = log_rank_statistic(UNOS_data)\n",
    "print(statistic)"
   ]
  },
  {
   "cell_type": "code",
   "execution_count": 108,
   "metadata": {},
   "outputs": [
    {
     "name": "stdout",
     "output_type": "stream",
     "text": [
      "2.1316282072803006e-14\n"
     ]
    }
   ],
   "source": [
    "p_value = 2* (1-scipy.stats.norm.cdf(statistic))\n",
    "\n",
    "print(p_value)"
   ]
  },
  {
   "cell_type": "code",
   "execution_count": 109,
   "metadata": {},
   "outputs": [
    {
     "name": "stdout",
     "output_type": "stream",
     "text": [
      "7.642021036450056\n"
     ]
    }
   ],
   "source": [
    "# Sanity check\n",
    "durations_A = UNOS_data[UNOS_data['vad_while_listed'] == 0]['Survival Time']\n",
    "durations_B = UNOS_data[UNOS_data['vad_while_listed'] == 1]['Survival Time']\n",
    "event_observed_A = 1-UNOS_data[UNOS_data['vad_while_listed'] == 0]['Censor (Censor = 1)']\n",
    "event_observed_B = 1-UNOS_data[UNOS_data['vad_while_listed'] == 1]['Censor (Censor = 1)']\n",
    "\n",
    "results  = logrank_test(durations_A, durations_B, event_observed_A, event_observed_B )\n",
    "\n",
    "# They report chi-squared which is the square of the statistic we computed\n",
    "print(math.sqrt(results.test_statistic))"
   ]
  },
  {
   "cell_type": "code",
   "execution_count": 110,
   "metadata": {},
   "outputs": [
    {
     "data": {
      "text/html": [
       "<div>\n",
       "<style scoped>\n",
       "    .dataframe tbody tr th:only-of-type {\n",
       "        vertical-align: middle;\n",
       "    }\n",
       "\n",
       "    .dataframe tbody tr th {\n",
       "        vertical-align: top;\n",
       "    }\n",
       "\n",
       "    .dataframe thead th {\n",
       "        text-align: right;\n",
       "    }\n",
       "</style>\n",
       "<table border=\"1\" class=\"dataframe\">\n",
       "  <thead>\n",
       "    <tr style=\"text-align: right;\">\n",
       "      <th></th>\n",
       "      <th>test_statistic</th>\n",
       "      <th>p</th>\n",
       "      <th>-log2(p)</th>\n",
       "    </tr>\n",
       "  </thead>\n",
       "  <tbody>\n",
       "    <tr>\n",
       "      <th>0</th>\n",
       "      <td>58.400486</td>\n",
       "      <td>2.138382e-14</td>\n",
       "      <td>45.410474</td>\n",
       "    </tr>\n",
       "  </tbody>\n",
       "</table>\n",
       "</div>"
      ],
      "text/plain": [
       "   test_statistic             p   -log2(p)\n",
       "0       58.400486  2.138382e-14  45.410474"
      ]
     },
     "execution_count": 110,
     "metadata": {},
     "output_type": "execute_result"
    }
   ],
   "source": [
    "results.summary"
   ]
  },
  {
   "cell_type": "markdown",
   "metadata": {},
   "source": [
    "## Task 1.2"
   ]
  },
  {
   "cell_type": "code",
   "execution_count": 111,
   "metadata": {},
   "outputs": [
    {
     "data": {
      "text/plain": [
       "Index(['init_age', 'gender', 'hgt_cm_tcr', 'wgt_kg_tcr', 'diab',\n",
       "       'ventilator_tcr', 'ecmo_tcr', 'most_rcnt_creat', 'abo_A', 'abo_B',\n",
       "       'abo_O', 'vad_while_listed', 'iabp_tcr', 'init_bmi_calc', 'tah',\n",
       "       'inotropic', 'Censor (Censor = 1)', 'Survival Time'],\n",
       "      dtype='object')"
      ]
     },
     "execution_count": 111,
     "metadata": {},
     "output_type": "execute_result"
    }
   ],
   "source": [
    "UNOS_data.columns"
   ]
  },
  {
   "cell_type": "code",
   "execution_count": 112,
   "metadata": {},
   "outputs": [],
   "source": [
    "def evaluate_predictive_power(X, y):\n",
    "    model = LogisticRegression(max_iter=1000)\n",
    "    model.fit(X, y)\n",
    "    y_pred = model.predict(X)\n",
    "    y_prob = model.predict_proba(X)[:, 1]\n",
    "    accuracy = accuracy_score(y, y_pred)\n",
    "    #print(f\"Accuracy: {accuracy}\")\n",
    "    auc = roc_auc_score(y, y_prob)\n",
    "    return auc"
   ]
  },
  {
   "cell_type": "code",
   "execution_count": 113,
   "metadata": {},
   "outputs": [],
   "source": [
    "features = [col for col in UNOS_data.columns if col not in ['Censor (Censor = 1)', 'Survival Time', \"vad_while_listed\"]]\n",
    "# First, find variables predictive of VAD\n",
    "\n",
    "X, y, y_surv = UNOS_data[features], UNOS_data[\"vad_while_listed\"], UNOS_data['Survival Time']\n",
    "\n",
    "auc_vads = []\n",
    "#auc_survivals = []\n",
    "for col in X.columns:\n",
    "    auc_vad = evaluate_predictive_power(X[[col]], y)\n",
    "    #auc_survival = evaluate_predictive_power(X[[col]], y_surv)\n",
    "    auc_vads.append(auc_vad)\n",
    "    #auc_survivals.append(auc_survival)\n",
    "\n",
    "results = pd.DataFrame({\n",
    "    'columns': features,\n",
    "    'AUC VAD': auc_vads,\n",
    "    #'AUC Survival': auc_survivals\n",
    "})"
   ]
  },
  {
   "cell_type": "code",
   "execution_count": 114,
   "metadata": {},
   "outputs": [
    {
     "data": {
      "text/html": [
       "<div>\n",
       "<style scoped>\n",
       "    .dataframe tbody tr th:only-of-type {\n",
       "        vertical-align: middle;\n",
       "    }\n",
       "\n",
       "    .dataframe tbody tr th {\n",
       "        vertical-align: top;\n",
       "    }\n",
       "\n",
       "    .dataframe thead th {\n",
       "        text-align: right;\n",
       "    }\n",
       "</style>\n",
       "<table border=\"1\" class=\"dataframe\">\n",
       "  <thead>\n",
       "    <tr style=\"text-align: right;\">\n",
       "      <th></th>\n",
       "      <th>columns</th>\n",
       "      <th>AUC VAD</th>\n",
       "    </tr>\n",
       "  </thead>\n",
       "  <tbody>\n",
       "    <tr>\n",
       "      <th>0</th>\n",
       "      <td>init_age</td>\n",
       "      <td>0.587812</td>\n",
       "    </tr>\n",
       "    <tr>\n",
       "      <th>1</th>\n",
       "      <td>gender</td>\n",
       "      <td>0.528427</td>\n",
       "    </tr>\n",
       "    <tr>\n",
       "      <th>2</th>\n",
       "      <td>hgt_cm_tcr</td>\n",
       "      <td>0.528441</td>\n",
       "    </tr>\n",
       "    <tr>\n",
       "      <th>3</th>\n",
       "      <td>wgt_kg_tcr</td>\n",
       "      <td>0.586230</td>\n",
       "    </tr>\n",
       "    <tr>\n",
       "      <th>4</th>\n",
       "      <td>diab</td>\n",
       "      <td>0.542565</td>\n",
       "    </tr>\n",
       "    <tr>\n",
       "      <th>5</th>\n",
       "      <td>ventilator_tcr</td>\n",
       "      <td>0.502679</td>\n",
       "    </tr>\n",
       "    <tr>\n",
       "      <th>6</th>\n",
       "      <td>ecmo_tcr</td>\n",
       "      <td>0.507585</td>\n",
       "    </tr>\n",
       "    <tr>\n",
       "      <th>7</th>\n",
       "      <td>most_rcnt_creat</td>\n",
       "      <td>0.588479</td>\n",
       "    </tr>\n",
       "    <tr>\n",
       "      <th>8</th>\n",
       "      <td>abo_A</td>\n",
       "      <td>0.520832</td>\n",
       "    </tr>\n",
       "    <tr>\n",
       "      <th>9</th>\n",
       "      <td>abo_B</td>\n",
       "      <td>0.509263</td>\n",
       "    </tr>\n",
       "    <tr>\n",
       "      <th>10</th>\n",
       "      <td>abo_O</td>\n",
       "      <td>0.536192</td>\n",
       "    </tr>\n",
       "    <tr>\n",
       "      <th>11</th>\n",
       "      <td>iabp_tcr</td>\n",
       "      <td>0.554203</td>\n",
       "    </tr>\n",
       "    <tr>\n",
       "      <th>12</th>\n",
       "      <td>init_bmi_calc</td>\n",
       "      <td>0.596423</td>\n",
       "    </tr>\n",
       "    <tr>\n",
       "      <th>13</th>\n",
       "      <td>tah</td>\n",
       "      <td>0.501099</td>\n",
       "    </tr>\n",
       "    <tr>\n",
       "      <th>14</th>\n",
       "      <td>inotropic</td>\n",
       "      <td>0.540517</td>\n",
       "    </tr>\n",
       "  </tbody>\n",
       "</table>\n",
       "</div>"
      ],
      "text/plain": [
       "            columns   AUC VAD\n",
       "0          init_age  0.587812\n",
       "1            gender  0.528427\n",
       "2        hgt_cm_tcr  0.528441\n",
       "3        wgt_kg_tcr  0.586230\n",
       "4              diab  0.542565\n",
       "5    ventilator_tcr  0.502679\n",
       "6          ecmo_tcr  0.507585\n",
       "7   most_rcnt_creat  0.588479\n",
       "8             abo_A  0.520832\n",
       "9             abo_B  0.509263\n",
       "10            abo_O  0.536192\n",
       "11         iabp_tcr  0.554203\n",
       "12    init_bmi_calc  0.596423\n",
       "13              tah  0.501099\n",
       "14        inotropic  0.540517"
      ]
     },
     "execution_count": 114,
     "metadata": {},
     "output_type": "execute_result"
    }
   ],
   "source": [
    "results"
   ]
  },
  {
   "cell_type": "code",
   "execution_count": 115,
   "metadata": {},
   "outputs": [],
   "source": [
    "# Step 1: Cox model WITHOUT adjustment\n",
    "\n",
    "UNOS_data['death_event'] = 1- UNOS_data['Censor (Censor = 1)']\n",
    "\n",
    "cph1 = CoxPHFitter()\n",
    "cph1.fit(UNOS_data[['Survival Time', 'death_event', 'vad_while_listed']], \n",
    "         duration_col='Survival Time', event_col='death_event')\n",
    "hr_unadjusted = cph1.summary.loc['vad_while_listed', 'exp(coef)']\n",
    "\n",
    "# Step 2: Cox model WITH confounders\n",
    "hr_adjusted_list = []\n",
    "#auc_survivals = []\n",
    "for col in X.columns:\n",
    "    confounders = [col]\n",
    "    cph2 = CoxPHFitter()\n",
    "    cph2.fit(UNOS_data[['Survival Time', 'death_event', 'vad_while_listed']+ confounders], \n",
    "         duration_col='Survival Time', event_col='death_event')\n",
    "    hr_adjusted = cph2.summary.loc['vad_while_listed', 'exp(coef)']\n",
    "    hr_adjusted_list.append(hr_adjusted)\n",
    "    # print(\"HR without adjustment:\", hr_unadjusted)\n",
    "    # print(\"HR with confounder adjustment:\", hr_adjusted)\n",
    "\n",
    "\n",
    "results = pd.DataFrame({\n",
    "    'columns': features,\n",
    "    'hr_adjusted': hr_adjusted_list,\n",
    "    'difference': hr_adjusted_list - hr_unadjusted\n",
    "    #'AUC Survival': auc_survivals\n",
    "})\n"
   ]
  },
  {
   "cell_type": "code",
   "execution_count": 116,
   "metadata": {},
   "outputs": [
    {
     "data": {
      "text/html": [
       "<div>\n",
       "<style scoped>\n",
       "    .dataframe tbody tr th:only-of-type {\n",
       "        vertical-align: middle;\n",
       "    }\n",
       "\n",
       "    .dataframe tbody tr th {\n",
       "        vertical-align: top;\n",
       "    }\n",
       "\n",
       "    .dataframe thead th {\n",
       "        text-align: right;\n",
       "    }\n",
       "</style>\n",
       "<table border=\"1\" class=\"dataframe\">\n",
       "  <thead>\n",
       "    <tr style=\"text-align: right;\">\n",
       "      <th></th>\n",
       "      <th>columns</th>\n",
       "      <th>hr_adjusted</th>\n",
       "      <th>difference</th>\n",
       "    </tr>\n",
       "  </thead>\n",
       "  <tbody>\n",
       "    <tr>\n",
       "      <th>0</th>\n",
       "      <td>init_age</td>\n",
       "      <td>1.374743</td>\n",
       "      <td>-0.031559</td>\n",
       "    </tr>\n",
       "    <tr>\n",
       "      <th>1</th>\n",
       "      <td>gender</td>\n",
       "      <td>1.426067</td>\n",
       "      <td>0.019765</td>\n",
       "    </tr>\n",
       "    <tr>\n",
       "      <th>2</th>\n",
       "      <td>hgt_cm_tcr</td>\n",
       "      <td>1.400941</td>\n",
       "      <td>-0.005361</td>\n",
       "    </tr>\n",
       "    <tr>\n",
       "      <th>3</th>\n",
       "      <td>wgt_kg_tcr</td>\n",
       "      <td>1.427994</td>\n",
       "      <td>0.021692</td>\n",
       "    </tr>\n",
       "    <tr>\n",
       "      <th>4</th>\n",
       "      <td>diab</td>\n",
       "      <td>1.392406</td>\n",
       "      <td>-0.013896</td>\n",
       "    </tr>\n",
       "    <tr>\n",
       "      <th>5</th>\n",
       "      <td>ventilator_tcr</td>\n",
       "      <td>1.394122</td>\n",
       "      <td>-0.012180</td>\n",
       "    </tr>\n",
       "    <tr>\n",
       "      <th>6</th>\n",
       "      <td>ecmo_tcr</td>\n",
       "      <td>1.412635</td>\n",
       "      <td>0.006333</td>\n",
       "    </tr>\n",
       "    <tr>\n",
       "      <th>7</th>\n",
       "      <td>most_rcnt_creat</td>\n",
       "      <td>1.410334</td>\n",
       "      <td>0.004032</td>\n",
       "    </tr>\n",
       "    <tr>\n",
       "      <th>8</th>\n",
       "      <td>abo_A</td>\n",
       "      <td>1.414222</td>\n",
       "      <td>0.007920</td>\n",
       "    </tr>\n",
       "    <tr>\n",
       "      <th>9</th>\n",
       "      <td>abo_B</td>\n",
       "      <td>1.406990</td>\n",
       "      <td>0.000688</td>\n",
       "    </tr>\n",
       "    <tr>\n",
       "      <th>10</th>\n",
       "      <td>abo_O</td>\n",
       "      <td>1.419487</td>\n",
       "      <td>0.013186</td>\n",
       "    </tr>\n",
       "    <tr>\n",
       "      <th>11</th>\n",
       "      <td>iabp_tcr</td>\n",
       "      <td>1.235123</td>\n",
       "      <td>-0.171179</td>\n",
       "    </tr>\n",
       "    <tr>\n",
       "      <th>12</th>\n",
       "      <td>init_bmi_calc</td>\n",
       "      <td>1.441914</td>\n",
       "      <td>0.035612</td>\n",
       "    </tr>\n",
       "    <tr>\n",
       "      <th>13</th>\n",
       "      <td>tah</td>\n",
       "      <td>1.407489</td>\n",
       "      <td>0.001187</td>\n",
       "    </tr>\n",
       "    <tr>\n",
       "      <th>14</th>\n",
       "      <td>inotropic</td>\n",
       "      <td>1.451391</td>\n",
       "      <td>0.045089</td>\n",
       "    </tr>\n",
       "  </tbody>\n",
       "</table>\n",
       "</div>"
      ],
      "text/plain": [
       "            columns  hr_adjusted  difference\n",
       "0          init_age     1.374743   -0.031559\n",
       "1            gender     1.426067    0.019765\n",
       "2        hgt_cm_tcr     1.400941   -0.005361\n",
       "3        wgt_kg_tcr     1.427994    0.021692\n",
       "4              diab     1.392406   -0.013896\n",
       "5    ventilator_tcr     1.394122   -0.012180\n",
       "6          ecmo_tcr     1.412635    0.006333\n",
       "7   most_rcnt_creat     1.410334    0.004032\n",
       "8             abo_A     1.414222    0.007920\n",
       "9             abo_B     1.406990    0.000688\n",
       "10            abo_O     1.419487    0.013186\n",
       "11         iabp_tcr     1.235123   -0.171179\n",
       "12    init_bmi_calc     1.441914    0.035612\n",
       "13              tah     1.407489    0.001187\n",
       "14        inotropic     1.451391    0.045089"
      ]
     },
     "execution_count": 116,
     "metadata": {},
     "output_type": "execute_result"
    }
   ],
   "source": [
    "results"
   ]
  },
  {
   "cell_type": "markdown",
   "metadata": {},
   "source": [
    "## Task 1.3"
   ]
  },
  {
   "cell_type": "code",
   "execution_count": 117,
   "metadata": {},
   "outputs": [
    {
     "data": {
      "image/png": "[encoded data removed]",
      "text/plain": [
       "<Figure size 800x600 with 1 Axes>"
      ]
     },
     "metadata": {},
     "output_type": "display_data"
    }
   ],
   "source": [
    "# Step 0: Fit Kaplan-Meier as-is\n",
    "kmf_vad = KaplanMeierFitter()\n",
    "kmf_no_vad = KaplanMeierFitter()\n",
    "\n",
    "plt.figure(figsize=(8, 6))\n",
    "\n",
    "# Fit and plot for VAD group\n",
    "kmf_vad.fit(UNOS_data.loc[UNOS_data['vad_while_listed'] == 1, 'Survival Time'], \n",
    "            UNOS_data.loc[UNOS_data['vad_while_listed'] == 1, 'death_event'])\n",
    "kmf_vad.plot_survival_function(label=\"VAD vad_while_listed\", ci_show=True)\n",
    "\n",
    "# Fit and plot for No-VAD group\n",
    "kmf_no_vad.fit(UNOS_data.loc[UNOS_data['vad_while_listed'] == 0, 'Survival Time'], \n",
    "               UNOS_data.loc[UNOS_data['vad_while_listed'] == 0, 'death_event'])\n",
    "kmf_no_vad.plot_survival_function(label=\"No VAD Support\", ci_show=True)\n",
    "\n",
    "plt.title(\"Kaplan-Meier Survival Curves\")\n",
    "plt.xlabel(\"Time (days)\")\n",
    "plt.ylabel(\"Survival Probability\")\n",
    "plt.legend()\n",
    "plt.show()"
   ]
  },
  {
   "cell_type": "code",
   "execution_count": 137,
   "metadata": {},
   "outputs": [
    {
     "name": "stderr",
     "output_type": "stream",
     "text": [
      "/opt/anaconda3/envs/project1/lib/python3.11/site-packages/lifelines/fitters/kaplan_meier_fitter.py:338: StatisticalWarning: It looks like your weights are not integers, possibly propensity scores then?\n",
      "  It's important to know that the naive variance estimates of the coefficients are biased. Instead use Monte Carlo to\n",
      "  estimate the variances. See paper \"Variance estimation when using inverse probability of treatment weighting (IPTW) with survival analysis\"\n",
      "  or \"Adjusted Kaplan-Meier estimator and log-rank test with inverse probability of treatment weighting for survival data.\"\n",
      "                  \n",
      "  warnings.warn(\n",
      "/opt/anaconda3/envs/project1/lib/python3.11/site-packages/lifelines/fitters/kaplan_meier_fitter.py:338: StatisticalWarning: It looks like your weights are not integers, possibly propensity scores then?\n",
      "  It's important to know that the naive variance estimates of the coefficients are biased. Instead use Monte Carlo to\n",
      "  estimate the variances. See paper \"Variance estimation when using inverse probability of treatment weighting (IPTW) with survival analysis\"\n",
      "  or \"Adjusted Kaplan-Meier estimator and log-rank test with inverse probability of treatment weighting for survival data.\"\n",
      "                  \n",
      "  warnings.warn(\n"
     ]
    },
    {
     "data": {
      "image/png": "[encoded data removed]",
      "text/plain": [
       "<Figure size 800x600 with 1 Axes>"
      ]
     },
     "metadata": {},
     "output_type": "display_data"
    }
   ],
   "source": [
    "confounders = features\n",
    "\n",
    "# Step 1: Estimate Propensity Score\n",
    "logit = LogisticRegression(max_iter=3000)\n",
    "logit.fit(UNOS_data[confounders], UNOS_data['vad_while_listed'])\n",
    "UNOS_data['propensity_score'] = logit.predict_proba(UNOS_data[confounders])[:, 1]\n",
    "\n",
    "# Step 2: Compute Inverse Probability Weights (IPW)\n",
    "UNOS_data['ipw'] = np.where(UNOS_data['vad_while_listed'] == 1, \n",
    "                     1 / UNOS_data['propensity_score'], \n",
    "                     1 / (1 - UNOS_data['propensity_score']))\n",
    "\n",
    "# Step 3: Fit Kaplan-Meier with Weights\n",
    "kmf_vad = KaplanMeierFitter()\n",
    "kmf_no_vad = KaplanMeierFitter()\n",
    "\n",
    "plt.figure(figsize=(8, 6))\n",
    "\n",
    "# Fit and plot for VAD group\n",
    "kmf_vad.fit(UNOS_data.loc[UNOS_data['vad_while_listed'] == 1, 'Survival Time'], \n",
    "            UNOS_data.loc[UNOS_data['vad_while_listed'] == 1, 'death_event'], \n",
    "            weights=UNOS_data.loc[UNOS_data['vad_while_listed'] == 1, 'ipw'])\n",
    "kmf_vad.plot_survival_function(label=\"VAD vad_while_listed\", ci_show=True)\n",
    "\n",
    "# Fit and plot for No-VAD group\n",
    "kmf_no_vad.fit(UNOS_data.loc[UNOS_data['vad_while_listed'] == 0, 'Survival Time'], \n",
    "               UNOS_data.loc[UNOS_data['vad_while_listed'] == 0, 'death_event'], \n",
    "               weights=UNOS_data.loc[UNOS_data['vad_while_listed'] == 0, 'ipw'])\n",
    "kmf_no_vad.plot_survival_function(label=\"No VAD Support\", ci_show=True)\n",
    "\n",
    "plt.title(\"Propensity-Weighted Kaplan-Meier Survival Curves [All features]\")\n",
    "plt.xlabel(\"Time (days)\")\n",
    "plt.ylabel(\"Survival Probability\")\n",
    "plt.legend()\n",
    "plt.show()"
   ]
  },
  {
   "cell_type": "code",
   "execution_count": 138,
   "metadata": {},
   "outputs": [
    {
     "name": "stderr",
     "output_type": "stream",
     "text": [
      "/opt/anaconda3/envs/project1/lib/python3.11/site-packages/lifelines/fitters/kaplan_meier_fitter.py:338: StatisticalWarning: It looks like your weights are not integers, possibly propensity scores then?\n",
      "  It's important to know that the naive variance estimates of the coefficients are biased. Instead use Monte Carlo to\n",
      "  estimate the variances. See paper \"Variance estimation when using inverse probability of treatment weighting (IPTW) with survival analysis\"\n",
      "  or \"Adjusted Kaplan-Meier estimator and log-rank test with inverse probability of treatment weighting for survival data.\"\n",
      "                  \n",
      "  warnings.warn(\n",
      "/opt/anaconda3/envs/project1/lib/python3.11/site-packages/lifelines/fitters/kaplan_meier_fitter.py:338: StatisticalWarning: It looks like your weights are not integers, possibly propensity scores then?\n",
      "  It's important to know that the naive variance estimates of the coefficients are biased. Instead use Monte Carlo to\n",
      "  estimate the variances. See paper \"Variance estimation when using inverse probability of treatment weighting (IPTW) with survival analysis\"\n",
      "  or \"Adjusted Kaplan-Meier estimator and log-rank test with inverse probability of treatment weighting for survival data.\"\n",
      "                  \n",
      "  warnings.warn(\n"
     ]
    },
    {
     "data": {
      "image/png": "[encoded data removed]",
      "text/plain": [
       "<Figure size 800x600 with 1 Axes>"
      ]
     },
     "metadata": {},
     "output_type": "display_data"
    }
   ],
   "source": [
    "confounders = ['iabp_tcr']\n",
    "\n",
    "# Step 1: Estimate Propensity Score\n",
    "logit = LogisticRegression(max_iter=3000)\n",
    "logit.fit(UNOS_data[confounders], UNOS_data['vad_while_listed'])\n",
    "UNOS_data['propensity_score'] = logit.predict_proba(UNOS_data[confounders])[:, 1]\n",
    "\n",
    "# Step 2: Compute Inverse Probability Weights (IPW)\n",
    "UNOS_data['ipw'] = np.where(UNOS_data['vad_while_listed'] == 1, \n",
    "                     1 / UNOS_data['propensity_score'], \n",
    "                     1 / (1 - UNOS_data['propensity_score']))\n",
    "\n",
    "# Step 3: Fit Kaplan-Meier with Weights\n",
    "kmf_vad = KaplanMeierFitter()\n",
    "kmf_no_vad = KaplanMeierFitter()\n",
    "\n",
    "plt.figure(figsize=(8, 6))\n",
    "\n",
    "# Fit and plot for VAD group\n",
    "kmf_vad.fit(UNOS_data.loc[UNOS_data['vad_while_listed'] == 1, 'Survival Time'], \n",
    "            UNOS_data.loc[UNOS_data['vad_while_listed'] == 1, 'death_event'], \n",
    "            weights=UNOS_data.loc[UNOS_data['vad_while_listed'] == 1, 'ipw'])\n",
    "kmf_vad.plot_survival_function(label=\"VAD vad_while_listed\", ci_show=True)\n",
    "\n",
    "# Fit and plot for No-VAD group\n",
    "kmf_no_vad.fit(UNOS_data.loc[UNOS_data['vad_while_listed'] == 0, 'Survival Time'], \n",
    "               UNOS_data.loc[UNOS_data['vad_while_listed'] == 0, 'death_event'], \n",
    "               weights=UNOS_data.loc[UNOS_data['vad_while_listed'] == 0, 'ipw'])\n",
    "kmf_no_vad.plot_survival_function(label=\"No VAD Support\", ci_show=True)\n",
    "\n",
    "plt.title(\"Propensity-Weighted Kaplan-Meier Survival Curves\")\n",
    "plt.xlabel(\"Time (days)\")\n",
    "plt.ylabel(\"Survival Probability\")\n",
    "plt.legend()\n",
    "plt.show()"
   ]
  },
  {
   "cell_type": "markdown",
   "metadata": {},
   "source": [
    "## Task 1.4"
   ]
  },
  {
   "cell_type": "code",
   "execution_count": 139,
   "metadata": {},
   "outputs": [],
   "source": [
    "def statistics_at_j_weighted(df, time, column_of_interest='vad_while_listed'):\n",
    "    # Patients at risk at time j\n",
    "    at_risk_at_j = df[df['Survival Time'] >= time]\n",
    "    nt_j = at_risk_at_j['ipw'].sum()  # Weighted count of at-risk patients\n",
    "    nt_j_1 = at_risk_at_j.loc[at_risk_at_j[column_of_interest] == 1, 'ipw'].sum()\n",
    "    nt_j_0 = at_risk_at_j.loc[at_risk_at_j[column_of_interest] == 0, 'ipw'].sum()\n",
    "\n",
    "    # Patients with events at time j\n",
    "    events_at_j = df[(df['Survival Time'] == time) & (df['Censor (Censor = 1)'] == 0)]\n",
    "    dt_j = events_at_j['ipw'].sum()  # Weighted count of events\n",
    "    dt_j_1 = events_at_j.loc[events_at_j[column_of_interest] == 1, 'ipw'].sum()\n",
    "\n",
    "    # Compute expected events and variance using weights\n",
    "    e_j = (nt_j_1 / nt_j) * dt_j if nt_j > 0 else 0\n",
    "    v_j = (nt_j_0 * nt_j_1 * dt_j * (nt_j - dt_j)) / (nt_j**2 * (nt_j - 1)) if nt_j > 1 else 0\n",
    "\n",
    "    return e_j, v_j, dt_j_1\n",
    "\n",
    "def log_rank_statistic_weighted(df, column_of_interest='vad_while_listed'):\n",
    "    \"\"\"Compute the IPTW-adjusted Log-Rank test statistic.\"\"\"\n",
    "    times = np.sort(df[df['Censor (Censor = 1)'] == 0]['Survival Time'].unique())\n",
    "    numerator = 0 \n",
    "    sq_denominator = 0\n",
    "\n",
    "    for time in times:\n",
    "        e_j, v_j, dt_j_1 = statistics_at_j_weighted(df, time, column_of_interest)\n",
    "        numerator += (dt_j_1 - e_j)\n",
    "        sq_denominator += v_j\n",
    "\n",
    "    log_rank_statistic = numerator / math.sqrt(sq_denominator) if sq_denominator > 0 else 0\n",
    "    return log_rank_statistic  "
   ]
  },
  {
   "cell_type": "code",
   "execution_count": 140,
   "metadata": {},
   "outputs": [
    {
     "name": "stdout",
     "output_type": "stream",
     "text": [
      "28.79855301555256\n"
     ]
    }
   ],
   "source": [
    "statistic = log_rank_statistic_weighted(UNOS_data)\n",
    "print(statistic)"
   ]
  },
  {
   "cell_type": "code",
   "execution_count": 141,
   "metadata": {},
   "outputs": [
    {
     "name": "stdout",
     "output_type": "stream",
     "text": [
      "0.0\n"
     ]
    }
   ],
   "source": [
    "p_value = 2* (1-scipy.stats.norm.cdf(statistic))\n",
    "\n",
    "print(p_value)"
   ]
  },
  {
   "cell_type": "markdown",
   "metadata": {},
   "source": [
    "# Part 2"
   ]
  },
  {
   "cell_type": "code",
   "execution_count": 200,
   "metadata": {},
   "outputs": [],
   "source": [
    "ist_df = pd.read_csv(\"/Users/natalia/Documents/CPH200b/cph-200b-project1/project2/data/IST/IST_observational.csv\")"
   ]
  },
  {
   "cell_type": "code",
   "execution_count": 201,
   "metadata": {},
   "outputs": [
    {
     "data": {
      "text/html": [
       "<div>\n",
       "<style scoped>\n",
       "    .dataframe tbody tr th:only-of-type {\n",
       "        vertical-align: middle;\n",
       "    }\n",
       "\n",
       "    .dataframe tbody tr th {\n",
       "        vertical-align: top;\n",
       "    }\n",
       "\n",
       "    .dataframe thead th {\n",
       "        text-align: right;\n",
       "    }\n",
       "</style>\n",
       "<table border=\"1\" class=\"dataframe\">\n",
       "  <thead>\n",
       "    <tr style=\"text-align: right;\">\n",
       "      <th></th>\n",
       "      <th>Unnamed: 0</th>\n",
       "      <th>HOSPNUM</th>\n",
       "      <th>RDELAY</th>\n",
       "      <th>RCONSC</th>\n",
       "      <th>SEX</th>\n",
       "      <th>AGE</th>\n",
       "      <th>RSLEEP</th>\n",
       "      <th>RATRIAL</th>\n",
       "      <th>RCT</th>\n",
       "      <th>RVISINF</th>\n",
       "      <th>...</th>\n",
       "      <th>H14</th>\n",
       "      <th>ISC14</th>\n",
       "      <th>NK14</th>\n",
       "      <th>STRK14</th>\n",
       "      <th>HTI14</th>\n",
       "      <th>PE14</th>\n",
       "      <th>DVT14</th>\n",
       "      <th>TRAN14</th>\n",
       "      <th>NCB14</th>\n",
       "      <th>include</th>\n",
       "    </tr>\n",
       "  </thead>\n",
       "  <tbody>\n",
       "    <tr>\n",
       "      <th>0</th>\n",
       "      <td>4</td>\n",
       "      <td>4</td>\n",
       "      <td>20</td>\n",
       "      <td>F</td>\n",
       "      <td>M</td>\n",
       "      <td>78</td>\n",
       "      <td>N</td>\n",
       "      <td>NaN</td>\n",
       "      <td>N</td>\n",
       "      <td>N</td>\n",
       "      <td>...</td>\n",
       "      <td>0</td>\n",
       "      <td>0</td>\n",
       "      <td>0</td>\n",
       "      <td>0</td>\n",
       "      <td>0</td>\n",
       "      <td>0</td>\n",
       "      <td>0</td>\n",
       "      <td>0</td>\n",
       "      <td>0</td>\n",
       "      <td>1</td>\n",
       "    </tr>\n",
       "    <tr>\n",
       "      <th>1</th>\n",
       "      <td>7</td>\n",
       "      <td>1</td>\n",
       "      <td>24</td>\n",
       "      <td>F</td>\n",
       "      <td>M</td>\n",
       "      <td>23</td>\n",
       "      <td>N</td>\n",
       "      <td>NaN</td>\n",
       "      <td>Y</td>\n",
       "      <td>N</td>\n",
       "      <td>...</td>\n",
       "      <td>0</td>\n",
       "      <td>0</td>\n",
       "      <td>0</td>\n",
       "      <td>0</td>\n",
       "      <td>0</td>\n",
       "      <td>0</td>\n",
       "      <td>0</td>\n",
       "      <td>0</td>\n",
       "      <td>0</td>\n",
       "      <td>1</td>\n",
       "    </tr>\n",
       "    <tr>\n",
       "      <th>2</th>\n",
       "      <td>13</td>\n",
       "      <td>1</td>\n",
       "      <td>12</td>\n",
       "      <td>F</td>\n",
       "      <td>F</td>\n",
       "      <td>86</td>\n",
       "      <td>Y</td>\n",
       "      <td>NaN</td>\n",
       "      <td>Y</td>\n",
       "      <td>N</td>\n",
       "      <td>...</td>\n",
       "      <td>0</td>\n",
       "      <td>0</td>\n",
       "      <td>0</td>\n",
       "      <td>0</td>\n",
       "      <td>0</td>\n",
       "      <td>0</td>\n",
       "      <td>0</td>\n",
       "      <td>0</td>\n",
       "      <td>0</td>\n",
       "      <td>1</td>\n",
       "    </tr>\n",
       "    <tr>\n",
       "      <th>3</th>\n",
       "      <td>19</td>\n",
       "      <td>6</td>\n",
       "      <td>4</td>\n",
       "      <td>F</td>\n",
       "      <td>M</td>\n",
       "      <td>74</td>\n",
       "      <td>N</td>\n",
       "      <td>NaN</td>\n",
       "      <td>N</td>\n",
       "      <td>N</td>\n",
       "      <td>...</td>\n",
       "      <td>0</td>\n",
       "      <td>0</td>\n",
       "      <td>0</td>\n",
       "      <td>0</td>\n",
       "      <td>0</td>\n",
       "      <td>0</td>\n",
       "      <td>0</td>\n",
       "      <td>0</td>\n",
       "      <td>0</td>\n",
       "      <td>1</td>\n",
       "    </tr>\n",
       "    <tr>\n",
       "      <th>4</th>\n",
       "      <td>24</td>\n",
       "      <td>1</td>\n",
       "      <td>17</td>\n",
       "      <td>F</td>\n",
       "      <td>M</td>\n",
       "      <td>57</td>\n",
       "      <td>N</td>\n",
       "      <td>NaN</td>\n",
       "      <td>N</td>\n",
       "      <td>N</td>\n",
       "      <td>...</td>\n",
       "      <td>0</td>\n",
       "      <td>0</td>\n",
       "      <td>0</td>\n",
       "      <td>0</td>\n",
       "      <td>0</td>\n",
       "      <td>0</td>\n",
       "      <td>0</td>\n",
       "      <td>0</td>\n",
       "      <td>0</td>\n",
       "      <td>1</td>\n",
       "    </tr>\n",
       "    <tr>\n",
       "      <th>...</th>\n",
       "      <td>...</td>\n",
       "      <td>...</td>\n",
       "      <td>...</td>\n",
       "      <td>...</td>\n",
       "      <td>...</td>\n",
       "      <td>...</td>\n",
       "      <td>...</td>\n",
       "      <td>...</td>\n",
       "      <td>...</td>\n",
       "      <td>...</td>\n",
       "      <td>...</td>\n",
       "      <td>...</td>\n",
       "      <td>...</td>\n",
       "      <td>...</td>\n",
       "      <td>...</td>\n",
       "      <td>...</td>\n",
       "      <td>...</td>\n",
       "      <td>...</td>\n",
       "      <td>...</td>\n",
       "      <td>...</td>\n",
       "      <td>...</td>\n",
       "    </tr>\n",
       "    <tr>\n",
       "      <th>4759</th>\n",
       "      <td>19407</td>\n",
       "      <td>242</td>\n",
       "      <td>6</td>\n",
       "      <td>F</td>\n",
       "      <td>F</td>\n",
       "      <td>85</td>\n",
       "      <td>N</td>\n",
       "      <td>N</td>\n",
       "      <td>Y</td>\n",
       "      <td>N</td>\n",
       "      <td>...</td>\n",
       "      <td>0</td>\n",
       "      <td>0</td>\n",
       "      <td>0</td>\n",
       "      <td>0</td>\n",
       "      <td>0</td>\n",
       "      <td>0</td>\n",
       "      <td>0</td>\n",
       "      <td>0</td>\n",
       "      <td>0</td>\n",
       "      <td>1</td>\n",
       "    </tr>\n",
       "    <tr>\n",
       "      <th>4760</th>\n",
       "      <td>19411</td>\n",
       "      <td>5</td>\n",
       "      <td>6</td>\n",
       "      <td>D</td>\n",
       "      <td>M</td>\n",
       "      <td>71</td>\n",
       "      <td>N</td>\n",
       "      <td>N</td>\n",
       "      <td>Y</td>\n",
       "      <td>N</td>\n",
       "      <td>...</td>\n",
       "      <td>1</td>\n",
       "      <td>0</td>\n",
       "      <td>0</td>\n",
       "      <td>1</td>\n",
       "      <td>0</td>\n",
       "      <td>0</td>\n",
       "      <td>0</td>\n",
       "      <td>0</td>\n",
       "      <td>0</td>\n",
       "      <td>1</td>\n",
       "    </tr>\n",
       "    <tr>\n",
       "      <th>4761</th>\n",
       "      <td>19417</td>\n",
       "      <td>144</td>\n",
       "      <td>45</td>\n",
       "      <td>F</td>\n",
       "      <td>M</td>\n",
       "      <td>71</td>\n",
       "      <td>N</td>\n",
       "      <td>N</td>\n",
       "      <td>Y</td>\n",
       "      <td>N</td>\n",
       "      <td>...</td>\n",
       "      <td>0</td>\n",
       "      <td>0</td>\n",
       "      <td>0</td>\n",
       "      <td>0</td>\n",
       "      <td>0</td>\n",
       "      <td>0</td>\n",
       "      <td>0</td>\n",
       "      <td>0</td>\n",
       "      <td>0</td>\n",
       "      <td>1</td>\n",
       "    </tr>\n",
       "    <tr>\n",
       "      <th>4762</th>\n",
       "      <td>19419</td>\n",
       "      <td>38</td>\n",
       "      <td>4</td>\n",
       "      <td>F</td>\n",
       "      <td>F</td>\n",
       "      <td>81</td>\n",
       "      <td>N</td>\n",
       "      <td>N</td>\n",
       "      <td>N</td>\n",
       "      <td>N</td>\n",
       "      <td>...</td>\n",
       "      <td>0</td>\n",
       "      <td>0</td>\n",
       "      <td>0</td>\n",
       "      <td>0</td>\n",
       "      <td>0</td>\n",
       "      <td>0</td>\n",
       "      <td>0</td>\n",
       "      <td>0</td>\n",
       "      <td>0</td>\n",
       "      <td>1</td>\n",
       "    </tr>\n",
       "    <tr>\n",
       "      <th>4763</th>\n",
       "      <td>19424</td>\n",
       "      <td>70</td>\n",
       "      <td>9</td>\n",
       "      <td>F</td>\n",
       "      <td>F</td>\n",
       "      <td>86</td>\n",
       "      <td>N</td>\n",
       "      <td>Y</td>\n",
       "      <td>N</td>\n",
       "      <td>N</td>\n",
       "      <td>...</td>\n",
       "      <td>0</td>\n",
       "      <td>0</td>\n",
       "      <td>0</td>\n",
       "      <td>0</td>\n",
       "      <td>0</td>\n",
       "      <td>0</td>\n",
       "      <td>0</td>\n",
       "      <td>0</td>\n",
       "      <td>0</td>\n",
       "      <td>1</td>\n",
       "    </tr>\n",
       "  </tbody>\n",
       "</table>\n",
       "<p>4764 rows × 114 columns</p>\n",
       "</div>"
      ],
      "text/plain": [
       "      Unnamed: 0  HOSPNUM  RDELAY RCONSC SEX  AGE RSLEEP RATRIAL RCT RVISINF  \\\n",
       "0              4        4      20      F   M   78      N     NaN   N       N   \n",
       "1              7        1      24      F   M   23      N     NaN   Y       N   \n",
       "2             13        1      12      F   F   86      Y     NaN   Y       N   \n",
       "3             19        6       4      F   M   74      N     NaN   N       N   \n",
       "4             24        1      17      F   M   57      N     NaN   N       N   \n",
       "...          ...      ...     ...    ...  ..  ...    ...     ...  ..     ...   \n",
       "4759       19407      242       6      F   F   85      N       N   Y       N   \n",
       "4760       19411        5       6      D   M   71      N       N   Y       N   \n",
       "4761       19417      144      45      F   M   71      N       N   Y       N   \n",
       "4762       19419       38       4      F   F   81      N       N   N       N   \n",
       "4763       19424       70       9      F   F   86      N       Y   N       N   \n",
       "\n",
       "      ... H14 ISC14  NK14 STRK14 HTI14 PE14 DVT14 TRAN14 NCB14 include  \n",
       "0     ...   0     0     0      0     0    0     0      0     0       1  \n",
       "1     ...   0     0     0      0     0    0     0      0     0       1  \n",
       "2     ...   0     0     0      0     0    0     0      0     0       1  \n",
       "3     ...   0     0     0      0     0    0     0      0     0       1  \n",
       "4     ...   0     0     0      0     0    0     0      0     0       1  \n",
       "...   ...  ..   ...   ...    ...   ...  ...   ...    ...   ...     ...  \n",
       "4759  ...   0     0     0      0     0    0     0      0     0       1  \n",
       "4760  ...   1     0     0      1     0    0     0      0     0       1  \n",
       "4761  ...   0     0     0      0     0    0     0      0     0       1  \n",
       "4762  ...   0     0     0      0     0    0     0      0     0       1  \n",
       "4763  ...   0     0     0      0     0    0     0      0     0       1  \n",
       "\n",
       "[4764 rows x 114 columns]"
      ]
     },
     "execution_count": 201,
     "metadata": {},
     "output_type": "execute_result"
    }
   ],
   "source": [
    "ist_df"
   ]
  },
  {
   "cell_type": "markdown",
   "metadata": {},
   "source": [
    "## Part 2.1"
   ]
  },
  {
   "cell_type": "code",
   "execution_count": null,
   "metadata": {},
   "outputs": [],
   "source": [
    "# variable for death 14 days = ID14\n",
    "# variable for aspirin randomization = RXASP\n",
    "# variable for heparin randomization = RXHEP (N is no, others are different doses)"
   ]
  },
  {
   "cell_type": "code",
   "execution_count": 202,
   "metadata": {},
   "outputs": [
    {
     "data": {
      "text/plain": [
       "ID14\n",
       "0    4221\n",
       "1     543\n",
       "Name: count, dtype: int64"
      ]
     },
     "execution_count": 202,
     "metadata": {},
     "output_type": "execute_result"
    }
   ],
   "source": [
    "ist_df['ID14'].value_counts()"
   ]
  },
  {
   "cell_type": "code",
   "execution_count": 169,
   "metadata": {},
   "outputs": [],
   "source": [
    "def difference_in_means(df, column):\n",
    "    treated = df[df[column]!='N']\n",
    "    mean_treated = len(treated[treated['ID14']==1])/len(treated)\n",
    "    print(mean_treated)\n",
    "    non_treated = df[df[column]=='N']\n",
    "\n",
    "    mean_non_treated= len(non_treated[non_treated['ID14']==1])/len(non_treated)\n",
    "    print(mean_non_treated)\n",
    "    return mean_non_treated-mean_treated"
   ]
  },
  {
   "cell_type": "code",
   "execution_count": 203,
   "metadata": {},
   "outputs": [
    {
     "name": "stdout",
     "output_type": "stream",
     "text": [
      "0.09126984126984126\n",
      "0.12453874538745388\n"
     ]
    },
    {
     "data": {
      "text/plain": [
       "0.033268904117612616"
      ]
     },
     "execution_count": 203,
     "metadata": {},
     "output_type": "execute_result"
    }
   ],
   "source": [
    "difference_in_means(ist_df, 'RXASP')"
   ]
  },
  {
   "cell_type": "code",
   "execution_count": 204,
   "metadata": {},
   "outputs": [
    {
     "name": "stdout",
     "output_type": "stream",
     "text": [
      "0.11036508602601762\n",
      "0.11759764804703907\n"
     ]
    },
    {
     "data": {
      "text/plain": [
       "0.007232562021021446"
      ]
     },
     "execution_count": 204,
     "metadata": {},
     "output_type": "execute_result"
    }
   ],
   "source": [
    "difference_in_means(ist_df, 'RXHEP')"
   ]
  },
  {
   "cell_type": "code",
   "execution_count": 205,
   "metadata": {},
   "outputs": [
    {
     "name": "stdout",
     "output_type": "stream",
     "text": [
      "0.11759764804703907\n",
      "0.09422750424448217\n",
      "0.023370143802556892\n",
      "0.12614107883817427\n",
      "-0.008543430791135204\n"
     ]
    }
   ],
   "source": [
    "column = 'RXHEP'\n",
    "\n",
    "non_treated = ist_df[ist_df[column]=='N']\n",
    "mean_non_treated= len(non_treated[non_treated['ID14']==1])/len(non_treated)\n",
    "print(mean_non_treated)\n",
    "\n",
    "treated = ist_df[ist_df[column] == 'L']\n",
    "mean_treated = len(treated[treated['ID14']==1])/len(treated)\n",
    "print(mean_treated)\n",
    "print(mean_non_treated-mean_treated)\n",
    "\n",
    "treated = ist_df[ist_df[column].isin(['H', 'M'])]\n",
    "mean_treated = len(treated[treated['ID14']==1])/len(treated)\n",
    "print(mean_treated)\n",
    "print(mean_non_treated-mean_treated)\n"
   ]
  },
  {
   "cell_type": "markdown",
   "metadata": {},
   "source": [
    "## Part 2.2"
   ]
  },
  {
   "cell_type": "code",
   "execution_count": 382,
   "metadata": {},
   "outputs": [],
   "source": [
    "from sklearn.ensemble import GradientBoostingClassifier, GradientBoostingRegressor\n",
    "from sklearn.preprocessing import LabelEncoder\n"
   ]
  },
  {
   "cell_type": "code",
   "execution_count": 209,
   "metadata": {},
   "outputs": [],
   "source": [
    "\n",
    "def preprocess_dataframe(df: pd.DataFrame) -> pd.DataFrame:\n",
    "    label_encoders = {}\n",
    "    for column in df.columns:\n",
    "        if df[column].dtype == 'object':  # Check if the column contains strings\n",
    "            le = LabelEncoder()\n",
    "            df[column] = le.fit_transform(df[column].astype(str))  # Convert to string then encode\n",
    "            label_encoders[column] = le  # Store encoder in case inverse transform is needed\n",
    "    \n",
    "    return df"
   ]
  },
  {
   "cell_type": "code",
   "execution_count": 300,
   "metadata": {},
   "outputs": [
    {
     "name": "stderr",
     "output_type": "stream",
     "text": [
      "/var/folders/zv/fpk7tffn5dd3nvq2jc4mp9m80000gn/T/ipykernel_1457/869983922.py:6: SettingWithCopyWarning: \n",
      "A value is trying to be set on a copy of a slice from a DataFrame.\n",
      "Try using .loc[row_indexer,col_indexer] = value instead\n",
      "\n",
      "See the caveats in the documentation: https://pandas.pydata.org/pandas-docs/stable/user_guide/indexing.html#returning-a-view-versus-a-copy\n",
      "  df[column] = le.fit_transform(df[column].astype(str))  # Convert to string then encode\n",
      "/var/folders/zv/fpk7tffn5dd3nvq2jc4mp9m80000gn/T/ipykernel_1457/869983922.py:6: SettingWithCopyWarning: \n",
      "A value is trying to be set on a copy of a slice from a DataFrame.\n",
      "Try using .loc[row_indexer,col_indexer] = value instead\n",
      "\n",
      "See the caveats in the documentation: https://pandas.pydata.org/pandas-docs/stable/user_guide/indexing.html#returning-a-view-versus-a-copy\n",
      "  df[column] = le.fit_transform(df[column].astype(str))  # Convert to string then encode\n",
      "/var/folders/zv/fpk7tffn5dd3nvq2jc4mp9m80000gn/T/ipykernel_1457/869983922.py:6: SettingWithCopyWarning: \n",
      "A value is trying to be set on a copy of a slice from a DataFrame.\n",
      "Try using .loc[row_indexer,col_indexer] = value instead\n",
      "\n",
      "See the caveats in the documentation: https://pandas.pydata.org/pandas-docs/stable/user_guide/indexing.html#returning-a-view-versus-a-copy\n",
      "  df[column] = le.fit_transform(df[column].astype(str))  # Convert to string then encode\n",
      "/var/folders/zv/fpk7tffn5dd3nvq2jc4mp9m80000gn/T/ipykernel_1457/869983922.py:6: SettingWithCopyWarning: \n",
      "A value is trying to be set on a copy of a slice from a DataFrame.\n",
      "Try using .loc[row_indexer,col_indexer] = value instead\n",
      "\n",
      "See the caveats in the documentation: https://pandas.pydata.org/pandas-docs/stable/user_guide/indexing.html#returning-a-view-versus-a-copy\n",
      "  df[column] = le.fit_transform(df[column].astype(str))  # Convert to string then encode\n",
      "/var/folders/zv/fpk7tffn5dd3nvq2jc4mp9m80000gn/T/ipykernel_1457/869983922.py:6: SettingWithCopyWarning: \n",
      "A value is trying to be set on a copy of a slice from a DataFrame.\n",
      "Try using .loc[row_indexer,col_indexer] = value instead\n",
      "\n",
      "See the caveats in the documentation: https://pandas.pydata.org/pandas-docs/stable/user_guide/indexing.html#returning-a-view-versus-a-copy\n",
      "  df[column] = le.fit_transform(df[column].astype(str))  # Convert to string then encode\n",
      "/var/folders/zv/fpk7tffn5dd3nvq2jc4mp9m80000gn/T/ipykernel_1457/869983922.py:6: SettingWithCopyWarning: \n",
      "A value is trying to be set on a copy of a slice from a DataFrame.\n",
      "Try using .loc[row_indexer,col_indexer] = value instead\n",
      "\n",
      "See the caveats in the documentation: https://pandas.pydata.org/pandas-docs/stable/user_guide/indexing.html#returning-a-view-versus-a-copy\n",
      "  df[column] = le.fit_transform(df[column].astype(str))  # Convert to string then encode\n",
      "/var/folders/zv/fpk7tffn5dd3nvq2jc4mp9m80000gn/T/ipykernel_1457/869983922.py:6: SettingWithCopyWarning: \n",
      "A value is trying to be set on a copy of a slice from a DataFrame.\n",
      "Try using .loc[row_indexer,col_indexer] = value instead\n",
      "\n",
      "See the caveats in the documentation: https://pandas.pydata.org/pandas-docs/stable/user_guide/indexing.html#returning-a-view-versus-a-copy\n",
      "  df[column] = le.fit_transform(df[column].astype(str))  # Convert to string then encode\n",
      "/var/folders/zv/fpk7tffn5dd3nvq2jc4mp9m80000gn/T/ipykernel_1457/869983922.py:6: SettingWithCopyWarning: \n",
      "A value is trying to be set on a copy of a slice from a DataFrame.\n",
      "Try using .loc[row_indexer,col_indexer] = value instead\n",
      "\n",
      "See the caveats in the documentation: https://pandas.pydata.org/pandas-docs/stable/user_guide/indexing.html#returning-a-view-versus-a-copy\n",
      "  df[column] = le.fit_transform(df[column].astype(str))  # Convert to string then encode\n",
      "/var/folders/zv/fpk7tffn5dd3nvq2jc4mp9m80000gn/T/ipykernel_1457/869983922.py:6: SettingWithCopyWarning: \n",
      "A value is trying to be set on a copy of a slice from a DataFrame.\n",
      "Try using .loc[row_indexer,col_indexer] = value instead\n",
      "\n",
      "See the caveats in the documentation: https://pandas.pydata.org/pandas-docs/stable/user_guide/indexing.html#returning-a-view-versus-a-copy\n",
      "  df[column] = le.fit_transform(df[column].astype(str))  # Convert to string then encode\n",
      "/var/folders/zv/fpk7tffn5dd3nvq2jc4mp9m80000gn/T/ipykernel_1457/869983922.py:6: SettingWithCopyWarning: \n",
      "A value is trying to be set on a copy of a slice from a DataFrame.\n",
      "Try using .loc[row_indexer,col_indexer] = value instead\n",
      "\n",
      "See the caveats in the documentation: https://pandas.pydata.org/pandas-docs/stable/user_guide/indexing.html#returning-a-view-versus-a-copy\n",
      "  df[column] = le.fit_transform(df[column].astype(str))  # Convert to string then encode\n",
      "/var/folders/zv/fpk7tffn5dd3nvq2jc4mp9m80000gn/T/ipykernel_1457/869983922.py:6: SettingWithCopyWarning: \n",
      "A value is trying to be set on a copy of a slice from a DataFrame.\n",
      "Try using .loc[row_indexer,col_indexer] = value instead\n",
      "\n",
      "See the caveats in the documentation: https://pandas.pydata.org/pandas-docs/stable/user_guide/indexing.html#returning-a-view-versus-a-copy\n",
      "  df[column] = le.fit_transform(df[column].astype(str))  # Convert to string then encode\n",
      "/var/folders/zv/fpk7tffn5dd3nvq2jc4mp9m80000gn/T/ipykernel_1457/869983922.py:6: SettingWithCopyWarning: \n",
      "A value is trying to be set on a copy of a slice from a DataFrame.\n",
      "Try using .loc[row_indexer,col_indexer] = value instead\n",
      "\n",
      "See the caveats in the documentation: https://pandas.pydata.org/pandas-docs/stable/user_guide/indexing.html#returning-a-view-versus-a-copy\n",
      "  df[column] = le.fit_transform(df[column].astype(str))  # Convert to string then encode\n",
      "/var/folders/zv/fpk7tffn5dd3nvq2jc4mp9m80000gn/T/ipykernel_1457/869983922.py:6: SettingWithCopyWarning: \n",
      "A value is trying to be set on a copy of a slice from a DataFrame.\n",
      "Try using .loc[row_indexer,col_indexer] = value instead\n",
      "\n",
      "See the caveats in the documentation: https://pandas.pydata.org/pandas-docs/stable/user_guide/indexing.html#returning-a-view-versus-a-copy\n",
      "  df[column] = le.fit_transform(df[column].astype(str))  # Convert to string then encode\n",
      "/var/folders/zv/fpk7tffn5dd3nvq2jc4mp9m80000gn/T/ipykernel_1457/869983922.py:6: SettingWithCopyWarning: \n",
      "A value is trying to be set on a copy of a slice from a DataFrame.\n",
      "Try using .loc[row_indexer,col_indexer] = value instead\n",
      "\n",
      "See the caveats in the documentation: https://pandas.pydata.org/pandas-docs/stable/user_guide/indexing.html#returning-a-view-versus-a-copy\n",
      "  df[column] = le.fit_transform(df[column].astype(str))  # Convert to string then encode\n",
      "/var/folders/zv/fpk7tffn5dd3nvq2jc4mp9m80000gn/T/ipykernel_1457/869983922.py:6: SettingWithCopyWarning: \n",
      "A value is trying to be set on a copy of a slice from a DataFrame.\n",
      "Try using .loc[row_indexer,col_indexer] = value instead\n",
      "\n",
      "See the caveats in the documentation: https://pandas.pydata.org/pandas-docs/stable/user_guide/indexing.html#returning-a-view-versus-a-copy\n",
      "  df[column] = le.fit_transform(df[column].astype(str))  # Convert to string then encode\n",
      "/var/folders/zv/fpk7tffn5dd3nvq2jc4mp9m80000gn/T/ipykernel_1457/869983922.py:6: SettingWithCopyWarning: \n",
      "A value is trying to be set on a copy of a slice from a DataFrame.\n",
      "Try using .loc[row_indexer,col_indexer] = value instead\n",
      "\n",
      "See the caveats in the documentation: https://pandas.pydata.org/pandas-docs/stable/user_guide/indexing.html#returning-a-view-versus-a-copy\n",
      "  df[column] = le.fit_transform(df[column].astype(str))  # Convert to string then encode\n",
      "/var/folders/zv/fpk7tffn5dd3nvq2jc4mp9m80000gn/T/ipykernel_1457/869983922.py:6: SettingWithCopyWarning: \n",
      "A value is trying to be set on a copy of a slice from a DataFrame.\n",
      "Try using .loc[row_indexer,col_indexer] = value instead\n",
      "\n",
      "See the caveats in the documentation: https://pandas.pydata.org/pandas-docs/stable/user_guide/indexing.html#returning-a-view-versus-a-copy\n",
      "  df[column] = le.fit_transform(df[column].astype(str))  # Convert to string then encode\n"
     ]
    }
   ],
   "source": [
    "features = ['HOSPNUM', 'RDELAY','RCONSC','SEX','AGE','RSLEEP', 'RATRIAL', 'RCT','RVISINF', 'RHEP24', \n",
    "            'RASP3','RSBP','RDEF1', 'RDEF2', 'RDEF3', 'RDEF4', 'RDEF5', \n",
    "            'RDEF6', 'RDEF7', 'RDEF8', 'STYPE']\n",
    "\n",
    "df = ist_df.copy()\n",
    "df['RXHEP_binarized'] = np.where(df['RXHEP']=='N', 'N', 'Y')\n",
    "\n",
    "df['RXASP_int'] = np.where(df['RXASP']=='Y', 1, 0)\n",
    "df['RXHEP_binarized_int'] = np.where(df['RXHEP_binarized']=='Y', 1, 0)\n",
    "df[features] = preprocess_dataframe(df[features])\n",
    "\n"
   ]
  },
  {
   "cell_type": "code",
   "execution_count": 369,
   "metadata": {},
   "outputs": [],
   "source": [
    "def compute_ipw_weights(df, features, column):\n",
    "    # Step 1: Estimate Propensity Score\n",
    "    df = df.copy()\n",
    "    prop_model = GradientBoostingClassifier()\n",
    "    prop_model.fit(df[features], df[column])\n",
    "    propensity_score_col = f'propensity_score_{column}'\n",
    "    df[propensity_score_col] = prop_model.predict_proba(df[features])[:, 1]\n",
    "\n",
    "    # Step 2: Compute Inverse Probability Weights (IPW)\n",
    "    ipw_column = f'ipw_{column}'\n",
    "    df[ipw_column] = np.where(df[column] == 'Y', \n",
    "                        1 / df[propensity_score_col], \n",
    "                        1 / (1 - df[propensity_score_col]))\n",
    "\n",
    "    return df\n",
    "\n",
    "\n",
    "def ipw_estimator(df, column, ipw_column):\n",
    "    treated = df[df[column]!='N']\n",
    "    mean_treated =  np.average(treated['ID14'], weights=treated[ipw_column])\n",
    "    print(mean_treated)\n",
    "\n",
    "    non_treated = df[df[column]=='N']\n",
    "    mean_non_treated= np.average(non_treated['ID14'], weights=non_treated[ipw_column])\n",
    "    print(mean_non_treated)\n",
    "\n",
    "    return mean_non_treated-mean_treated"
   ]
  },
  {
   "cell_type": "code",
   "execution_count": 370,
   "metadata": {},
   "outputs": [
    {
     "name": "stdout",
     "output_type": "stream",
     "text": [
      "0.1127433200322076\n",
      "0.11529202725989429\n"
     ]
    },
    {
     "data": {
      "text/plain": [
       "np.float64(0.0025487072276866862)"
      ]
     },
     "execution_count": 370,
     "metadata": {},
     "output_type": "execute_result"
    }
   ],
   "source": [
    "column = 'RXASP'\n",
    "df = compute_ipw_weights(df,features, column)\n",
    "\n",
    "ipw_estimator(df, column, 'ipw_RXASP')"
   ]
  },
  {
   "cell_type": "code",
   "execution_count": 376,
   "metadata": {},
   "outputs": [
    {
     "data": {
      "text/plain": [
       "N    0.115292\n",
       "Y    0.112743\n",
       "dtype: float64"
      ]
     },
     "execution_count": 376,
     "metadata": {},
     "output_type": "execute_result"
    }
   ],
   "source": [
    "# as a sanity check\n",
    "\n",
    "learner = GradientBoostingClassifier()\n",
    "ipw = IPW(learner)\n",
    "ipw.fit(df[features], df['RXASP'])\n",
    "outcomes = ipw.estimate_population_outcome(df[features], df['RXASP'], df['ID14'])\n",
    "outcomes"
   ]
  },
  {
   "cell_type": "code",
   "execution_count": 371,
   "metadata": {},
   "outputs": [
    {
     "name": "stdout",
     "output_type": "stream",
     "text": [
      "0.11102245976742854\n",
      "0.11615103735260149\n"
     ]
    },
    {
     "data": {
      "text/plain": [
       "np.float64(0.005128577585172947)"
      ]
     },
     "execution_count": 371,
     "metadata": {},
     "output_type": "execute_result"
    }
   ],
   "source": [
    "column = 'RXHEP_binarized'\n",
    "df = compute_ipw_weights(df,features, column)\n",
    "\n",
    "ipw_estimator(df, 'RXHEP_binarized', 'ipw_RXHEP_binarized')"
   ]
  },
  {
   "cell_type": "code",
   "execution_count": 378,
   "metadata": {},
   "outputs": [
    {
     "data": {
      "text/plain": [
       "N    0.116151\n",
       "Y    0.111022\n",
       "dtype: float64"
      ]
     },
     "execution_count": 378,
     "metadata": {},
     "output_type": "execute_result"
    }
   ],
   "source": [
    "# as a sanity check\n",
    "\n",
    "learner = GradientBoostingClassifier()\n",
    "ipw = IPW(learner)\n",
    "ipw.fit(df[features], df['RXHEP_binarized'])\n",
    "outcomes = ipw.estimate_population_outcome(df[features], df['RXHEP_binarized'], df['ID14'])\n",
    "outcomes"
   ]
  },
  {
   "cell_type": "markdown",
   "metadata": {},
   "source": [
    "## Part 2.3"
   ]
  },
  {
   "cell_type": "code",
   "execution_count": 484,
   "metadata": {},
   "outputs": [],
   "source": [
    "\n",
    "def train_t_learner(df, features, column, no_treatment = 'N'):\n",
    "    # Split data into treatment and control groups\n",
    "    X = df[features]\n",
    "    treated = df[df[column]!=no_treatment]\n",
    "    X_treat, y_treat = treated[features], treated['ID14']\n",
    "\n",
    "    non_treated = df[df[column]==no_treatment]\n",
    "    X_control, y_control = non_treated[features], non_treated['ID14']\n",
    "\n",
    "    # Train separate models for each group\n",
    "    model_treat = GradientBoostingClassifier()\n",
    "    model_treat.fit(X_treat, y_treat)\n",
    "    model_control = GradientBoostingClassifier()\n",
    "    model_control.fit(X_control, y_control)\n",
    "\n",
    "    # Predict treatment effect: difference in predicted outcomes\n",
    "    tau_hat = model_control.predict(X) - model_treat.predict(X)\n",
    "    tau_hat_mean = tau_hat.mean()\n",
    "\n",
    "    return tau_hat_mean, tau_hat, model_treat, model_control"
   ]
  },
  {
   "cell_type": "code",
   "execution_count": 485,
   "metadata": {},
   "outputs": [
    {
     "data": {
      "text/plain": [
       "(np.float64(-0.018891687657430732),\n",
       " array([0, 0, 0, ..., 0, 0, 0]),\n",
       " GradientBoostingClassifier(),\n",
       " GradientBoostingClassifier())"
      ]
     },
     "execution_count": 485,
     "metadata": {},
     "output_type": "execute_result"
    }
   ],
   "source": [
    "column = 'RXASP'\n",
    "\n",
    "train_t_learner(df, features, column)"
   ]
  },
  {
   "cell_type": "code",
   "execution_count": 486,
   "metadata": {},
   "outputs": [
    {
     "data": {
      "text/plain": [
       "(np.float64(-0.0031486146095717885),\n",
       " array([0, 0, 0, ..., 0, 0, 0]),\n",
       " GradientBoostingClassifier(),\n",
       " GradientBoostingClassifier())"
      ]
     },
     "execution_count": 486,
     "metadata": {},
     "output_type": "execute_result"
    }
   ],
   "source": [
    "column = 'RXHEP_binarized'\n",
    "\n",
    "train_t_learner(df, features, column)"
   ]
  },
  {
   "cell_type": "code",
   "execution_count": 418,
   "metadata": {},
   "outputs": [],
   "source": [
    "def train_s_learner(df, features, column):\n",
    "    # Split data into treatment and control groups\n",
    "    X = df[features+[column]]\n",
    "    y_treat = df['ID14']\n",
    "\n",
    "    # Train separate models for each group\n",
    "    model = GradientBoostingClassifier().fit(X, y_treat)\n",
    "\n",
    "    X_pseudo_non_treat = X.copy()\n",
    "    X_pseudo_treat = X.copy()\n",
    "    X_pseudo_non_treat[column] = 0\n",
    "    X_pseudo_treat[column] = 1\n",
    "\n",
    "    # Predict treatment effect: difference in predicted outcomes\n",
    "    tau_hat_mean =  model.predict(X_pseudo_non_treat).mean() - model.predict(X_pseudo_treat).mean()\n",
    "\n",
    "    return tau_hat_mean"
   ]
  },
  {
   "cell_type": "code",
   "execution_count": 419,
   "metadata": {},
   "outputs": [
    {
     "data": {
      "text/plain": [
       "np.float64(0.004408060453400503)"
      ]
     },
     "execution_count": 419,
     "metadata": {},
     "output_type": "execute_result"
    }
   ],
   "source": [
    "column = 'RXASP_int'\n",
    "\n",
    "train_s_learner(df, features, column)"
   ]
  },
  {
   "cell_type": "code",
   "execution_count": 420,
   "metadata": {},
   "outputs": [
    {
     "data": {
      "text/plain": [
       "np.float64(0.0002099076406381177)"
      ]
     },
     "execution_count": 420,
     "metadata": {},
     "output_type": "execute_result"
    }
   ],
   "source": [
    "column = 'RXHEP_binarized_int'\n",
    "\n",
    "train_s_learner(df, features, column)"
   ]
  },
  {
   "cell_type": "code",
   "execution_count": 532,
   "metadata": {},
   "outputs": [],
   "source": [
    "def train_x_learner(df, features, column, no_treatment = 'N'):\n",
    "    X, treatment = df[features], df[column]\n",
    "    treated = df[df[column]!=no_treatment]\n",
    "    X_treat, y_treat = treated[features], treated['ID14']\n",
    "    non_treated = df[df[column]==no_treatment]\n",
    "    X_control, y_control = non_treated[features], non_treated['ID14']\n",
    "\n",
    "    # Step 1: Train T-Learner models\n",
    "    tau_hat_t_mean, tau_hat_t, model_treat, model_control = train_t_learner(df, features, column, no_treatment)\n",
    "    \n",
    "    # Step 2: Compute residuals\n",
    "    d_treat = y_treat - model_control.predict(X_treat)\n",
    "    d_control = model_treat.predict(X_control) - y_control\n",
    "\n",
    "    # Step 3: Train models to predict treatment effects\n",
    "    model_tau_treat = GradientBoostingRegressor().fit(X_treat, d_treat)\n",
    "    model_tau_control = GradientBoostingRegressor().fit(X_control, d_control)\n",
    "\n",
    "    # Step 4: Predict treatment effects for all patients\n",
    "    tau_hat_treat = model_tau_treat.predict(X)\n",
    "    tau_hat_control = model_tau_control.predict(X)\n",
    "\n",
    "    # Combine estimates (weighted average)\n",
    "    prop_scores = compute_ipw_weights(df,features, column)[f'propensity_score_{column}']\n",
    "    tau_hat = (prop_scores) * tau_hat_control + (1 - prop_scores) * tau_hat_treat\n",
    "\n",
    "    return tau_hat.mean()"
   ]
  },
  {
   "cell_type": "markdown",
   "metadata": {},
   "source": []
  },
  {
   "cell_type": "code",
   "execution_count": 533,
   "metadata": {},
   "outputs": [
    {
     "data": {
      "text/plain": [
       "np.float64(0.04802876714705703)"
      ]
     },
     "execution_count": 533,
     "metadata": {},
     "output_type": "execute_result"
    }
   ],
   "source": [
    "column = 'RXASP'\n",
    "\n",
    "train_x_learner(df, features, column, no_treatment='N')"
   ]
  },
  {
   "cell_type": "code",
   "execution_count": 534,
   "metadata": {},
   "outputs": [
    {
     "data": {
      "text/plain": [
       "diff    0.000737\n",
       "dtype: float64"
      ]
     },
     "execution_count": 534,
     "metadata": {},
     "output_type": "execute_result"
    }
   ],
   "source": [
    "#not sure why this does not match!\n",
    "\n",
    "from causallib.estimation import Standardization, StratifiedStandardization, XLearner\n",
    "\n",
    "column = 'RXASP_int'\n",
    "xlearner = XLearner(\n",
    "    outcome_model=StratifiedStandardization(GradientBoostingClassifier()),\n",
    "    effect_model=StratifiedStandardization(GradientBoostingRegressor()),\n",
    "    effect_types=\"diff\",\n",
    ")\n",
    "_ = xlearner.fit(df[features], df[column], df['ID14'])\n",
    "effect = xlearner.estimate_effect(df[features], df[column])  #\n",
    "\n",
    "effect"
   ]
  },
  {
   "cell_type": "code",
   "execution_count": 535,
   "metadata": {},
   "outputs": [
    {
     "data": {
      "text/plain": [
       "np.float64(-0.0019514886539288279)"
      ]
     },
     "execution_count": 535,
     "metadata": {},
     "output_type": "execute_result"
    }
   ],
   "source": [
    "column = 'RXHEP_binarized'\n",
    "\n",
    "train_x_learner(df, features, column)"
   ]
  },
  {
   "cell_type": "code",
   "execution_count": 536,
   "metadata": {},
   "outputs": [
    {
     "data": {
      "text/plain": [
       "diff   -0.007134\n",
       "dtype: float64"
      ]
     },
     "execution_count": 536,
     "metadata": {},
     "output_type": "execute_result"
    }
   ],
   "source": [
    "from causallib.estimation import Standardization, StratifiedStandardization, XLearner\n",
    "\n",
    "column = 'RXHEP_binarized_int'\n",
    "xlearner = XLearner(\n",
    "    outcome_model=StratifiedStandardization(GradientBoostingClassifier()),\n",
    "    effect_model=StratifiedStandardization(GradientBoostingRegressor()),\n",
    "    effect_types=\"diff\",\n",
    ")\n",
    "_ = xlearner.fit(df[features], df[column], df['ID14'])\n",
    "effect = xlearner.estimate_effect(df[features], df[column])  #\n",
    "\n",
    "effect"
   ]
  },
  {
   "cell_type": "markdown",
   "metadata": {},
   "source": [
    "## Part 2.4"
   ]
  },
  {
   "cell_type": "code",
   "execution_count": 456,
   "metadata": {},
   "outputs": [],
   "source": [
    "def augmented_ipw(df, features, column):\n",
    "    df = compute_ipw_weights(df, features, column)\n",
    "\n",
    "    outcome_model = GradientBoostingClassifier()\n",
    "    outcome_model.fit(df[features + [column]], df['ID14'])\n",
    "\n",
    "    # Predict counterfactual outcomes\n",
    "    X_treated = df[features].copy()\n",
    "    X_treated[column] = 1 \n",
    "    df['mu1'] = outcome_model.predict(X_treated)  # E[Y | X, T=1]\n",
    "\n",
    "    X_untreated = df[features].copy()\n",
    "    X_untreated[column] = 0  # Set treatment indicator to 0\n",
    "    df['mu0'] = outcome_model.predict(X_untreated)  # E[Y | X, T=0]\n",
    "\n",
    "    # Step 3: Compute AIPW estimate\n",
    "    treated = df[column] == 1\n",
    "    untreated = ~treated\n",
    "\n",
    "    # Compute doubly robust estimator\n",
    "    y = df['ID14']\n",
    "    aipw_treated = (treated * (y - df['mu1']) / df[f'propensity_score_{column}']) + df['mu1']\n",
    "    aipw_untreated = (untreated * (y - df['mu0']) / (1 - df[f'propensity_score_{column}'])) + df['mu0']\n",
    "\n",
    "    # Compute AIPW treatment effect estimate\n",
    "    aipw_estimate = np.mean(aipw_treated - aipw_untreated)\n",
    "\n",
    "    return aipw_estimate"
   ]
  },
  {
   "cell_type": "code",
   "execution_count": 457,
   "metadata": {},
   "outputs": [
    {
     "data": {
      "text/plain": [
       "np.float64(-0.006158955639216543)"
      ]
     },
     "execution_count": 457,
     "metadata": {},
     "output_type": "execute_result"
    }
   ],
   "source": [
    "column = 'RXASP_int'\n",
    "\n",
    "augmented_ipw(df, features, column)"
   ]
  },
  {
   "cell_type": "code",
   "execution_count": 465,
   "metadata": {},
   "outputs": [
    {
     "name": "stderr",
     "output_type": "stream",
     "text": [
      "/opt/anaconda3/envs/project1/lib/python3.11/site-packages/causallib/estimation/doubly_robust.py:268: FutureWarning: Setting an item of incompatible dtype is deprecated and will raise an error in a future version of pandas. Value '[0. 0. 0. ... 0. 0. 0.]' has dtype incompatible with int64, please explicitly cast to a compatible dtype first.\n",
      "  individual_cf.loc[a == treatment_value, treatment_value] = corrected_outcome.loc[a == treatment_value]\n",
      "/opt/anaconda3/envs/project1/lib/python3.11/site-packages/causallib/estimation/doubly_robust.py:268: FutureWarning: Setting an item of incompatible dtype is deprecated and will raise an error in a future version of pandas. Value '[0.         0.         1.46675718 ... 0.         0.         0.        ]' has dtype incompatible with int64, please explicitly cast to a compatible dtype first.\n",
      "  individual_cf.loc[a == treatment_value, treatment_value] = corrected_outcome.loc[a == treatment_value]\n"
     ]
    },
    {
     "data": {
      "text/plain": [
       "np.float64(-0.00636886327985467)"
      ]
     },
     "execution_count": 465,
     "metadata": {},
     "output_type": "execute_result"
    }
   ],
   "source": [
    "#sanity check\n",
    "\n",
    "from causallib.estimation import AIPW\n",
    "column = 'RXASP_int'\n",
    "\n",
    "ipw = IPW(GradientBoostingClassifier())\n",
    "std = Standardization(GradientBoostingClassifier())\n",
    "\n",
    "dr = AIPW(std, ipw)\n",
    "dr.fit(df[features], df[column], df['ID14'])\n",
    "pop_outcome = dr.estimate_population_outcome(df[features], df[column], df['ID14'])\n",
    "pop_outcome[1]-pop_outcome[0]"
   ]
  },
  {
   "cell_type": "code",
   "execution_count": 458,
   "metadata": {},
   "outputs": [
    {
     "data": {
      "text/plain": [
       "np.float64(-0.009281267914382963)"
      ]
     },
     "execution_count": 458,
     "metadata": {},
     "output_type": "execute_result"
    }
   ],
   "source": [
    "column = 'RXHEP_binarized_int'\n",
    "\n",
    "augmented_ipw(df, features, column)"
   ]
  },
  {
   "cell_type": "code",
   "execution_count": 464,
   "metadata": {},
   "outputs": [
    {
     "name": "stderr",
     "output_type": "stream",
     "text": [
      "/opt/anaconda3/envs/project1/lib/python3.11/site-packages/causallib/estimation/doubly_robust.py:268: FutureWarning: Setting an item of incompatible dtype is deprecated and will raise an error in a future version of pandas. Value '[0.        1.9397842 0.        ... 0.        0.        0.       ]' has dtype incompatible with int64, please explicitly cast to a compatible dtype first.\n",
      "  individual_cf.loc[a == treatment_value, treatment_value] = corrected_outcome.loc[a == treatment_value]\n",
      "/opt/anaconda3/envs/project1/lib/python3.11/site-packages/causallib/estimation/doubly_robust.py:268: FutureWarning: Setting an item of incompatible dtype is deprecated and will raise an error in a future version of pandas. Value '[0.        0.        0.        ... 0.        1.9112378 0.       ]' has dtype incompatible with int64, please explicitly cast to a compatible dtype first.\n",
      "  individual_cf.loc[a == treatment_value, treatment_value] = corrected_outcome.loc[a == treatment_value]\n"
     ]
    },
    {
     "data": {
      "text/plain": [
       "np.float64(-0.00907136027374486)"
      ]
     },
     "execution_count": 464,
     "metadata": {},
     "output_type": "execute_result"
    }
   ],
   "source": [
    "#sanity check\n",
    "\n",
    "from causallib.estimation import AIPW\n",
    "column = 'RXHEP_binarized_int'\n",
    "\n",
    "ipw = IPW(GradientBoostingClassifier())\n",
    "std = Standardization(GradientBoostingClassifier())\n",
    "\n",
    "dr = AIPW(std, ipw)\n",
    "dr.fit(df[features], df[column], df['ID14'])\n",
    "pop_outcome = dr.estimate_population_outcome(df[features], df[column], df['ID14'])\n",
    "pop_outcome[1]-pop_outcome[0]"
   ]
  },
  {
   "cell_type": "markdown",
   "metadata": {},
   "source": []
  },
  {
   "cell_type": "code",
   "execution_count": null,
   "metadata": {},
   "outputs": [],
   "source": []
  }
 ],
 "metadata": {
  "kernelspec": {
   "display_name": "project1",
   "language": "python",
   "name": "python3"
  },
  "language_info": {
   "codemirror_mode": {
    "name": "ipython",
    "version": 3
   },
   "file_extension": ".py",
   "mimetype": "text/x-python",
   "name": "python",
   "nbconvert_exporter": "python",
   "pygments_lexer": "ipython3",
   "version": "3.11.11"
  }
 },
 "nbformat": 4,
 "nbformat_minor": 2
}
