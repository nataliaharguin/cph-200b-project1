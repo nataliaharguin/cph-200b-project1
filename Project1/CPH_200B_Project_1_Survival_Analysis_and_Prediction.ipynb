{
  "cells": [
    {
      "cell_type": "markdown",
      "id": "27cc5509-75ad-4148-93b8-088b97ad1b17",
      "metadata": {
        "id": "27cc5509-75ad-4148-93b8-088b97ad1b17"
      },
      "source": [
        "<p align=center>\n",
        "<img src=\"assets/cphbanner.png\" width=1280>\n",
        "</p>"
      ]
    },
    {
      "cell_type": "markdown",
      "id": "2c79aea8-f578-4310-9e04-46fed86f21f1",
      "metadata": {
        "id": "2c79aea8-f578-4310-9e04-46fed86f21f1"
      },
      "source": [
        "# **Project 1: Survival Analysis and Prediction [30 points]**"
      ]
    },
    {
      "cell_type": "markdown",
      "id": "a9f62d3c-682e-44df-bda2-c04125cdb7a8",
      "metadata": {
        "id": "a9f62d3c-682e-44df-bda2-c04125cdb7a8"
      },
      "source": [
        "Many clinical trials and observational studies involve following patients for a long time. The primary event of\n",
        "interest in those studies may include death, relapse, or the onset of a new disease. The follow-up time for a trial\n",
        "or a study may range from few weeks to many years. To analyze this data, we typically conduct time-to-event\n",
        "analysis and build predictive models that learn time-to-event distributions. The goal of this project is to test\n",
        "your ability to conduct basic survival analyses as well as develop ML models for survival prediction."
      ]
    },
    {
      "cell_type": "markdown",
      "id": "345becba-b634-48c3-9130-b7071af5e878",
      "metadata": {
        "id": "345becba-b634-48c3-9130-b7071af5e878"
      },
      "source": [
        "**Please submit your report and code by <u> Tuesday 2/4 11:59 PST </u>.**"
      ]
    },
    {
      "cell_type": "markdown",
      "id": "03ac5b5a-a269-46be-bf9a-a300b535809f",
      "metadata": {
        "id": "03ac5b5a-a269-46be-bf9a-a300b535809f"
      },
      "source": [
        "## Task 1.1: Nonparametric Survival Analysis in Heart Failure [7 pts]\n",
        "\n",
        "Nonparametric models of survival data do not make parametric assumptions on the distribution of timeto-event outcomes. They are widely used in clinical studies to derive descriptive statistics of survival in a population. In this task, we will apply standard nonparametric estimators to analyze survival of heart failure patients in a recent, widely-recognized study [1]."
      ]
    },
    {
      "cell_type": "markdown",
      "id": "c0fdb3da-c55d-46a3-a277-82260a5b8298",
      "metadata": {
        "id": "c0fdb3da-c55d-46a3-a277-82260a5b8298"
      },
      "source": [
        "####  Setup and Dataset\n",
        "\n",
        "The dataset we will use in this task was extracted from the electronic health records (EHRs) of 299 heart failure patients from the Faisalabad Institute of Cardiology and at the Allied Hospital in Faisalabad (Punjab, Pakistan), during April–December 2015. The cohort included 105 women and 194 men, and their ages range between 40 and 95 years old. All 299 patients had left ventricular systolic dysfunction and had previous heart failures (HF) that put them in classes III or IV of New York Heart Association (NYHA) classification of the stages of heart failure. The dataset contains 13 features, which report clinical, body, and lifestyle information. The patients were followed up for 130 days on average (maximum follow-up period was 285 days). The event of interest was death during the follow-up period."
      ]
    },
    {
      "cell_type": "markdown",
      "id": "f1e3b06b-9959-4feb-8700-e22e2cee7918",
      "metadata": {
        "id": "f1e3b06b-9959-4feb-8700-e22e2cee7918"
      },
      "source": [
        "The dataset is publicly accessible and was shared with the class through UCSF Box. You can load the dataset in the directory \"./data\" and inspect all the features/outcomes using pandas as follows:"
      ]
    },
    {
      "cell_type": "code",
      "execution_count": 234,
      "id": "bc2e885c-2106-49c8-9bd9-979919e5efa6",
      "metadata": {
        "id": "bc2e885c-2106-49c8-9bd9-979919e5efa6"
      },
      "outputs": [],
      "source": [
        "import pandas as pd\n",
        "\n",
        "dataset = pd.read_csv(\"data/heart_failure_clinical_records_dataset.csv\")"
      ]
    },
    {
      "cell_type": "code",
      "execution_count": 235,
      "id": "c75d4409-6dc3-412d-b931-f4544b0353ce",
      "metadata": {
        "id": "c75d4409-6dc3-412d-b931-f4544b0353ce",
        "outputId": "9ab13dd2-b6e3-4968-e9f5-c60615d3bf31"
      },
      "outputs": [
        {
          "data": {
            "text/html": [
              "<div>\n",
              "<style scoped>\n",
              "    .dataframe tbody tr th:only-of-type {\n",
              "        vertical-align: middle;\n",
              "    }\n",
              "\n",
              "    .dataframe tbody tr th {\n",
              "        vertical-align: top;\n",
              "    }\n",
              "\n",
              "    .dataframe thead th {\n",
              "        text-align: right;\n",
              "    }\n",
              "</style>\n",
              "<table border=\"1\" class=\"dataframe\">\n",
              "  <thead>\n",
              "    <tr style=\"text-align: right;\">\n",
              "      <th></th>\n",
              "      <th>age</th>\n",
              "      <th>anaemia</th>\n",
              "      <th>creatinine_phosphokinase</th>\n",
              "      <th>diabetes</th>\n",
              "      <th>ejection_fraction</th>\n",
              "      <th>high_blood_pressure</th>\n",
              "      <th>platelets</th>\n",
              "      <th>serum_creatinine</th>\n",
              "      <th>serum_sodium</th>\n",
              "      <th>sex</th>\n",
              "      <th>smoking</th>\n",
              "      <th>time</th>\n",
              "      <th>DEATH_EVENT</th>\n",
              "    </tr>\n",
              "  </thead>\n",
              "  <tbody>\n",
              "    <tr>\n",
              "      <th>0</th>\n",
              "      <td>75.0</td>\n",
              "      <td>0</td>\n",
              "      <td>582</td>\n",
              "      <td>0</td>\n",
              "      <td>20</td>\n",
              "      <td>1</td>\n",
              "      <td>265000.00</td>\n",
              "      <td>1.9</td>\n",
              "      <td>130</td>\n",
              "      <td>1</td>\n",
              "      <td>0</td>\n",
              "      <td>4</td>\n",
              "      <td>1</td>\n",
              "    </tr>\n",
              "    <tr>\n",
              "      <th>1</th>\n",
              "      <td>55.0</td>\n",
              "      <td>0</td>\n",
              "      <td>7861</td>\n",
              "      <td>0</td>\n",
              "      <td>38</td>\n",
              "      <td>0</td>\n",
              "      <td>263358.03</td>\n",
              "      <td>1.1</td>\n",
              "      <td>136</td>\n",
              "      <td>1</td>\n",
              "      <td>0</td>\n",
              "      <td>6</td>\n",
              "      <td>1</td>\n",
              "    </tr>\n",
              "    <tr>\n",
              "      <th>2</th>\n",
              "      <td>65.0</td>\n",
              "      <td>0</td>\n",
              "      <td>146</td>\n",
              "      <td>0</td>\n",
              "      <td>20</td>\n",
              "      <td>0</td>\n",
              "      <td>162000.00</td>\n",
              "      <td>1.3</td>\n",
              "      <td>129</td>\n",
              "      <td>1</td>\n",
              "      <td>1</td>\n",
              "      <td>7</td>\n",
              "      <td>1</td>\n",
              "    </tr>\n",
              "    <tr>\n",
              "      <th>3</th>\n",
              "      <td>50.0</td>\n",
              "      <td>1</td>\n",
              "      <td>111</td>\n",
              "      <td>0</td>\n",
              "      <td>20</td>\n",
              "      <td>0</td>\n",
              "      <td>210000.00</td>\n",
              "      <td>1.9</td>\n",
              "      <td>137</td>\n",
              "      <td>1</td>\n",
              "      <td>0</td>\n",
              "      <td>7</td>\n",
              "      <td>1</td>\n",
              "    </tr>\n",
              "    <tr>\n",
              "      <th>4</th>\n",
              "      <td>65.0</td>\n",
              "      <td>1</td>\n",
              "      <td>160</td>\n",
              "      <td>1</td>\n",
              "      <td>20</td>\n",
              "      <td>0</td>\n",
              "      <td>327000.00</td>\n",
              "      <td>2.7</td>\n",
              "      <td>116</td>\n",
              "      <td>0</td>\n",
              "      <td>0</td>\n",
              "      <td>8</td>\n",
              "      <td>1</td>\n",
              "    </tr>\n",
              "    <tr>\n",
              "      <th>...</th>\n",
              "      <td>...</td>\n",
              "      <td>...</td>\n",
              "      <td>...</td>\n",
              "      <td>...</td>\n",
              "      <td>...</td>\n",
              "      <td>...</td>\n",
              "      <td>...</td>\n",
              "      <td>...</td>\n",
              "      <td>...</td>\n",
              "      <td>...</td>\n",
              "      <td>...</td>\n",
              "      <td>...</td>\n",
              "      <td>...</td>\n",
              "    </tr>\n",
              "    <tr>\n",
              "      <th>294</th>\n",
              "      <td>62.0</td>\n",
              "      <td>0</td>\n",
              "      <td>61</td>\n",
              "      <td>1</td>\n",
              "      <td>38</td>\n",
              "      <td>1</td>\n",
              "      <td>155000.00</td>\n",
              "      <td>1.1</td>\n",
              "      <td>143</td>\n",
              "      <td>1</td>\n",
              "      <td>1</td>\n",
              "      <td>270</td>\n",
              "      <td>0</td>\n",
              "    </tr>\n",
              "    <tr>\n",
              "      <th>295</th>\n",
              "      <td>55.0</td>\n",
              "      <td>0</td>\n",
              "      <td>1820</td>\n",
              "      <td>0</td>\n",
              "      <td>38</td>\n",
              "      <td>0</td>\n",
              "      <td>270000.00</td>\n",
              "      <td>1.2</td>\n",
              "      <td>139</td>\n",
              "      <td>0</td>\n",
              "      <td>0</td>\n",
              "      <td>271</td>\n",
              "      <td>0</td>\n",
              "    </tr>\n",
              "    <tr>\n",
              "      <th>296</th>\n",
              "      <td>45.0</td>\n",
              "      <td>0</td>\n",
              "      <td>2060</td>\n",
              "      <td>1</td>\n",
              "      <td>60</td>\n",
              "      <td>0</td>\n",
              "      <td>742000.00</td>\n",
              "      <td>0.8</td>\n",
              "      <td>138</td>\n",
              "      <td>0</td>\n",
              "      <td>0</td>\n",
              "      <td>278</td>\n",
              "      <td>0</td>\n",
              "    </tr>\n",
              "    <tr>\n",
              "      <th>297</th>\n",
              "      <td>45.0</td>\n",
              "      <td>0</td>\n",
              "      <td>2413</td>\n",
              "      <td>0</td>\n",
              "      <td>38</td>\n",
              "      <td>0</td>\n",
              "      <td>140000.00</td>\n",
              "      <td>1.4</td>\n",
              "      <td>140</td>\n",
              "      <td>1</td>\n",
              "      <td>1</td>\n",
              "      <td>280</td>\n",
              "      <td>0</td>\n",
              "    </tr>\n",
              "    <tr>\n",
              "      <th>298</th>\n",
              "      <td>50.0</td>\n",
              "      <td>0</td>\n",
              "      <td>196</td>\n",
              "      <td>0</td>\n",
              "      <td>45</td>\n",
              "      <td>0</td>\n",
              "      <td>395000.00</td>\n",
              "      <td>1.6</td>\n",
              "      <td>136</td>\n",
              "      <td>1</td>\n",
              "      <td>1</td>\n",
              "      <td>285</td>\n",
              "      <td>0</td>\n",
              "    </tr>\n",
              "  </tbody>\n",
              "</table>\n",
              "<p>299 rows × 13 columns</p>\n",
              "</div>"
            ],
            "text/plain": [
              "      age  anaemia  creatinine_phosphokinase  diabetes  ejection_fraction  \\\n",
              "0    75.0        0                       582         0                 20   \n",
              "1    55.0        0                      7861         0                 38   \n",
              "2    65.0        0                       146         0                 20   \n",
              "3    50.0        1                       111         0                 20   \n",
              "4    65.0        1                       160         1                 20   \n",
              "..    ...      ...                       ...       ...                ...   \n",
              "294  62.0        0                        61         1                 38   \n",
              "295  55.0        0                      1820         0                 38   \n",
              "296  45.0        0                      2060         1                 60   \n",
              "297  45.0        0                      2413         0                 38   \n",
              "298  50.0        0                       196         0                 45   \n",
              "\n",
              "     high_blood_pressure  platelets  serum_creatinine  serum_sodium  sex  \\\n",
              "0                      1  265000.00               1.9           130    1   \n",
              "1                      0  263358.03               1.1           136    1   \n",
              "2                      0  162000.00               1.3           129    1   \n",
              "3                      0  210000.00               1.9           137    1   \n",
              "4                      0  327000.00               2.7           116    0   \n",
              "..                   ...        ...               ...           ...  ...   \n",
              "294                    1  155000.00               1.1           143    1   \n",
              "295                    0  270000.00               1.2           139    0   \n",
              "296                    0  742000.00               0.8           138    0   \n",
              "297                    0  140000.00               1.4           140    1   \n",
              "298                    0  395000.00               1.6           136    1   \n",
              "\n",
              "     smoking  time  DEATH_EVENT  \n",
              "0          0     4            1  \n",
              "1          0     6            1  \n",
              "2          1     7            1  \n",
              "3          0     7            1  \n",
              "4          0     8            1  \n",
              "..       ...   ...          ...  \n",
              "294        1   270            0  \n",
              "295        0   271            0  \n",
              "296        0   278            0  \n",
              "297        1   280            0  \n",
              "298        1   285            0  \n",
              "\n",
              "[299 rows x 13 columns]"
            ]
          },
          "execution_count": 235,
          "metadata": {},
          "output_type": "execute_result"
        }
      ],
      "source": [
        "dataset"
      ]
    },
    {
      "cell_type": "code",
      "execution_count": 236,
      "id": "5dea4106",
      "metadata": {},
      "outputs": [
        {
          "data": {
            "text/html": [
              "<div>\n",
              "<style scoped>\n",
              "    .dataframe tbody tr th:only-of-type {\n",
              "        vertical-align: middle;\n",
              "    }\n",
              "\n",
              "    .dataframe tbody tr th {\n",
              "        vertical-align: top;\n",
              "    }\n",
              "\n",
              "    .dataframe thead th {\n",
              "        text-align: right;\n",
              "    }\n",
              "</style>\n",
              "<table border=\"1\" class=\"dataframe\">\n",
              "  <thead>\n",
              "    <tr style=\"text-align: right;\">\n",
              "      <th></th>\n",
              "      <th>age</th>\n",
              "      <th>anaemia</th>\n",
              "      <th>creatinine_phosphokinase</th>\n",
              "      <th>diabetes</th>\n",
              "      <th>ejection_fraction</th>\n",
              "      <th>high_blood_pressure</th>\n",
              "      <th>platelets</th>\n",
              "      <th>serum_creatinine</th>\n",
              "      <th>serum_sodium</th>\n",
              "      <th>sex</th>\n",
              "      <th>smoking</th>\n",
              "      <th>time</th>\n",
              "      <th>DEATH_EVENT</th>\n",
              "    </tr>\n",
              "  </thead>\n",
              "  <tbody>\n",
              "    <tr>\n",
              "      <th>count</th>\n",
              "      <td>299.000000</td>\n",
              "      <td>299.000000</td>\n",
              "      <td>299.000000</td>\n",
              "      <td>299.000000</td>\n",
              "      <td>299.000000</td>\n",
              "      <td>299.000000</td>\n",
              "      <td>299.000000</td>\n",
              "      <td>299.00000</td>\n",
              "      <td>299.000000</td>\n",
              "      <td>299.000000</td>\n",
              "      <td>299.00000</td>\n",
              "      <td>299.000000</td>\n",
              "      <td>299.00000</td>\n",
              "    </tr>\n",
              "    <tr>\n",
              "      <th>mean</th>\n",
              "      <td>60.833893</td>\n",
              "      <td>0.431438</td>\n",
              "      <td>581.839465</td>\n",
              "      <td>0.418060</td>\n",
              "      <td>38.083612</td>\n",
              "      <td>0.351171</td>\n",
              "      <td>263358.029264</td>\n",
              "      <td>1.39388</td>\n",
              "      <td>136.625418</td>\n",
              "      <td>0.648829</td>\n",
              "      <td>0.32107</td>\n",
              "      <td>130.260870</td>\n",
              "      <td>0.32107</td>\n",
              "    </tr>\n",
              "    <tr>\n",
              "      <th>std</th>\n",
              "      <td>11.894809</td>\n",
              "      <td>0.496107</td>\n",
              "      <td>970.287881</td>\n",
              "      <td>0.494067</td>\n",
              "      <td>11.834841</td>\n",
              "      <td>0.478136</td>\n",
              "      <td>97804.236869</td>\n",
              "      <td>1.03451</td>\n",
              "      <td>4.412477</td>\n",
              "      <td>0.478136</td>\n",
              "      <td>0.46767</td>\n",
              "      <td>77.614208</td>\n",
              "      <td>0.46767</td>\n",
              "    </tr>\n",
              "    <tr>\n",
              "      <th>min</th>\n",
              "      <td>40.000000</td>\n",
              "      <td>0.000000</td>\n",
              "      <td>23.000000</td>\n",
              "      <td>0.000000</td>\n",
              "      <td>14.000000</td>\n",
              "      <td>0.000000</td>\n",
              "      <td>25100.000000</td>\n",
              "      <td>0.50000</td>\n",
              "      <td>113.000000</td>\n",
              "      <td>0.000000</td>\n",
              "      <td>0.00000</td>\n",
              "      <td>4.000000</td>\n",
              "      <td>0.00000</td>\n",
              "    </tr>\n",
              "    <tr>\n",
              "      <th>25%</th>\n",
              "      <td>51.000000</td>\n",
              "      <td>0.000000</td>\n",
              "      <td>116.500000</td>\n",
              "      <td>0.000000</td>\n",
              "      <td>30.000000</td>\n",
              "      <td>0.000000</td>\n",
              "      <td>212500.000000</td>\n",
              "      <td>0.90000</td>\n",
              "      <td>134.000000</td>\n",
              "      <td>0.000000</td>\n",
              "      <td>0.00000</td>\n",
              "      <td>73.000000</td>\n",
              "      <td>0.00000</td>\n",
              "    </tr>\n",
              "    <tr>\n",
              "      <th>50%</th>\n",
              "      <td>60.000000</td>\n",
              "      <td>0.000000</td>\n",
              "      <td>250.000000</td>\n",
              "      <td>0.000000</td>\n",
              "      <td>38.000000</td>\n",
              "      <td>0.000000</td>\n",
              "      <td>262000.000000</td>\n",
              "      <td>1.10000</td>\n",
              "      <td>137.000000</td>\n",
              "      <td>1.000000</td>\n",
              "      <td>0.00000</td>\n",
              "      <td>115.000000</td>\n",
              "      <td>0.00000</td>\n",
              "    </tr>\n",
              "    <tr>\n",
              "      <th>75%</th>\n",
              "      <td>70.000000</td>\n",
              "      <td>1.000000</td>\n",
              "      <td>582.000000</td>\n",
              "      <td>1.000000</td>\n",
              "      <td>45.000000</td>\n",
              "      <td>1.000000</td>\n",
              "      <td>303500.000000</td>\n",
              "      <td>1.40000</td>\n",
              "      <td>140.000000</td>\n",
              "      <td>1.000000</td>\n",
              "      <td>1.00000</td>\n",
              "      <td>203.000000</td>\n",
              "      <td>1.00000</td>\n",
              "    </tr>\n",
              "    <tr>\n",
              "      <th>max</th>\n",
              "      <td>95.000000</td>\n",
              "      <td>1.000000</td>\n",
              "      <td>7861.000000</td>\n",
              "      <td>1.000000</td>\n",
              "      <td>80.000000</td>\n",
              "      <td>1.000000</td>\n",
              "      <td>850000.000000</td>\n",
              "      <td>9.40000</td>\n",
              "      <td>148.000000</td>\n",
              "      <td>1.000000</td>\n",
              "      <td>1.00000</td>\n",
              "      <td>285.000000</td>\n",
              "      <td>1.00000</td>\n",
              "    </tr>\n",
              "  </tbody>\n",
              "</table>\n",
              "</div>"
            ],
            "text/plain": [
              "              age     anaemia  creatinine_phosphokinase    diabetes  \\\n",
              "count  299.000000  299.000000                299.000000  299.000000   \n",
              "mean    60.833893    0.431438                581.839465    0.418060   \n",
              "std     11.894809    0.496107                970.287881    0.494067   \n",
              "min     40.000000    0.000000                 23.000000    0.000000   \n",
              "25%     51.000000    0.000000                116.500000    0.000000   \n",
              "50%     60.000000    0.000000                250.000000    0.000000   \n",
              "75%     70.000000    1.000000                582.000000    1.000000   \n",
              "max     95.000000    1.000000               7861.000000    1.000000   \n",
              "\n",
              "       ejection_fraction  high_blood_pressure      platelets  \\\n",
              "count         299.000000           299.000000     299.000000   \n",
              "mean           38.083612             0.351171  263358.029264   \n",
              "std            11.834841             0.478136   97804.236869   \n",
              "min            14.000000             0.000000   25100.000000   \n",
              "25%            30.000000             0.000000  212500.000000   \n",
              "50%            38.000000             0.000000  262000.000000   \n",
              "75%            45.000000             1.000000  303500.000000   \n",
              "max            80.000000             1.000000  850000.000000   \n",
              "\n",
              "       serum_creatinine  serum_sodium         sex    smoking        time  \\\n",
              "count         299.00000    299.000000  299.000000  299.00000  299.000000   \n",
              "mean            1.39388    136.625418    0.648829    0.32107  130.260870   \n",
              "std             1.03451      4.412477    0.478136    0.46767   77.614208   \n",
              "min             0.50000    113.000000    0.000000    0.00000    4.000000   \n",
              "25%             0.90000    134.000000    0.000000    0.00000   73.000000   \n",
              "50%             1.10000    137.000000    1.000000    0.00000  115.000000   \n",
              "75%             1.40000    140.000000    1.000000    1.00000  203.000000   \n",
              "max             9.40000    148.000000    1.000000    1.00000  285.000000   \n",
              "\n",
              "       DEATH_EVENT  \n",
              "count    299.00000  \n",
              "mean       0.32107  \n",
              "std        0.46767  \n",
              "min        0.00000  \n",
              "25%        0.00000  \n",
              "50%        0.00000  \n",
              "75%        1.00000  \n",
              "max        1.00000  "
            ]
          },
          "execution_count": 236,
          "metadata": {},
          "output_type": "execute_result"
        }
      ],
      "source": [
        "dataset.describe()"
      ]
    },
    {
      "cell_type": "code",
      "execution_count": 237,
      "id": "7af2c382",
      "metadata": {},
      "outputs": [],
      "source": [
        "from lifelines import KaplanMeierFitter\n",
        "\n",
        "import matplotlib.pyplot as plt\n",
        "\n",
        "import math\n",
        "import torch"
      ]
    },
    {
      "cell_type": "markdown",
      "id": "d21442ab-caf2-4dae-acf9-ca225a272d9d",
      "metadata": {
        "id": "d21442ab-caf2-4dae-acf9-ca225a272d9d"
      },
      "source": [
        "## 1.1 Non parametric Survival"
      ]
    },
    {
      "cell_type": "code",
      "execution_count": 238,
      "id": "7f05a5a3",
      "metadata": {},
      "outputs": [],
      "source": [
        "# Implement the Kaplan-Meier point estimator from scratch in Python. \n",
        "# Apply your estimator to the dataset described above to estimate survival in HF patients."
      ]
    },
    {
      "cell_type": "markdown",
      "id": "db8a0b6e",
      "metadata": {},
      "source": [
        "### 1.1.1"
      ]
    },
    {
      "cell_type": "code",
      "execution_count": 239,
      "id": "315d6b73",
      "metadata": {},
      "outputs": [],
      "source": [
        "def q_estimator(step, dataset):\n",
        "    total_n = len(dataset)\n",
        "    out_before_step = len(dataset[dataset[\"time\"]<step])\n",
        "    nt = total_n - out_before_step\n",
        "    dt = dataset[dataset[\"time\"]==step][\"DEATH_EVENT\"].sum()\n",
        "    q = dt/nt\n",
        "    return q\n",
        "\n",
        "def s_estimator(dataset):\n",
        "    s_estimate = [1]\n",
        "    time_steps = list(dataset[\"time\"].unique())\n",
        "\n",
        "    for step in time_steps:\n",
        "        q_estimate = q_estimator(step, dataset)\n",
        "        s_estimate.append(s_estimate[-1]*(1-q_estimate))\n",
        "    \n",
        "    time_steps.insert(0, 0)\n",
        "\n",
        "    return s_estimate, time_steps\n",
        "    \n"
      ]
    },
    {
      "cell_type": "code",
      "execution_count": 240,
      "id": "cc835b23",
      "metadata": {},
      "outputs": [],
      "source": [
        "s_estimate, time_steps = s_estimator(dataset)"
      ]
    },
    {
      "cell_type": "code",
      "execution_count": 241,
      "id": "79f19f94",
      "metadata": {},
      "outputs": [
        {
          "data": {
            "image/png": "[encoded data removed]",
            "text/plain": [
              "<Figure size 640x480 with 1 Axes>"
            ]
          },
          "metadata": {},
          "output_type": "display_data"
        }
      ],
      "source": [
        "plt.plot(time_steps, s_estimate, label=\"KM Estimator\", color=\"#1f77b4\", linewidth=2)\n",
        "\n",
        "# Add labels, title, and grid\n",
        "plt.xlabel(\"Time (days)\", fontsize=12)\n",
        "plt.ylabel(\"Survival Probability\", fontsize=12)\n",
        "plt.title(\"Section 1.1: Kaplan-Meier Survival Curve from scratch\", fontsize=14)\n",
        "plt.grid(color='gray', linestyle='--', linewidth=0.5, alpha=0.7)\n",
        "plt.legend(fontsize=11, loc=\"best\")\n",
        "plt.tight_layout()\n",
        "plt.show()"
      ]
    },
    {
      "cell_type": "code",
      "execution_count": 242,
      "id": "7d6b44ac",
      "metadata": {},
      "outputs": [
        {
          "data": {
            "image/png": "[encoded data removed]",
            "text/plain": [
              "<Figure size 640x480 with 1 Axes>"
            ]
          },
          "metadata": {},
          "output_type": "display_data"
        }
      ],
      "source": [
        "# Then, compare your results with the built-in functions in lifelines library.\n",
        "kmf = KaplanMeierFitter()\n",
        "kmf.fit(dataset[\"time\"], dataset[\"DEATH_EVENT\"])\n",
        "\n",
        "kmf.survival_function_.plot()\n",
        "\n",
        "plt.xlabel(\"Time (days)\", fontsize=12)\n",
        "plt.ylabel(\"Survival Probability\", fontsize=12)\n",
        "plt.title(\"Section 1.1: Kaplan-Meier Survival Curve from lifelines\", fontsize=14)\n",
        "plt.grid(color='gray', linestyle='--', linewidth=0.5, alpha=0.7)\n",
        "plt.legend(fontsize=11, loc=\"best\")\n",
        "plt.tight_layout()\n",
        "plt.show()"
      ]
    },
    {
      "cell_type": "code",
      "execution_count": 243,
      "id": "d0b8fe23",
      "metadata": {},
      "outputs": [],
      "source": [
        "#kmf.plot_survival_function()"
      ]
    },
    {
      "cell_type": "markdown",
      "id": "4d1594bf-045d-45bb-82dd-19e94065452a",
      "metadata": {
        "id": "4d1594bf-045d-45bb-82dd-19e94065452a"
      },
      "source": [
        "### 1.1.2"
      ]
    },
    {
      "cell_type": "code",
      "execution_count": 244,
      "id": "d42ccbda",
      "metadata": {},
      "outputs": [],
      "source": [
        "def survival_function(t, beta):\n",
        "    return math.exp(-beta * t)"
      ]
    },
    {
      "cell_type": "code",
      "execution_count": 245,
      "id": "5604b135",
      "metadata": {},
      "outputs": [],
      "source": [
        "sum_censored = dataset['DEATH_EVENT'].sum()\n",
        "sum_times = dataset['time'].sum()\n",
        "\n",
        "beta_hat = sum_censored/sum_times"
      ]
    },
    {
      "cell_type": "code",
      "execution_count": 246,
      "id": "df18db34",
      "metadata": {},
      "outputs": [],
      "source": [
        "max_t = dataset['time'].max()\n",
        "time_steps = list(range(0,max_t))\n",
        "s_estimate = [survival_function(t,beta_hat) for t in time_steps]\n"
      ]
    },
    {
      "cell_type": "code",
      "execution_count": 247,
      "id": "bf047c8c",
      "metadata": {},
      "outputs": [
        {
          "data": {
            "image/png": "[encoded data removed]",
            "text/plain": [
              "<Figure size 640x480 with 1 Axes>"
            ]
          },
          "metadata": {},
          "output_type": "display_data"
        }
      ],
      "source": [
        "plt.plot(time_steps, s_estimate, label=\"Parametric Estimator (exp)\", color=\"#1f77b4\", linewidth=2)\n",
        "\n",
        "# Add labels, title, and grid\n",
        "plt.xlabel(\"Time (days)\", fontsize=12)\n",
        "plt.ylabel(\"Survival Probability\", fontsize=12)\n",
        "plt.title(\"Section 1.2: Exponential Parametric Survival Curve\", fontsize=14)\n",
        "plt.grid(color='gray', linestyle='--', linewidth=0.5, alpha=0.7)\n",
        "plt.legend(fontsize=11, loc=\"best\")\n",
        "plt.tight_layout()\n",
        "plt.show()"
      ]
    },
    {
      "cell_type": "markdown",
      "id": "62b7dee7",
      "metadata": {},
      "source": [
        "### 1.1.3"
      ]
    },
    {
      "cell_type": "code",
      "execution_count": 248,
      "id": "a4bd6577",
      "metadata": {},
      "outputs": [],
      "source": [
        "from scipy.spatial.distance import cdist\n",
        "from lifelines.utils import concordance_index\n",
        "from sklearn.preprocessing import StandardScaler"
      ]
    },
    {
      "cell_type": "code",
      "execution_count": 249,
      "id": "d8d6103c",
      "metadata": {},
      "outputs": [],
      "source": [
        "def normalize_data(data, features):\n",
        "    scaler = StandardScaler()\n",
        "    data[features] = scaler.fit_transform(data[features])\n",
        "    return data, scaler\n",
        "\n",
        "def nn_keplen_meier_individual(dataset, patient, features, n_neighbors):\n",
        "    query_vector = patient[features].values.reshape(1, -1)\n",
        "    distances = cdist(dataset[features], query_vector, metric='euclidean').flatten()\n",
        "    dataset[\"distance\"] = distances\n",
        "    nearest_neighbors = dataset.sort_values(by='distance').iloc[:n_neighbors]\n",
        "    kmf = KaplanMeierFitter()\n",
        "    kmf.fit(durations=nearest_neighbors['time'], event_observed=nearest_neighbors['DEATH_EVENT'])\n",
        "    return kmf\n",
        "\n",
        "def nn_keplen_meier(dataset, features, n_neighbors=20):\n",
        "    kmf_estimations = []\n",
        "    normalized_data, _ = normalize_data(dataset.copy(), features)\n",
        "    for idx, patient in normalized_data.iterrows():\n",
        "        data_excluding_patient = normalized_data.drop(idx)\n",
        "        kmf = nn_keplen_meier_individual(data_excluding_patient, patient, features, n_neighbors)\n",
        "        kmf_estimations.append(kmf)\n",
        "    return kmf_estimations\n"
      ]
    },
    {
      "cell_type": "code",
      "execution_count": 250,
      "id": "9aeda8d9",
      "metadata": {},
      "outputs": [
        {
          "name": "stdout",
          "output_type": "stream",
          "text": [
            "0.6884903486027082\n"
          ]
        }
      ],
      "source": [
        "features = ['age', 'anaemia', 'creatinine_phosphokinase', 'diabetes',\n",
        "       'ejection_fraction', 'high_blood_pressure', 'platelets',\n",
        "       'serum_creatinine', 'serum_sodium', 'sex', 'smoking',]\n",
        "n_neighbors=25\n",
        "time_point=150\n",
        "\n",
        "nn_keplen_meier_estimation = nn_keplen_meier(dataset, features, n_neighbors)\n",
        "survival_predictions = [kmf.survival_function_at_times([time_point]).values[0] for kmf in nn_keplen_meier_estimation]\n",
        "\n",
        "survival_times = dataset['time'].values\n",
        "events = dataset['DEATH_EVENT'].values\n",
        "c_index = concordance_index(survival_times, survival_predictions, events)\n",
        "\n",
        "print(c_index)"
      ]
    },
    {
      "cell_type": "markdown",
      "id": "cd354d5b",
      "metadata": {},
      "source": [
        "## Task 1.2: Survival Prediction in HF patients using the Cox Model [7 pts]"
      ]
    },
    {
      "cell_type": "markdown",
      "id": "e2d5dec4",
      "metadata": {},
      "source": [
        "### 1.2.1"
      ]
    },
    {
      "cell_type": "code",
      "execution_count": 251,
      "id": "11c886ab",
      "metadata": {},
      "outputs": [],
      "source": [
        "import numpy as np\n",
        "import torch.nn as nn\n",
        "import torch.optim as optim\n"
      ]
    },
    {
      "cell_type": "code",
      "execution_count": 252,
      "id": "7ef1243b",
      "metadata": {},
      "outputs": [],
      "source": [
        "class LinearRisk(nn.Module):\n",
        "    def __init__(self, input_dim):\n",
        "        super(LinearRisk, self).__init__()\n",
        "        self.linear = nn.Linear(input_dim, 1, bias=False) \n",
        "        nn.init.normal_(self.linear.weight, mean=0.0, std=0.01)\n",
        "\n",
        "    def forward(self, X):\n",
        "        return self.linear(X) \n",
        "\n",
        "def partial_likelihood_loss(model, dataset, input_columns, time_column = \"time\", event_column = \"DEATH_EVENT\"):\n",
        "    # Extract features and times\n",
        "    X = torch.tensor(dataset[input_columns].values, dtype=torch.float32)\n",
        "    times = torch.tensor(dataset[time_column].values, dtype=torch.float32)\n",
        "    events = torch.tensor(dataset[event_column].values, dtype=torch.float32)\n",
        "\n",
        "    # Compute linear scores and risk scores\n",
        "    linear_scores = model(X).squeeze()  # Shape: (n_patients,)\n",
        "    risk_scores = torch.exp(linear_scores)\n",
        "\n",
        "    # Sort patients by time (descending)\n",
        "    sorted_indices = torch.argsort(times, descending=True)\n",
        "    linear_scores = linear_scores[sorted_indices]\n",
        "    risk_scores = risk_scores[sorted_indices]\n",
        "    events = events[sorted_indices]\n",
        "\n",
        "    # Compute log-partial likelihood\n",
        "    log_cumulative_hazard = torch.log(torch.cumsum(risk_scores, dim=0))\n",
        "    log_likelihood = linear_scores - log_cumulative_hazard\n",
        "    neg_log_likelihood = -torch.sum(events * log_likelihood)\n",
        "\n",
        "    return neg_log_likelihood"
      ]
    },
    {
      "cell_type": "code",
      "execution_count": 253,
      "id": "d8292a72",
      "metadata": {},
      "outputs": [
        {
          "name": "stdout",
          "output_type": "stream",
          "text": [
            "Epoch 0, Loss: 510.1086\n",
            "Epoch 100, Loss: 492.3253\n",
            "Epoch 200, Loss: 481.6513\n",
            "Epoch 300, Loss: 475.6863\n",
            "Epoch 400, Loss: 472.4298\n",
            "Epoch 500, Loss: 470.5650\n",
            "Epoch 600, Loss: 469.4551\n",
            "Epoch 700, Loss: 468.8024\n",
            "Epoch 800, Loss: 468.4345\n",
            "Epoch 900, Loss: 468.2379\n"
          ]
        }
      ],
      "source": [
        "# Initialize dataset, model, and optimizer\n",
        "input_columns = ['age', 'anaemia', 'creatinine_phosphokinase', 'diabetes',\n",
        "                 'ejection_fraction', 'high_blood_pressure', 'platelets',\n",
        "                 'serum_creatinine', 'serum_sodium', 'sex', 'smoking']\n",
        "\n",
        "model = LinearRisk(input_dim=len(input_columns))  # 1-layer NN for linear risk\n",
        "optimizer = optim.Adam(model.parameters(), lr=0.001)\n",
        "n_epochs = 1000\n",
        "training_data, scaler = normalize_data(dataset.copy(), input_columns)\n",
        "\n",
        "# Training loop\n",
        "for epoch in range(n_epochs):\n",
        "    optimizer.zero_grad()\n",
        "    loss = partial_likelihood_loss(model, training_data, input_columns)\n",
        "    loss.backward()\n",
        "    optimizer.step()\n",
        "\n",
        "    if epoch % 100 == 0:\n",
        "        print(f\"Epoch {epoch}, Loss: {loss.item():.4f}\")\n"
      ]
    },
    {
      "cell_type": "code",
      "execution_count": 254,
      "id": "cca30d42",
      "metadata": {},
      "outputs": [
        {
          "name": "stdout",
          "output_type": "stream",
          "text": [
            "Model Coefficients:\n",
            "                      Column  Coefficient\n",
            "0                        age     0.520902\n",
            "1                    anaemia     0.226433\n",
            "2   creatinine_phosphokinase     0.212034\n",
            "3                   diabetes     0.059916\n",
            "4          ejection_fraction    -0.542786\n",
            "5        high_blood_pressure     0.227014\n",
            "6                  platelets    -0.042777\n",
            "7           serum_creatinine     0.325895\n",
            "8               serum_sodium    -0.205305\n",
            "9                        sex    -0.106332\n",
            "10                   smoking     0.056520\n"
          ]
        }
      ],
      "source": [
        "# Report coefficients\n",
        "model_coefficients = model.linear.weight.detach().numpy().flatten()\n",
        "print(\"Model Coefficients:\")\n",
        "coefficients_df = pd.DataFrame({\"Column\":input_columns, \"Coefficient\":model_coefficients})\n",
        "print(coefficients_df)\n",
        "\n",
        "coefficients_df.to_csv(\"Model_coefficients_part21.csv\")"
      ]
    },
    {
      "cell_type": "code",
      "execution_count": 255,
      "id": "ffdbdac2",
      "metadata": {},
      "outputs": [
        {
          "name": "stdout",
          "output_type": "stream",
          "text": [
            "                      Column  Coefficient  Unscaled Coefficient  Hazard Ratio\n",
            "0                        age         0.52                  6.19  4.857300e+02\n",
            "1                    anaemia         0.23                  0.11  1.120000e+00\n",
            "2   creatinine_phosphokinase         0.21                205.39  1.582747e+89\n",
            "3                   diabetes         0.06                  0.03  1.030000e+00\n",
            "4          ejection_fraction        -0.54                 -6.41  0.000000e+00\n",
            "5        high_blood_pressure         0.23                  0.11  1.110000e+00\n",
            "6                  platelets        -0.04              -4176.82  0.000000e+00\n",
            "7           serum_creatinine         0.33                  0.34  1.400000e+00\n",
            "8               serum_sodium        -0.21                 -0.90  4.000000e-01\n",
            "9                        sex        -0.11                 -0.05  9.500000e-01\n",
            "10                   smoking         0.06                  0.03  1.030000e+00\n"
          ]
        }
      ],
      "source": [
        "# Since I normalized the features I need to undo the normalization\n",
        "# Get scaler parameters\n",
        "scaler_means = scaler.mean_  \n",
        "scaler_stds = scaler.scale_ \n",
        "\n",
        "# Create an empty list to store results\n",
        "unscaled_betas = []\n",
        "\n",
        "for i, feature in enumerate(input_columns):\n",
        "    # Get the scaled beta for the feature\n",
        "    scaled_beta = coefficients_df.loc[coefficients_df[\"Column\"] == feature, \"Coefficient\"].values[0]\n",
        "    \n",
        "    # Reverse normalization: unscaled_beta = scaled_beta * std\n",
        "    unscaled_beta = scaled_beta * scaler_stds[i]\n",
        "    hazard_ratio = np.exp(unscaled_beta)     # Compute Hazard Ratio (HR): HR = exp(unscaled_beta)\n",
        "    \n",
        "    # Append results\n",
        "    unscaled_betas.append({\n",
        "        \"Column\": feature,\n",
        "        \"Coefficient\": scaled_beta,\n",
        "        \"Unscaled Coefficient\": unscaled_beta,\n",
        "        \"Hazard Ratio\": hazard_ratio\n",
        "    })\n",
        "\n",
        "# Convert to a DataFrame\n",
        "unscaled_coefficients_df = pd.DataFrame(unscaled_betas).round(2)\n",
        "unscaled_coefficients_df.to_csv(\"Unscaled_model_coeffs_part_21.csv\")\n",
        "\n",
        "# Display the results\n",
        "print(unscaled_coefficients_df)\n"
      ]
    },
    {
      "cell_type": "markdown",
      "id": "601a19a3",
      "metadata": {},
      "source": [
        "### 1.2.2"
      ]
    },
    {
      "cell_type": "code",
      "execution_count": 256,
      "id": "a578212d",
      "metadata": {},
      "outputs": [
        {
          "name": "stdout",
          "output_type": "stream",
          "text": [
            "0.7413329491981178\n"
          ]
        }
      ],
      "source": [
        "survival_times = dataset['time'].values\n",
        "events = dataset['DEATH_EVENT'].values\n",
        "X = torch.tensor(training_data[input_columns].values, dtype=torch.float32)\n",
        "linear_scores = model(X).squeeze()  \n",
        "risk_scores = torch.exp(linear_scores).detach().numpy()\n",
        "survival_predictions = 1-risk_scores\n",
        "\n",
        "c_index = concordance_index(survival_times, survival_predictions, events)\n",
        "\n",
        "print(c_index)"
      ]
    },
    {
      "cell_type": "markdown",
      "id": "9b21727a",
      "metadata": {},
      "source": [
        "### 1.2.3\n"
      ]
    },
    {
      "cell_type": "code",
      "execution_count": 169,
      "id": "7a4a9cf1",
      "metadata": {},
      "outputs": [
        {
          "data": {
            "text/plain": [
              "Index(['age', 'anaemia', 'creatinine_phosphokinase', 'diabetes',\n",
              "       'ejection_fraction', 'high_blood_pressure', 'platelets',\n",
              "       'serum_creatinine', 'serum_sodium', 'sex', 'smoking', 'time',\n",
              "       'DEATH_EVENT'],\n",
              "      dtype='object')"
            ]
          },
          "execution_count": 169,
          "metadata": {},
          "output_type": "execute_result"
        }
      ],
      "source": [
        "dataset.columns"
      ]
    },
    {
      "cell_type": "code",
      "execution_count": 170,
      "id": "29778951",
      "metadata": {},
      "outputs": [
        {
          "name": "stdout",
          "output_type": "stream",
          "text": [
            "Epoch 0, Loss: 507.8817\n",
            "Epoch 100, Loss: 489.5742\n",
            "Epoch 200, Loss: 479.1103\n",
            "Epoch 300, Loss: 473.6193\n",
            "Epoch 400, Loss: 470.8346\n",
            "Epoch 500, Loss: 469.3690\n",
            "Epoch 600, Loss: 468.5735\n",
            "Epoch 700, Loss: 468.1471\n",
            "Epoch 800, Loss: 467.9270\n",
            "Epoch 900, Loss: 467.8186\n"
          ]
        }
      ],
      "source": [
        "# add interaction term\n",
        "training_data = dataset.copy()\n",
        "training_data[\"age_sex\"] = training_data[\"age\"] * dataset[\"sex\"]\n",
        "\n",
        "# Initialize dataset, model, and optimizer\n",
        "input_columns = ['age', 'anaemia', 'creatinine_phosphokinase', 'diabetes',\n",
        "                 'ejection_fraction', 'high_blood_pressure', 'platelets',\n",
        "                 'serum_creatinine', 'serum_sodium', 'sex', 'smoking', 'age_sex']\n",
        "\n",
        "model = LinearRisk(input_dim=len(input_columns))  # 1-layer NN for linear risk\n",
        "optimizer = optim.Adam(model.parameters(), lr=0.001)\n",
        "n_epochs = 1000\n",
        "training_data, scaler = normalize_data(training_data, input_columns)\n",
        "\n",
        "# Training loop\n",
        "for epoch in range(n_epochs):\n",
        "    optimizer.zero_grad()\n",
        "    loss = partial_likelihood_loss(model, training_data, input_columns)\n",
        "    loss.backward()\n",
        "    optimizer.step()\n",
        "\n",
        "    if epoch % 100 == 0:\n",
        "        print(f\"Epoch {epoch}, Loss: {loss.item():.4f}\")"
      ]
    },
    {
      "cell_type": "code",
      "execution_count": 171,
      "id": "e7959b62",
      "metadata": {},
      "outputs": [
        {
          "name": "stdout",
          "output_type": "stream",
          "text": [
            "Model Coefficients:\n",
            "                      Column  Coefficient\n",
            "0                        age     0.434127\n",
            "1                    anaemia     0.220945\n",
            "2   creatinine_phosphokinase     0.204416\n",
            "3                   diabetes     0.059708\n",
            "4          ejection_fraction    -0.545964\n",
            "5        high_blood_pressure     0.221926\n",
            "6                  platelets    -0.042241\n",
            "7           serum_creatinine     0.321602\n",
            "8               serum_sodium    -0.195609\n",
            "9                        sex    -0.524973\n",
            "10                   smoking     0.062687\n",
            "11                   age_sex     0.420172\n"
          ]
        }
      ],
      "source": [
        "# Report coefficients\n",
        "model_coefficients = model.linear.weight.detach().numpy().flatten()\n",
        "print(\"Model Coefficients:\")\n",
        "coefficients_df = pd.DataFrame({\"Column\":input_columns, \"Coefficient\":model_coefficients})\n",
        "print(coefficients_df)\n",
        "\n",
        "coefficients_df.to_csv(\"Model_coefficients_part22.csv\")"
      ]
    },
    {
      "cell_type": "code",
      "execution_count": 172,
      "id": "a808df96",
      "metadata": {},
      "outputs": [
        {
          "name": "stdout",
          "output_type": "stream",
          "text": [
            "                      Column  Coefficient  Unscaled Coefficient  Hazard Ratio\n",
            "0                        age         0.43                  5.16  1.733300e+02\n",
            "1                    anaemia         0.22                  0.11  1.120000e+00\n",
            "2   creatinine_phosphokinase         0.20                198.01  9.880584e+85\n",
            "3                   diabetes         0.06                  0.03  1.030000e+00\n",
            "4          ejection_fraction        -0.55                 -6.45  0.000000e+00\n",
            "5        high_blood_pressure         0.22                  0.11  1.110000e+00\n",
            "6                  platelets        -0.04              -4124.43  0.000000e+00\n",
            "7           serum_creatinine         0.32                  0.33  1.390000e+00\n",
            "8               serum_sodium        -0.20                 -0.86  4.200000e-01\n",
            "9                        sex        -0.52                 -0.25  7.800000e-01\n",
            "10                   smoking         0.06                  0.03  1.030000e+00\n",
            "11                   age_sex         0.42                 12.99  4.374333e+05\n"
          ]
        }
      ],
      "source": [
        "# Since I normalized the features I need to undo the normalization\n",
        "# Get scaler parameters\n",
        "scaler_means = scaler.mean_  \n",
        "scaler_stds = scaler.scale_ \n",
        "\n",
        "# Create an empty list to store results\n",
        "unscaled_betas = []\n",
        "\n",
        "for i, feature in enumerate(input_columns):\n",
        "    # Get the scaled beta for the feature\n",
        "    scaled_beta = coefficients_df.loc[coefficients_df[\"Column\"] == feature, \"Coefficient\"].values[0]\n",
        "    \n",
        "    # Reverse normalization: unscaled_beta = scaled_beta * std\n",
        "    unscaled_beta = scaled_beta * scaler_stds[i]\n",
        "    hazard_ratio = np.exp(unscaled_beta)     # Compute Hazard Ratio (HR): HR = exp(unscaled_beta)\n",
        "    \n",
        "    # Append results\n",
        "    unscaled_betas.append({\n",
        "        \"Column\": feature,\n",
        "        \"Coefficient\": scaled_beta,\n",
        "        \"Unscaled Coefficient\": unscaled_beta,\n",
        "        \"Hazard Ratio\": hazard_ratio\n",
        "    })\n",
        "\n",
        "# Convert to a DataFrame\n",
        "unscaled_coefficients_df = pd.DataFrame(unscaled_betas).round(2)\n",
        "unscaled_coefficients_df.to_csv(\"Unscaled_model_coeffs_part_22.csv\")\n",
        "\n",
        "# Display the results\n",
        "print(unscaled_coefficients_df)\n"
      ]
    },
    {
      "cell_type": "markdown",
      "id": "0cc70b2d-cc66-42d0-8b37-8251f9e66636",
      "metadata": {
        "id": "0cc70b2d-cc66-42d0-8b37-8251f9e66636"
      },
      "source": [
        "## Task 1.3: Deep Survival Prediction for Heart Transplantation [8 pts]"
      ]
    },
    {
      "cell_type": "markdown",
      "id": "36d97445-e2aa-4429-9655-5c25041b2c67",
      "metadata": {
        "id": "36d97445-e2aa-4429-9655-5c25041b2c67"
      },
      "source": [
        "####  Setup and Dataset\n",
        "\n",
        "For this task, we will use data collected by the United Network for Organ Sharing (UNOS) [2], a non-profit organization that administers the only Organ Procurement and Transplantation Network (OPTN) in the US. UNOS is involved in many aspects of the organ transplant and donation process in the US, including data collection and maintenance, providing assitance to patients and care takers, and informing policy makers on the best use of the limited supply of organs and give all patients a fair chance at receiving the organ they need. UNOS manages the heart transplant waiting list, i.e., the list of terminally-ill patients waiting for donor heart. In order to determine the order of priority for receipt of a donor heart, individuals are classified by degrees of severity for a donor heart, blood type, body weight, and geographic location.\n",
        "\n",
        "This Task will focus on the cohort of terminally-ill patients who are enrolled in the wait-list for heart transplantation. In this setup, our goal is to predict the patients who are less likely to survive in order to prioritize them for receiving donated organs. The UNOS data covers 30 years of heart transplantation data in the US, spanning the years from 1985 to 2015. We will use data for patients who were on the wait-list for heart transplantation in the US from 1985 to 2010 (27,926 patients) to train an ML-based model for predicting individual-level survival. A held-out test set of 8,403 patients enrolled in the wait-list between 2010 and 2015 will be used by the instructor to evaluate your model. You can load the UNOS data in pandas as follows."
      ]
    },
    {
      "cell_type": "code",
      "execution_count": 363,
      "id": "e147b2a3-26d5-4bbc-8266-61f71ca8be9d",
      "metadata": {
        "id": "e147b2a3-26d5-4bbc-8266-61f71ca8be9d"
      },
      "outputs": [],
      "source": [
        "UNOS_data           = pd.read_csv(\"data/UNOS_train.csv\")"
      ]
    },
    {
      "cell_type": "markdown",
      "id": "a2c649f9-08b6-4496-8bf3-31ae2106c0fd",
      "metadata": {
        "id": "a2c649f9-08b6-4496-8bf3-31ae2106c0fd"
      },
      "source": [
        "#### Feature Dictionary\n",
        "\n",
        "Each patient's record in the UNOS database is associated with the following variables:"
      ]
    },
    {
      "cell_type": "code",
      "execution_count": 364,
      "id": "21caaba9-5f43-4c70-8265-afce7e77782d",
      "metadata": {
        "id": "21caaba9-5f43-4c70-8265-afce7e77782d"
      },
      "outputs": [],
      "source": [
        "patient_variables   = [\"init_age\", \"gender\", \"hgt_cm_tcr\", \"wgt_kg_tcr\", \"diab\", \"ventilator_tcr\",\n",
        "                       \"ecmo_tcr\", \"most_rcnt_creat\", \"abo_A\", \"abo_B\", \"abo_O\", \"vad_while_listed\",\n",
        "                       \"days_stat1\", \"days_stat1a\", \"days_stat2\", \"days_stat1b\", \"iabp_tcr\",\n",
        "                       \"init_bmi_calc\", \"tah\", \"inotropic\", \"Censor (Censor = 1)\", \"Survival Time\"]"
      ]
    },
    {
      "cell_type": "code",
      "execution_count": 369,
      "id": "9272e815",
      "metadata": {},
      "outputs": [],
      "source": [
        "# Filter patients with negative survival times-  unsure what the explanation is\n",
        "\n",
        "UNOS_data = UNOS_data[UNOS_data['Survival Time']>=0]"
      ]
    },
    {
      "cell_type": "code",
      "execution_count": 370,
      "id": "4b4916e7",
      "metadata": {},
      "outputs": [
        {
          "data": {
            "text/plain": [
              "np.int64(0)"
            ]
          },
          "execution_count": 370,
          "metadata": {},
          "output_type": "execute_result"
        }
      ],
      "source": [
        "UNOS_data['Survival Time'].min()"
      ]
    },
    {
      "cell_type": "markdown",
      "id": "224d7db7-36fa-4285-8dc1-fb202b608f7a",
      "metadata": {
        "id": "224d7db7-36fa-4285-8dc1-fb202b608f7a"
      },
      "source": [
        "The interpretation of each variable is provided below:\n",
        "\n",
        "- \"init_age\": Patient's age at time of enrolling in the wait-list\n",
        "- \"gender\": Patient's biological sex\n",
        "- \"hgt_cm_tcr\": Patient's height in cm\n",
        "- \"wgt_kg_tcr\": Patient's weight in kgs\n",
        "- \"diab\": Indication on whether or not the patient is diabetic\n",
        "- \"abo_A\": Indication on whether patient's blood type is A\n",
        "- \"abo_B\": Indication on whether patient's blood type is B\n",
        "- \"abo_O\": Indication on whether patient's blood type is O\n",
        "- \"ventilator_tcr\": Indication on whether the patient was dependent on a ventilator at time of enrollment in the wait-list\n",
        "- \"ecmo_tcr\": Indication on whether the patient was treated with ECMO (extracorporeal membrane oxygenation) by the time they where enrolled in the wait-list. ECMO is an artificial life support that continuously pumps blood out of the patient's body and sends it through a series of devices that add oxygen and remove carbon dioxide, pumping the blood back to the patient. It is used for a patient whose heart and lungs are not functioning properly.  \n",
        "- \"most_rcnt_creat\": Creatinine level in the patient's most recent blood test before enrolling in wait-list.\n",
        "- \"vad_while_listed\": Whether the patient was on ventricular assist device (VAD) support when listed for a heart transplant. VAD is a mechanical pump used to restore cardiac function by pumping blood from the lower chambers of the heart to the rest of the body.\n",
        "- \"iabp_tcr\": Whether the patient was on Intra-Aortic Balloon Pump (IABP) Therapy. This is a therapeutic device used to improve blood flow when the heart is unable to pump enough blood for your body.\n",
        "- \"init_bmi_calc\": Patient's Body Mass Index at time of enrollment in the wait-list.\n",
        "- \"tah\": Whether the patient underwent a total artificial heart (TAH) surgery. This is a mechanical pump that replaces the heart when it is not working as it should.\n",
        "- \"inotropic\": Whether the patient was on an Inotropic drug at time of enrollment in wait-list. These are medicines that change the force of the heart's contractions.\n",
        "- \"days_stat1\", \"days_stat1a\", \"days_stat1b\", \"days_stat2\": UNOS has an internal system for classifying the priority of patients for receiving a heart transplant. Individuals classified as Status 1A have the highest priority on the heart transplant waiting list. Status 1A are individuals who must stay in the hospital as in-patients and require high doses of intravenous drugs, require a VAD for survival, are dependent on a ventilator or have a life expectancy of a week or less without a transplant. Individuals classified as Status 1B are generally not required to stay in the hospital as in-patients. All other candidates for the transplant are listed under Status 2. These variables indicate the number of days a patient spends in each status during the time between their enrollment in the wait-list and death or reception of a transplant.\n",
        "- \"Censor (Censor = 1)\": Indication of censoring\n",
        "- \"Survival Time\": Time between enrollment in wait-list and death"
      ]
    },
    {
      "cell_type": "markdown",
      "id": "481eae55-45ef-46b9-9d45-a0a63f1da3d8",
      "metadata": {
        "id": "481eae55-45ef-46b9-9d45-a0a63f1da3d8"
      },
      "source": [
        "## Solution"
      ]
    },
    {
      "cell_type": "code",
      "execution_count": 415,
      "id": "a510a4cc",
      "metadata": {},
      "outputs": [],
      "source": [
        "from sklearn.model_selection import KFold\n",
        "import pickle"
      ]
    },
    {
      "cell_type": "code",
      "execution_count": 372,
      "id": "61bb677b",
      "metadata": {},
      "outputs": [],
      "source": [
        "def partial_likelihood_with_L2_reg(model, dataset, input_columns, lambda_reg, time_column, event_column):\n",
        "    # Compute the negative log partial likelihood\n",
        "    neg_log_likelihood = partial_likelihood_loss(model, dataset, input_columns, time_column, event_column)\n",
        "    \n",
        "    # Compute L2 regularization term\n",
        "    l2_reg = sum(torch.sum(param ** 2) for param in model.parameters())\n",
        "\n",
        "    # Add regularization to the loss\n",
        "    total_loss = neg_log_likelihood + 0.5 * lambda_reg * l2_reg\n",
        "\n",
        "    return total_loss"
      ]
    },
    {
      "cell_type": "code",
      "execution_count": 373,
      "id": "8d9a8bb2",
      "metadata": {},
      "outputs": [],
      "source": [
        "class DeepSurv(nn.Module):\n",
        "    ''' The module class performs building network according to config'''\n",
        "    def __init__(self, dimensions: list, dropout = 0.1, normalization=True, activation = \"ReLU\" ):\n",
        "        \"\"\"Initialize DeepSurv model. \n",
        "        Args:\n",
        "        - dimensions: list with the dimensions of each hidden layer. the len of dimensions will be the number of blocks\n",
        "            First item is the input dimension, and last item is the output dimension. \n",
        "        - dropout: proportion of dropout (float)\n",
        "        - normalization: boolean flag to to apply BatchNorm\n",
        "        - activation: which activation function to use\"\"\"\n",
        "        super(DeepSurv, self).__init__()\n",
        "        self.model = self._build_model(dimensions, dropout, normalization, activation)\n",
        "\n",
        "    def _build_model(self, dimensions, dropout, normalization, activation):\n",
        "        layers = []\n",
        "        # To do: update\n",
        "        for i in range(len(dimensions)-2):\n",
        "            layers.append(nn.Linear(dimensions[i], dimensions[i+1]))\n",
        "            if normalization: \n",
        "                layers.append(nn.BatchNorm1d(dimensions[i+1]))\n",
        "            layers.append(eval('nn.{}()'.format(activation)))\n",
        "            if dropout is not None: \n",
        "                layers.append(nn.Dropout(dropout))\n",
        "        # final layer\n",
        "        layers.append(nn.Linear(dimensions[-2], dimensions[-1]))\n",
        "\n",
        "        # builds sequential network\n",
        "        return nn.Sequential(*layers)\n",
        "\n",
        "    def forward(self, X):\n",
        "        return self.model(X)"
      ]
    },
    {
      "cell_type": "code",
      "execution_count": 374,
      "id": "8cac2a03",
      "metadata": {},
      "outputs": [
        {
          "name": "stderr",
          "output_type": "stream",
          "text": [
            "/var/folders/zv/fpk7tffn5dd3nvq2jc4mp9m80000gn/T/ipykernel_59233/1962642255.py:1: SettingWithCopyWarning: \n",
            "A value is trying to be set on a copy of a slice from a DataFrame.\n",
            "Try using .loc[row_indexer,col_indexer] = value instead\n",
            "\n",
            "See the caveats in the documentation: https://pandas.pydata.org/pandas-docs/stable/user_guide/indexing.html#returning-a-view-versus-a-copy\n",
            "  UNOS_data[\"DEATH_EVENT\"] = np.logical_not(UNOS_data[\"Censor (Censor = 1)\"]).astype(int)\n"
          ]
        }
      ],
      "source": [
        "UNOS_data[\"DEATH_EVENT\"] = np.logical_not(UNOS_data[\"Censor (Censor = 1)\"]).astype(int)\n",
        "\n",
        "columns_to_ignore = [\"days_stat1\", \"days_stat1a\", \"days_stat2\", \"days_stat1b\"]\n",
        "censor_col = \"Censor (Censor = 1)\"\n",
        "death_col = \"DEATH_EVENT\"\n",
        "survival_time_col = \"Survival Time\"\n",
        "\n",
        "input_columns = [p for p in patient_variables if p not in columns_to_ignore+[censor_col]+[survival_time_col]+[death_col]]"
      ]
    },
    {
      "cell_type": "code",
      "execution_count": 375,
      "id": "8a4e8ad3",
      "metadata": {},
      "outputs": [
        {
          "name": "stdout",
          "output_type": "stream",
          "text": [
            "Epoch 0, Loss: 154807.7500\n",
            "Epoch 100, Loss: 153300.4375\n",
            "Epoch 200, Loss: 153151.2656\n",
            "Epoch 300, Loss: 153098.6406\n",
            "Epoch 400, Loss: 153038.4844\n",
            "Epoch 500, Loss: 152984.3906\n",
            "Epoch 600, Loss: 152958.2656\n",
            "Epoch 700, Loss: 152901.7500\n",
            "Epoch 800, Loss: 152887.5625\n",
            "Epoch 900, Loss: 152844.4844\n",
            "0.6224654376216063\n"
          ]
        }
      ],
      "source": [
        "# No cross validation\n",
        "\n",
        "model = DeepSurv(dimensions = [len(input_columns), 20, 20, 20, 1],)  # 1-layer NN for linear risk\n",
        "optimizer = optim.Adam(model.parameters(), lr=0.001)\n",
        "n_epochs = 1000\n",
        "training_data, scaler = normalize_data(UNOS_data.copy(), input_columns)\n",
        "\n",
        "# Training loop\n",
        "for epoch in range(n_epochs):\n",
        "    optimizer.zero_grad()\n",
        "    loss = partial_likelihood_with_L2_reg(model, training_data, input_columns, 0.1, survival_time_col, death_col)\n",
        "    loss.backward()\n",
        "    optimizer.step()\n",
        "\n",
        "    if epoch % 100 == 0:\n",
        "        print(f\"Epoch {epoch}, Loss: {loss.item():.4f}\")\n",
        "\n",
        "survival_times = UNOS_data[survival_time_col].values\n",
        "events = UNOS_data[death_col].values\n",
        "X = torch.tensor(training_data[input_columns].values, dtype=torch.float32)\n",
        "linear_scores = model(X).squeeze()  \n",
        "risk_scores = torch.exp(linear_scores).detach().numpy()\n",
        "survival_predictions = 1-risk_scores\n",
        "\n",
        "c_index = concordance_index(survival_times, survival_predictions, events)\n",
        "\n",
        "print(c_index)"
      ]
    },
    {
      "cell_type": "code",
      "execution_count": 437,
      "id": "b497f2e2",
      "metadata": {},
      "outputs": [],
      "source": [
        "class SurvivalModel:\n",
        "    def __init__(self, dimensions, dropout=0.1, normalization=True, activation=\"ReLU\"):\n",
        "        self.model = DeepSurv(dimensions, dropout, normalization, activation)\n",
        "        self.baseline_survival = None  # Store baseline hazard parameter\n",
        "        self.times = np.arange(0, 3650, 180)  # Time in days (every 6 months for 10 years)\n",
        "\n",
        "\n",
        "    def fit(self, X, T, C, n_epochs=1000, lr=0.001, lambda_reg=0.1, save_weights=False, print_metrics=False):\n",
        "        optimizer = optim.Adam(self.model.parameters(), lr=lr)\n",
        "        dataset = pd.DataFrame(X)\n",
        "        input_columns = dataset.columns.tolist()\n",
        "        dataset[\"Survival Time\"] = T\n",
        "        dataset[\"Censor (Censor = 1)\"] = C\n",
        "        dataset[\"DEATH_EVENT\"] = np.logical_not(dataset[\"Censor (Censor = 1)\"]).astype(int)\n",
        "        for epoch in range(n_epochs):\n",
        "            optimizer.zero_grad()\n",
        "            loss = partial_likelihood_with_L2_reg(self.model, dataset, input_columns, lambda_reg, \"Survival Time\", \"DEATH_EVENT\")\n",
        "            loss.backward()\n",
        "            optimizer.step()\n",
        "            if print_metrics:\n",
        "                if epoch % 100 == 0:\n",
        "                    print(f\"Epoch {epoch}, Loss: {loss.item():.4f}\")\n",
        "\n",
        "        self.baseline_survival = self._compute_baseline_survival(T, C)\n",
        "\n",
        "        if save_weights:\n",
        "            torch.save(self.model.state_dict(), \"model_weights.pth\")\n",
        "            with open(\"baseline_survival.pkl\", \"wb\") as f:\n",
        "                pickle.dump(self.baseline_survival, f)\n",
        "\n",
        "    def _compute_baseline_survival(self, T, C):\n",
        "        kmf = KaplanMeierFitter()\n",
        "        kmf.fit(T, event_observed=1 - C)  # Death event = 1 - C\n",
        "        return kmf.survival_function_\n",
        "    \n",
        "    def predict(self, X):\n",
        "        X_tensor = torch.tensor(X, dtype=torch.float32)\n",
        "        linear_scores = self.model(X_tensor).squeeze().detach().numpy()\n",
        "        risk_scores = np.exp(linear_scores)  # Convert linear scores to risk\n",
        "\n",
        "        if self.baseline_survival is None:\n",
        "            raise ValueError(\"Baseline survival not found. Train the model or load parameters first.\")\n",
        "\n",
        "        # Interpolate the baseline survival function for the specified times\n",
        "        baseline_values = np.interp(self.times, self.baseline_survival.index, self.baseline_survival.values.flatten())\n",
        "\n",
        "        # Compute survival probabilities using baseline survival function\n",
        "        survival_predictions = np.power(baseline_values, risk_scores[:, None])\n",
        "        return survival_predictions\n",
        "\n"
      ]
    },
    {
      "cell_type": "code",
      "execution_count": 428,
      "id": "a3d08746",
      "metadata": {},
      "outputs": [],
      "source": [
        "def cross_validate(data, input_columns, param_grid, n_splits=3):\n",
        "    kf = KFold(n_splits=n_splits, shuffle=True, random_state=42)\n",
        "    results = []\n",
        "    \n",
        "    for params in param_grid:\n",
        "        c_index_scores = []\n",
        "        for train_idx, test_idx in kf.split(data):\n",
        "            train_data, test_data = data.iloc[train_idx], data.iloc[test_idx]\n",
        "            X_train, T_train, C_train = np.array(train_data[input_columns]), train_data[\"Survival Time\"].values, train_data[\"Censor (Censor = 1)\"].values\n",
        "            X_test, T_test, C_test = np.array(test_data[input_columns]), test_data[\"Survival Time\"].values, test_data[\"Censor (Censor = 1)\"].values\n",
        "            \n",
        "            model = SurvivalModel(**params)\n",
        "            model.fit(X_train, T_train, C_train)\n",
        "            \n",
        "            event_test = test_data[\"DEATH_EVENT\"].values\n",
        "            survival_prediction = model.predict(X_test)[:, 5]  # Use third time point as risk score proxy\n",
        "            c_index = concordance_index(T_test, survival_prediction, event_test)\n",
        "            c_index_scores.append(c_index)\n",
        "        \n",
        "        results.append((params, np.mean(c_index_scores)))\n",
        "    \n",
        "    return results"
      ]
    },
    {
      "cell_type": "code",
      "execution_count": 378,
      "id": "ea65b2c4",
      "metadata": {},
      "outputs": [
        {
          "name": "stdout",
          "output_type": "stream",
          "text": [
            "Params: {'dimensions': [16, 50, 1], 'dropout': 0.1, 'activation': 'ReLU'}, C-index: 0.6222\n",
            "Params: {'dimensions': [16, 10, 10, 10, 10, 1], 'dropout': 0.1, 'activation': 'ReLU'}, C-index: 0.5817\n",
            "Params: {'dimensions': [16, 20, 10, 1], 'dropout': 0.1, 'activation': 'SELU'}, C-index: 0.6231\n",
            "Params: {'dimensions': [16, 50, 50, 1], 'dropout': 0.1, 'activation': 'SELU'}, C-index: 0.6245\n"
          ]
        }
      ],
      "source": [
        "# Define hyperparameter grid\n",
        "param_grid = [\n",
        "    {\"dimensions\": [len(input_columns), 50, 1], \"dropout\": 0.1, \"activation\": \"ReLU\"},\n",
        "    {\"dimensions\": [len(input_columns), 10, 10, 10, 10, 1], \"dropout\": 0.1, \"activation\": \"ReLU\"},\n",
        "    {\"dimensions\": [len(input_columns), 20, 10, 1], \"dropout\": 0.1, \"activation\": \"SELU\"},\n",
        "    {\"dimensions\": [len(input_columns), 50, 50, 1], \"dropout\": 0.1, \"activation\": \"SELU\"}\n",
        "]\n",
        "\n",
        "results = cross_validate(UNOS_data, input_columns, param_grid=param_grid)\n",
        "for params, score in results:\n",
        "    print(f\"Params: {params}, C-index: {score:.4f}\")"
      ]
    },
    {
      "cell_type": "code",
      "execution_count": 438,
      "id": "32fb84d1",
      "metadata": {},
      "outputs": [
        {
          "name": "stdout",
          "output_type": "stream",
          "text": [
            "0.6391982466643934\n"
          ]
        }
      ],
      "source": [
        "train_data, scaler = normalize_data(UNOS_data.copy(), input_columns)\n",
        "\n",
        "X_train, T_train, C_train = np.array(train_data[input_columns]), train_data[\"Survival Time\"].values, train_data[\"Censor (Censor = 1)\"].values\n",
        "\n",
        "model = SurvivalModel(dimensions=[len(input_columns), 50, 50, 1], dropout= 0.1, activation= \"ReLU\")\n",
        "model.fit(X_train, T_train, C_train, save_weights=True)\n",
        "\n",
        "event = train_data[\"DEATH_EVENT\"].values\n",
        "risk_scores = model.predict(X_train)[:, 5]  # Use third time point as risk score proxy\n",
        "c_index = concordance_index(T_train, risk_scores, event)\n",
        "\n",
        "print(c_index)"
      ]
    },
    {
      "cell_type": "code",
      "execution_count": 441,
      "id": "ab8f3a57",
      "metadata": {},
      "outputs": [
        {
          "name": "stdout",
          "output_type": "stream",
          "text": [
            "Loaded pre-trained model and baseline survival.\n"
          ]
        },
        {
          "name": "stderr",
          "output_type": "stream",
          "text": [
            "/var/folders/zv/fpk7tffn5dd3nvq2jc4mp9m80000gn/T/ipykernel_59233/2462984500.py:3: FutureWarning: You are using `torch.load` with `weights_only=False` (the current default value), which uses the default pickle module implicitly. It is possible to construct malicious pickle data which will execute arbitrary code during unpickling (See https://github.com/pytorch/pytorch/blob/main/SECURITY.md#untrusted-models for more details). In a future release, the default value for `weights_only` will be flipped to `True`. This limits the functions that could be executed during unpickling. Arbitrary objects will no longer be allowed to be loaded via this mode unless they are explicitly allowlisted by the user via `torch.serialization.add_safe_globals`. We recommend you start setting `weights_only=True` for any use case where you don't have full control of the loaded file. Please open an issue on GitHub for any issues related to this experimental feature.\n",
            "  model.model.load_state_dict(torch.load(\"model_weights.pth\"))\n"
          ]
        }
      ],
      "source": [
        "model = SurvivalModel(dimensions=[len(input_columns), 50, 50, 1])\n",
        "try:\n",
        "    model.model.load_state_dict(torch.load(\"model_weights.pth\"))\n",
        "    model.model.eval()\n",
        "    with open(\"baseline_survival.pkl\", \"rb\") as f:\n",
        "        model.baseline_survival = pickle.load(f)\n",
        "    print(\"Loaded pre-trained model and baseline survival.\")\n",
        "except FileNotFoundError:\n",
        "    print(\"No pre-trained model weights found. Training a new model.\")"
      ]
    },
    {
      "cell_type": "code",
      "execution_count": 443,
      "id": "dc173099",
      "metadata": {},
      "outputs": [
        {
          "name": "stderr",
          "output_type": "stream",
          "text": [
            "/var/folders/zv/fpk7tffn5dd3nvq2jc4mp9m80000gn/T/ipykernel_59233/64588580.py:37: UserWarning: To copy construct from a tensor, it is recommended to use sourceTensor.clone().detach() or sourceTensor.clone().detach().requires_grad_(True), rather than torch.tensor(sourceTensor).\n",
            "  X_tensor = torch.tensor(X, dtype=torch.float32)\n"
          ]
        },
        {
          "data": {
            "image/png": "[encoded data removed]",
            "text/plain": [
              "<Figure size 640x480 with 1 Axes>"
            ]
          },
          "metadata": {},
          "output_type": "display_data"
        }
      ],
      "source": [
        "predictions = model.predict(X)\n",
        "times = np.arange(0, 3650, 180)\n",
        "kmf = KaplanMeierFitter()\n",
        "kmf.fit(T_train, event_observed=event)\n",
        "\n",
        "import matplotlib.pyplot as plt\n",
        "plt.step(times, np.mean(predictions, axis=0), label=\"Predicted Survival Curve\", linestyle=\"--\")\n",
        "plt.step(kmf.survival_function_.index, kmf.survival_function_.values, label=\"Kaplan-Meier Estimate\")\n",
        "plt.title(\"DeepSurv estimate with KM baseline vs Kaplen-Meier estimate\")\n",
        "plt.xlabel(\"Time (Days)\")\n",
        "plt.ylabel(\"Survival Probability\")\n",
        "plt.legend()\n",
        "plt.show()"
      ]
    },
    {
      "cell_type": "markdown",
      "id": "34zzM6FhbUud",
      "metadata": {
        "id": "34zzM6FhbUud"
      },
      "source": [
        "## Task 1.4: Handling Informative Censoring via Domain Adaptation [8 pts]"
      ]
    },
    {
      "cell_type": "code",
      "execution_count": 1,
      "id": "XuwUXwAEbPSN",
      "metadata": {
        "id": "XuwUXwAEbPSN"
      },
      "outputs": [],
      "source": [
        "# >> Write your code here <<"
      ]
    },
    {
      "cell_type": "markdown",
      "id": "cdafc12b-0755-4289-aa17-6fe5e254df45",
      "metadata": {
        "id": "cdafc12b-0755-4289-aa17-6fe5e254df45"
      },
      "source": [
        "## References\n",
        "\n",
        "[1] Chicco, Davide, and Giuseppe Jurman. “Machine learning can predict survival of patients with heart failure from serum creatinine and ejection fraction alone.” BMC Medical Informatics and Decision Making, vol.\n",
        "20, no. 1 (2020): 1-16.\n",
        "\n",
        "[2] Weiss, Eric S., Lois U. Nwakanma, Stuart B. Russell, John V. Conte, and Ashish S. Shah. “Outcomes in\n",
        "bicaval versus biatrial techniques in heart transplantation: an analysis of the UNOS database.” The Journal\n",
        "of heart and lung transplantation, vol. 27, no. 2 (2008): 178-183."
      ]
    }
  ],
  "metadata": {
    "colab": {
      "provenance": []
    },
    "kernelspec": {
      "display_name": "project1",
      "language": "python",
      "name": "python3"
    },
    "language_info": {
      "codemirror_mode": {
        "name": "ipython",
        "version": 3
      },
      "file_extension": ".py",
      "mimetype": "text/x-python",
      "name": "python",
      "nbconvert_exporter": "python",
      "pygments_lexer": "ipython3",
      "version": "3.11.11"
    }
  },
  "nbformat": 4,
  "nbformat_minor": 5
}
