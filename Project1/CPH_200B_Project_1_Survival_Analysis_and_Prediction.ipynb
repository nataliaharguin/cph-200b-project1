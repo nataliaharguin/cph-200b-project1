{
  "cells": [
    {
      "cell_type": "markdown",
      "id": "27cc5509-75ad-4148-93b8-088b97ad1b17",
      "metadata": {
        "id": "27cc5509-75ad-4148-93b8-088b97ad1b17"
      },
      "source": [
        "<p align=center>\n",
        "<img src=\"assets/cphbanner.png\" width=1280>\n",
        "</p>"
      ]
    },
    {
      "cell_type": "markdown",
      "id": "2c79aea8-f578-4310-9e04-46fed86f21f1",
      "metadata": {
        "id": "2c79aea8-f578-4310-9e04-46fed86f21f1"
      },
      "source": [
        "# **Project 1: Survival Analysis and Prediction [30 points]**"
      ]
    },
    {
      "cell_type": "markdown",
      "id": "a9f62d3c-682e-44df-bda2-c04125cdb7a8",
      "metadata": {
        "id": "a9f62d3c-682e-44df-bda2-c04125cdb7a8"
      },
      "source": [
        "Many clinical trials and observational studies involve following patients for a long time. The primary event of\n",
        "interest in those studies may include death, relapse, or the onset of a new disease. The follow-up time for a trial\n",
        "or a study may range from few weeks to many years. To analyze this data, we typically conduct time-to-event\n",
        "analysis and build predictive models that learn time-to-event distributions. The goal of this project is to test\n",
        "your ability to conduct basic survival analyses as well as develop ML models for survival prediction."
      ]
    },
    {
      "cell_type": "markdown",
      "id": "345becba-b634-48c3-9130-b7071af5e878",
      "metadata": {
        "id": "345becba-b634-48c3-9130-b7071af5e878"
      },
      "source": [
        "**Please submit your report and code by <u> Tuesday 2/4 11:59 PST </u>.**"
      ]
    },
    {
      "cell_type": "markdown",
      "id": "03ac5b5a-a269-46be-bf9a-a300b535809f",
      "metadata": {
        "id": "03ac5b5a-a269-46be-bf9a-a300b535809f"
      },
      "source": [
        "## Task 1.1: Nonparametric Survival Analysis in Heart Failure [7 pts]\n",
        "\n",
        "Nonparametric models of survival data do not make parametric assumptions on the distribution of timeto-event outcomes. They are widely used in clinical studies to derive descriptive statistics of survival in a population. In this task, we will apply standard nonparametric estimators to analyze survival of heart failure patients in a recent, widely-recognized study [1]."
      ]
    },
    {
      "cell_type": "markdown",
      "id": "c0fdb3da-c55d-46a3-a277-82260a5b8298",
      "metadata": {
        "id": "c0fdb3da-c55d-46a3-a277-82260a5b8298"
      },
      "source": [
        "####  Setup and Dataset\n",
        "\n",
        "The dataset we will use in this task was extracted from the electronic health records (EHRs) of 299 heart failure patients from the Faisalabad Institute of Cardiology and at the Allied Hospital in Faisalabad (Punjab, Pakistan), during April–December 2015. The cohort included 105 women and 194 men, and their ages range between 40 and 95 years old. All 299 patients had left ventricular systolic dysfunction and had previous heart failures (HF) that put them in classes III or IV of New York Heart Association (NYHA) classification of the stages of heart failure. The dataset contains 13 features, which report clinical, body, and lifestyle information. The patients were followed up for 130 days on average (maximum follow-up period was 285 days). The event of interest was death during the follow-up period."
      ]
    },
    {
      "cell_type": "markdown",
      "id": "f1e3b06b-9959-4feb-8700-e22e2cee7918",
      "metadata": {
        "id": "f1e3b06b-9959-4feb-8700-e22e2cee7918"
      },
      "source": [
        "The dataset is publicly accessible and was shared with the class through UCSF Box. You can load the dataset in the directory \"./data\" and inspect all the features/outcomes using pandas as follows:"
      ]
    },
    {
      "cell_type": "code",
      "execution_count": 1,
      "id": "bc2e885c-2106-49c8-9bd9-979919e5efa6",
      "metadata": {
        "id": "bc2e885c-2106-49c8-9bd9-979919e5efa6"
      },
      "outputs": [],
      "source": [
        "import pandas as pd\n",
        "\n",
        "dataset = pd.read_csv(\"data/heart_failure_clinical_records_dataset.csv\")"
      ]
    },
    {
      "cell_type": "code",
      "execution_count": 2,
      "id": "c75d4409-6dc3-412d-b931-f4544b0353ce",
      "metadata": {
        "id": "c75d4409-6dc3-412d-b931-f4544b0353ce",
        "outputId": "9ab13dd2-b6e3-4968-e9f5-c60615d3bf31"
      },
      "outputs": [
        {
          "data": {
            "text/html": [
              "<div>\n",
              "<style scoped>\n",
              "    .dataframe tbody tr th:only-of-type {\n",
              "        vertical-align: middle;\n",
              "    }\n",
              "\n",
              "    .dataframe tbody tr th {\n",
              "        vertical-align: top;\n",
              "    }\n",
              "\n",
              "    .dataframe thead th {\n",
              "        text-align: right;\n",
              "    }\n",
              "</style>\n",
              "<table border=\"1\" class=\"dataframe\">\n",
              "  <thead>\n",
              "    <tr style=\"text-align: right;\">\n",
              "      <th></th>\n",
              "      <th>age</th>\n",
              "      <th>anaemia</th>\n",
              "      <th>creatinine_phosphokinase</th>\n",
              "      <th>diabetes</th>\n",
              "      <th>ejection_fraction</th>\n",
              "      <th>high_blood_pressure</th>\n",
              "      <th>platelets</th>\n",
              "      <th>serum_creatinine</th>\n",
              "      <th>serum_sodium</th>\n",
              "      <th>sex</th>\n",
              "      <th>smoking</th>\n",
              "      <th>time</th>\n",
              "      <th>DEATH_EVENT</th>\n",
              "    </tr>\n",
              "  </thead>\n",
              "  <tbody>\n",
              "    <tr>\n",
              "      <th>0</th>\n",
              "      <td>75.0</td>\n",
              "      <td>0</td>\n",
              "      <td>582</td>\n",
              "      <td>0</td>\n",
              "      <td>20</td>\n",
              "      <td>1</td>\n",
              "      <td>265000.00</td>\n",
              "      <td>1.9</td>\n",
              "      <td>130</td>\n",
              "      <td>1</td>\n",
              "      <td>0</td>\n",
              "      <td>4</td>\n",
              "      <td>1</td>\n",
              "    </tr>\n",
              "    <tr>\n",
              "      <th>1</th>\n",
              "      <td>55.0</td>\n",
              "      <td>0</td>\n",
              "      <td>7861</td>\n",
              "      <td>0</td>\n",
              "      <td>38</td>\n",
              "      <td>0</td>\n",
              "      <td>263358.03</td>\n",
              "      <td>1.1</td>\n",
              "      <td>136</td>\n",
              "      <td>1</td>\n",
              "      <td>0</td>\n",
              "      <td>6</td>\n",
              "      <td>1</td>\n",
              "    </tr>\n",
              "    <tr>\n",
              "      <th>2</th>\n",
              "      <td>65.0</td>\n",
              "      <td>0</td>\n",
              "      <td>146</td>\n",
              "      <td>0</td>\n",
              "      <td>20</td>\n",
              "      <td>0</td>\n",
              "      <td>162000.00</td>\n",
              "      <td>1.3</td>\n",
              "      <td>129</td>\n",
              "      <td>1</td>\n",
              "      <td>1</td>\n",
              "      <td>7</td>\n",
              "      <td>1</td>\n",
              "    </tr>\n",
              "    <tr>\n",
              "      <th>3</th>\n",
              "      <td>50.0</td>\n",
              "      <td>1</td>\n",
              "      <td>111</td>\n",
              "      <td>0</td>\n",
              "      <td>20</td>\n",
              "      <td>0</td>\n",
              "      <td>210000.00</td>\n",
              "      <td>1.9</td>\n",
              "      <td>137</td>\n",
              "      <td>1</td>\n",
              "      <td>0</td>\n",
              "      <td>7</td>\n",
              "      <td>1</td>\n",
              "    </tr>\n",
              "    <tr>\n",
              "      <th>4</th>\n",
              "      <td>65.0</td>\n",
              "      <td>1</td>\n",
              "      <td>160</td>\n",
              "      <td>1</td>\n",
              "      <td>20</td>\n",
              "      <td>0</td>\n",
              "      <td>327000.00</td>\n",
              "      <td>2.7</td>\n",
              "      <td>116</td>\n",
              "      <td>0</td>\n",
              "      <td>0</td>\n",
              "      <td>8</td>\n",
              "      <td>1</td>\n",
              "    </tr>\n",
              "    <tr>\n",
              "      <th>...</th>\n",
              "      <td>...</td>\n",
              "      <td>...</td>\n",
              "      <td>...</td>\n",
              "      <td>...</td>\n",
              "      <td>...</td>\n",
              "      <td>...</td>\n",
              "      <td>...</td>\n",
              "      <td>...</td>\n",
              "      <td>...</td>\n",
              "      <td>...</td>\n",
              "      <td>...</td>\n",
              "      <td>...</td>\n",
              "      <td>...</td>\n",
              "    </tr>\n",
              "    <tr>\n",
              "      <th>294</th>\n",
              "      <td>62.0</td>\n",
              "      <td>0</td>\n",
              "      <td>61</td>\n",
              "      <td>1</td>\n",
              "      <td>38</td>\n",
              "      <td>1</td>\n",
              "      <td>155000.00</td>\n",
              "      <td>1.1</td>\n",
              "      <td>143</td>\n",
              "      <td>1</td>\n",
              "      <td>1</td>\n",
              "      <td>270</td>\n",
              "      <td>0</td>\n",
              "    </tr>\n",
              "    <tr>\n",
              "      <th>295</th>\n",
              "      <td>55.0</td>\n",
              "      <td>0</td>\n",
              "      <td>1820</td>\n",
              "      <td>0</td>\n",
              "      <td>38</td>\n",
              "      <td>0</td>\n",
              "      <td>270000.00</td>\n",
              "      <td>1.2</td>\n",
              "      <td>139</td>\n",
              "      <td>0</td>\n",
              "      <td>0</td>\n",
              "      <td>271</td>\n",
              "      <td>0</td>\n",
              "    </tr>\n",
              "    <tr>\n",
              "      <th>296</th>\n",
              "      <td>45.0</td>\n",
              "      <td>0</td>\n",
              "      <td>2060</td>\n",
              "      <td>1</td>\n",
              "      <td>60</td>\n",
              "      <td>0</td>\n",
              "      <td>742000.00</td>\n",
              "      <td>0.8</td>\n",
              "      <td>138</td>\n",
              "      <td>0</td>\n",
              "      <td>0</td>\n",
              "      <td>278</td>\n",
              "      <td>0</td>\n",
              "    </tr>\n",
              "    <tr>\n",
              "      <th>297</th>\n",
              "      <td>45.0</td>\n",
              "      <td>0</td>\n",
              "      <td>2413</td>\n",
              "      <td>0</td>\n",
              "      <td>38</td>\n",
              "      <td>0</td>\n",
              "      <td>140000.00</td>\n",
              "      <td>1.4</td>\n",
              "      <td>140</td>\n",
              "      <td>1</td>\n",
              "      <td>1</td>\n",
              "      <td>280</td>\n",
              "      <td>0</td>\n",
              "    </tr>\n",
              "    <tr>\n",
              "      <th>298</th>\n",
              "      <td>50.0</td>\n",
              "      <td>0</td>\n",
              "      <td>196</td>\n",
              "      <td>0</td>\n",
              "      <td>45</td>\n",
              "      <td>0</td>\n",
              "      <td>395000.00</td>\n",
              "      <td>1.6</td>\n",
              "      <td>136</td>\n",
              "      <td>1</td>\n",
              "      <td>1</td>\n",
              "      <td>285</td>\n",
              "      <td>0</td>\n",
              "    </tr>\n",
              "  </tbody>\n",
              "</table>\n",
              "<p>299 rows × 13 columns</p>\n",
              "</div>"
            ],
            "text/plain": [
              "      age  anaemia  creatinine_phosphokinase  diabetes  ejection_fraction  \\\n",
              "0    75.0        0                       582         0                 20   \n",
              "1    55.0        0                      7861         0                 38   \n",
              "2    65.0        0                       146         0                 20   \n",
              "3    50.0        1                       111         0                 20   \n",
              "4    65.0        1                       160         1                 20   \n",
              "..    ...      ...                       ...       ...                ...   \n",
              "294  62.0        0                        61         1                 38   \n",
              "295  55.0        0                      1820         0                 38   \n",
              "296  45.0        0                      2060         1                 60   \n",
              "297  45.0        0                      2413         0                 38   \n",
              "298  50.0        0                       196         0                 45   \n",
              "\n",
              "     high_blood_pressure  platelets  serum_creatinine  serum_sodium  sex  \\\n",
              "0                      1  265000.00               1.9           130    1   \n",
              "1                      0  263358.03               1.1           136    1   \n",
              "2                      0  162000.00               1.3           129    1   \n",
              "3                      0  210000.00               1.9           137    1   \n",
              "4                      0  327000.00               2.7           116    0   \n",
              "..                   ...        ...               ...           ...  ...   \n",
              "294                    1  155000.00               1.1           143    1   \n",
              "295                    0  270000.00               1.2           139    0   \n",
              "296                    0  742000.00               0.8           138    0   \n",
              "297                    0  140000.00               1.4           140    1   \n",
              "298                    0  395000.00               1.6           136    1   \n",
              "\n",
              "     smoking  time  DEATH_EVENT  \n",
              "0          0     4            1  \n",
              "1          0     6            1  \n",
              "2          1     7            1  \n",
              "3          0     7            1  \n",
              "4          0     8            1  \n",
              "..       ...   ...          ...  \n",
              "294        1   270            0  \n",
              "295        0   271            0  \n",
              "296        0   278            0  \n",
              "297        1   280            0  \n",
              "298        1   285            0  \n",
              "\n",
              "[299 rows x 13 columns]"
            ]
          },
          "execution_count": 2,
          "metadata": {},
          "output_type": "execute_result"
        }
      ],
      "source": [
        "dataset"
      ]
    },
    {
      "cell_type": "code",
      "execution_count": 5,
      "id": "5dea4106",
      "metadata": {},
      "outputs": [
        {
          "data": {
            "text/html": [
              "<div>\n",
              "<style scoped>\n",
              "    .dataframe tbody tr th:only-of-type {\n",
              "        vertical-align: middle;\n",
              "    }\n",
              "\n",
              "    .dataframe tbody tr th {\n",
              "        vertical-align: top;\n",
              "    }\n",
              "\n",
              "    .dataframe thead th {\n",
              "        text-align: right;\n",
              "    }\n",
              "</style>\n",
              "<table border=\"1\" class=\"dataframe\">\n",
              "  <thead>\n",
              "    <tr style=\"text-align: right;\">\n",
              "      <th></th>\n",
              "      <th>age</th>\n",
              "      <th>anaemia</th>\n",
              "      <th>creatinine_phosphokinase</th>\n",
              "      <th>diabetes</th>\n",
              "      <th>ejection_fraction</th>\n",
              "      <th>high_blood_pressure</th>\n",
              "      <th>platelets</th>\n",
              "      <th>serum_creatinine</th>\n",
              "      <th>serum_sodium</th>\n",
              "      <th>sex</th>\n",
              "      <th>smoking</th>\n",
              "      <th>time</th>\n",
              "      <th>DEATH_EVENT</th>\n",
              "    </tr>\n",
              "  </thead>\n",
              "  <tbody>\n",
              "    <tr>\n",
              "      <th>count</th>\n",
              "      <td>299.000000</td>\n",
              "      <td>299.000000</td>\n",
              "      <td>299.000000</td>\n",
              "      <td>299.000000</td>\n",
              "      <td>299.000000</td>\n",
              "      <td>299.000000</td>\n",
              "      <td>299.000000</td>\n",
              "      <td>299.00000</td>\n",
              "      <td>299.000000</td>\n",
              "      <td>299.000000</td>\n",
              "      <td>299.00000</td>\n",
              "      <td>299.000000</td>\n",
              "      <td>299.00000</td>\n",
              "    </tr>\n",
              "    <tr>\n",
              "      <th>mean</th>\n",
              "      <td>60.833893</td>\n",
              "      <td>0.431438</td>\n",
              "      <td>581.839465</td>\n",
              "      <td>0.418060</td>\n",
              "      <td>38.083612</td>\n",
              "      <td>0.351171</td>\n",
              "      <td>263358.029264</td>\n",
              "      <td>1.39388</td>\n",
              "      <td>136.625418</td>\n",
              "      <td>0.648829</td>\n",
              "      <td>0.32107</td>\n",
              "      <td>130.260870</td>\n",
              "      <td>0.32107</td>\n",
              "    </tr>\n",
              "    <tr>\n",
              "      <th>std</th>\n",
              "      <td>11.894809</td>\n",
              "      <td>0.496107</td>\n",
              "      <td>970.287881</td>\n",
              "      <td>0.494067</td>\n",
              "      <td>11.834841</td>\n",
              "      <td>0.478136</td>\n",
              "      <td>97804.236869</td>\n",
              "      <td>1.03451</td>\n",
              "      <td>4.412477</td>\n",
              "      <td>0.478136</td>\n",
              "      <td>0.46767</td>\n",
              "      <td>77.614208</td>\n",
              "      <td>0.46767</td>\n",
              "    </tr>\n",
              "    <tr>\n",
              "      <th>min</th>\n",
              "      <td>40.000000</td>\n",
              "      <td>0.000000</td>\n",
              "      <td>23.000000</td>\n",
              "      <td>0.000000</td>\n",
              "      <td>14.000000</td>\n",
              "      <td>0.000000</td>\n",
              "      <td>25100.000000</td>\n",
              "      <td>0.50000</td>\n",
              "      <td>113.000000</td>\n",
              "      <td>0.000000</td>\n",
              "      <td>0.00000</td>\n",
              "      <td>4.000000</td>\n",
              "      <td>0.00000</td>\n",
              "    </tr>\n",
              "    <tr>\n",
              "      <th>25%</th>\n",
              "      <td>51.000000</td>\n",
              "      <td>0.000000</td>\n",
              "      <td>116.500000</td>\n",
              "      <td>0.000000</td>\n",
              "      <td>30.000000</td>\n",
              "      <td>0.000000</td>\n",
              "      <td>212500.000000</td>\n",
              "      <td>0.90000</td>\n",
              "      <td>134.000000</td>\n",
              "      <td>0.000000</td>\n",
              "      <td>0.00000</td>\n",
              "      <td>73.000000</td>\n",
              "      <td>0.00000</td>\n",
              "    </tr>\n",
              "    <tr>\n",
              "      <th>50%</th>\n",
              "      <td>60.000000</td>\n",
              "      <td>0.000000</td>\n",
              "      <td>250.000000</td>\n",
              "      <td>0.000000</td>\n",
              "      <td>38.000000</td>\n",
              "      <td>0.000000</td>\n",
              "      <td>262000.000000</td>\n",
              "      <td>1.10000</td>\n",
              "      <td>137.000000</td>\n",
              "      <td>1.000000</td>\n",
              "      <td>0.00000</td>\n",
              "      <td>115.000000</td>\n",
              "      <td>0.00000</td>\n",
              "    </tr>\n",
              "    <tr>\n",
              "      <th>75%</th>\n",
              "      <td>70.000000</td>\n",
              "      <td>1.000000</td>\n",
              "      <td>582.000000</td>\n",
              "      <td>1.000000</td>\n",
              "      <td>45.000000</td>\n",
              "      <td>1.000000</td>\n",
              "      <td>303500.000000</td>\n",
              "      <td>1.40000</td>\n",
              "      <td>140.000000</td>\n",
              "      <td>1.000000</td>\n",
              "      <td>1.00000</td>\n",
              "      <td>203.000000</td>\n",
              "      <td>1.00000</td>\n",
              "    </tr>\n",
              "    <tr>\n",
              "      <th>max</th>\n",
              "      <td>95.000000</td>\n",
              "      <td>1.000000</td>\n",
              "      <td>7861.000000</td>\n",
              "      <td>1.000000</td>\n",
              "      <td>80.000000</td>\n",
              "      <td>1.000000</td>\n",
              "      <td>850000.000000</td>\n",
              "      <td>9.40000</td>\n",
              "      <td>148.000000</td>\n",
              "      <td>1.000000</td>\n",
              "      <td>1.00000</td>\n",
              "      <td>285.000000</td>\n",
              "      <td>1.00000</td>\n",
              "    </tr>\n",
              "  </tbody>\n",
              "</table>\n",
              "</div>"
            ],
            "text/plain": [
              "              age     anaemia  creatinine_phosphokinase    diabetes  \\\n",
              "count  299.000000  299.000000                299.000000  299.000000   \n",
              "mean    60.833893    0.431438                581.839465    0.418060   \n",
              "std     11.894809    0.496107                970.287881    0.494067   \n",
              "min     40.000000    0.000000                 23.000000    0.000000   \n",
              "25%     51.000000    0.000000                116.500000    0.000000   \n",
              "50%     60.000000    0.000000                250.000000    0.000000   \n",
              "75%     70.000000    1.000000                582.000000    1.000000   \n",
              "max     95.000000    1.000000               7861.000000    1.000000   \n",
              "\n",
              "       ejection_fraction  high_blood_pressure      platelets  \\\n",
              "count         299.000000           299.000000     299.000000   \n",
              "mean           38.083612             0.351171  263358.029264   \n",
              "std            11.834841             0.478136   97804.236869   \n",
              "min            14.000000             0.000000   25100.000000   \n",
              "25%            30.000000             0.000000  212500.000000   \n",
              "50%            38.000000             0.000000  262000.000000   \n",
              "75%            45.000000             1.000000  303500.000000   \n",
              "max            80.000000             1.000000  850000.000000   \n",
              "\n",
              "       serum_creatinine  serum_sodium         sex    smoking        time  \\\n",
              "count         299.00000    299.000000  299.000000  299.00000  299.000000   \n",
              "mean            1.39388    136.625418    0.648829    0.32107  130.260870   \n",
              "std             1.03451      4.412477    0.478136    0.46767   77.614208   \n",
              "min             0.50000    113.000000    0.000000    0.00000    4.000000   \n",
              "25%             0.90000    134.000000    0.000000    0.00000   73.000000   \n",
              "50%             1.10000    137.000000    1.000000    0.00000  115.000000   \n",
              "75%             1.40000    140.000000    1.000000    1.00000  203.000000   \n",
              "max             9.40000    148.000000    1.000000    1.00000  285.000000   \n",
              "\n",
              "       DEATH_EVENT  \n",
              "count    299.00000  \n",
              "mean       0.32107  \n",
              "std        0.46767  \n",
              "min        0.00000  \n",
              "25%        0.00000  \n",
              "50%        0.00000  \n",
              "75%        1.00000  \n",
              "max        1.00000  "
            ]
          },
          "execution_count": 5,
          "metadata": {},
          "output_type": "execute_result"
        }
      ],
      "source": [
        "dataset.describe()"
      ]
    },
    {
      "cell_type": "markdown",
      "id": "d21442ab-caf2-4dae-acf9-ca225a272d9d",
      "metadata": {
        "id": "d21442ab-caf2-4dae-acf9-ca225a272d9d"
      },
      "source": [
        "## Solution"
      ]
    },
    {
      "cell_type": "code",
      "execution_count": 9,
      "id": "33e1515d",
      "metadata": {},
      "outputs": [
        {
          "name": "stderr",
          "output_type": "stream",
          "text": [
            "Matplotlib is building the font cache; this may take a moment.\n"
          ]
        }
      ],
      "source": [
        "from lifelines import KaplanMeierFitter\n",
        "\n",
        "import matplotlib.pyplot as plt"
      ]
    },
    {
      "cell_type": "code",
      "execution_count": null,
      "id": "7f05a5a3",
      "metadata": {},
      "outputs": [],
      "source": [
        "# Implement the Kaplan-Meier point estimator from scratch in Python. \n",
        "# Apply your estimator to the dataset described above to estimate survival in HF patients."
      ]
    },
    {
      "cell_type": "code",
      "execution_count": 51,
      "id": "315d6b73",
      "metadata": {},
      "outputs": [],
      "source": [
        "def q_estimator(step, dataset):\n",
        "    total_n = len(dataset)\n",
        "    out_before_step = len(dataset[dataset[\"time\"]<step])\n",
        "    nt = total_n - out_before_step\n",
        "    dt = dataset[dataset[\"time\"]==step][\"DEATH_EVENT\"].sum()\n",
        "    q = dt/nt\n",
        "    return q\n",
        "\n",
        "def s_estimator(dataset):\n",
        "    s_estimate = [1]\n",
        "    time_steps = list(dataset[\"time\"].unique())\n",
        "\n",
        "    for step in time_steps:\n",
        "        q_estimate = q_estimator(step, dataset)\n",
        "        s_estimate.append(s_estimate[-1]*(1-q_estimate))\n",
        "    \n",
        "    time_steps.insert(0, 0)\n",
        "\n",
        "    return s_estimate, time_steps\n",
        "    \n"
      ]
    },
    {
      "cell_type": "code",
      "execution_count": 59,
      "id": "cc835b23",
      "metadata": {},
      "outputs": [],
      "source": [
        "s_estimate, time_steps = s_estimator(dataset)"
      ]
    },
    {
      "cell_type": "code",
      "execution_count": 60,
      "id": "79f19f94",
      "metadata": {},
      "outputs": [
        {
          "data": {
            "image/png": "[encoded data removed]",
            "text/plain": [
              "<Figure size 640x480 with 1 Axes>"
            ]
          },
          "metadata": {},
          "output_type": "display_data"
        }
      ],
      "source": [
        "plt.plot(time_steps, s_estimate, label=\"KM Estimator\", color=\"#1f77b4\", linewidth=2)\n",
        "\n",
        "# Add labels, title, and grid\n",
        "plt.xlabel(\"Time (days)\", fontsize=12)\n",
        "plt.ylabel(\"Survival Probability\", fontsize=12)\n",
        "plt.title(\"Section 1.1: Kaplan-Meier Survival Curve from scratch\", fontsize=14)\n",
        "plt.grid(color='gray', linestyle='--', linewidth=0.5, alpha=0.7)\n",
        "plt.legend(fontsize=11, loc=\"best\")\n",
        "plt.tight_layout()\n",
        "plt.show()"
      ]
    },
    {
      "cell_type": "code",
      "execution_count": 58,
      "id": "7d6b44ac",
      "metadata": {},
      "outputs": [
        {
          "data": {
            "image/png": "[encoded data removed]",
            "text/plain": [
              "<Figure size 640x480 with 1 Axes>"
            ]
          },
          "metadata": {},
          "output_type": "display_data"
        }
      ],
      "source": [
        "# Then, compare your results with the built-in functions in lifelines library.\n",
        "kmf = KaplanMeierFitter()\n",
        "kmf.fit(dataset[\"time\"], dataset[\"DEATH_EVENT\"])\n",
        "\n",
        "kmf.survival_function_.plot()\n",
        "\n",
        "plt.xlabel(\"Time (days)\", fontsize=12)\n",
        "plt.ylabel(\"Survival Probability\", fontsize=12)\n",
        "plt.title(\"Section 1.1: Kaplan-Meier Survival Curve from lifelines\", fontsize=14)\n",
        "plt.grid(color='gray', linestyle='--', linewidth=0.5, alpha=0.7)\n",
        "plt.legend(fontsize=11, loc=\"best\")\n",
        "plt.tight_layout()\n",
        "plt.show()"
      ]
    },
    {
      "cell_type": "code",
      "execution_count": null,
      "id": "d0b8fe23",
      "metadata": {},
      "outputs": [
        {
          "data": {
            "text/plain": [
              "<Axes: xlabel='timeline'>"
            ]
          },
          "execution_count": 61,
          "metadata": {},
          "output_type": "execute_result"
        },
        {
          "data": {
            "image/png": "[encoded data removed]",
            "text/plain": [
              "<Figure size 640x480 with 1 Axes>"
            ]
          },
          "metadata": {},
          "output_type": "display_data"
        }
      ],
      "source": [
        "#kmf.plot_survival_function()"
      ]
    },
    {
      "cell_type": "code",
      "execution_count": null,
      "id": "d3508b91",
      "metadata": {},
      "outputs": [],
      "source": [
        "# Additionally, compare your survival estimates with the prognoses of HF\n",
        "# in the US as reported in the literature. If there are differences, explain what might be causing them.\n",
        "## IN REPORT"
      ]
    },
    {
      "cell_type": "code",
      "execution_count": 6,
      "id": "04f1a84b-14d3-489c-b2a9-7c4195f49c4d",
      "metadata": {
        "id": "04f1a84b-14d3-489c-b2a9-7c4195f49c4d"
      },
      "outputs": [],
      "source": [
        "# >> Write your code here <<"
      ]
    },
    {
      "cell_type": "markdown",
      "id": "cf4cbeb1-0b85-4928-bb6c-cb310c2c5e22",
      "metadata": {
        "id": "cf4cbeb1-0b85-4928-bb6c-cb310c2c5e22"
      },
      "source": [
        "## Task 1.2: Survival Prediction in HF patients using the Cox Model [7 pts]"
      ]
    },
    {
      "cell_type": "markdown",
      "id": "4d1594bf-045d-45bb-82dd-19e94065452a",
      "metadata": {
        "id": "4d1594bf-045d-45bb-82dd-19e94065452a"
      },
      "source": [
        "## Solution"
      ]
    },
    {
      "cell_type": "code",
      "execution_count": null,
      "id": "e897d782-4efb-4b59-9a55-12cf4bdaeb89",
      "metadata": {
        "id": "e897d782-4efb-4b59-9a55-12cf4bdaeb89"
      },
      "outputs": [],
      "source": [
        "# >> Write your code here <<"
      ]
    },
    {
      "cell_type": "markdown",
      "id": "0cc70b2d-cc66-42d0-8b37-8251f9e66636",
      "metadata": {
        "id": "0cc70b2d-cc66-42d0-8b37-8251f9e66636"
      },
      "source": [
        "## Task 1.3: Deep Survival Prediction for Heart Transplantation [8 pts]"
      ]
    },
    {
      "cell_type": "markdown",
      "id": "36d97445-e2aa-4429-9655-5c25041b2c67",
      "metadata": {
        "id": "36d97445-e2aa-4429-9655-5c25041b2c67"
      },
      "source": [
        "####  Setup and Dataset\n",
        "\n",
        "For this task, we will use data collected by the United Network for Organ Sharing (UNOS) [2], a non-profit organization that administers the only Organ Procurement and Transplantation Network (OPTN) in the US. UNOS is involved in many aspects of the organ transplant and donation process in the US, including data collection and maintenance, providing assitance to patients and care takers, and informing policy makers on the best use of the limited supply of organs and give all patients a fair chance at receiving the organ they need. UNOS manages the heart transplant waiting list, i.e., the list of terminally-ill patients waiting for donor heart. In order to determine the order of priority for receipt of a donor heart, individuals are classified by degrees of severity for a donor heart, blood type, body weight, and geographic location.\n",
        "\n",
        "This Task will focus on the cohort of terminally-ill patients who are enrolled in the wait-list for heart transplantation. In this setup, our goal is to predict the patients who are less likely to survive in order to prioritize them for receiving donated organs. The UNOS data covers 30 years of heart transplantation data in the US, spanning the years from 1985 to 2015. We will use data for patients who were on the wait-list for heart transplantation in the US from 1985 to 2010 (27,926 patients) to train an ML-based model for predicting individual-level survival. A held-out test set of 8,403 patients enrolled in the wait-list between 2010 and 2015 will be used by the instructor to evaluate your model. You can load the UNOS data in pandas as follows."
      ]
    },
    {
      "cell_type": "code",
      "execution_count": null,
      "id": "e147b2a3-26d5-4bbc-8266-61f71ca8be9d",
      "metadata": {
        "id": "e147b2a3-26d5-4bbc-8266-61f71ca8be9d"
      },
      "outputs": [],
      "source": [
        "UNOS_data           = pd.read_csv(\"data/UNOS_train.csv\")"
      ]
    },
    {
      "cell_type": "markdown",
      "id": "a2c649f9-08b6-4496-8bf3-31ae2106c0fd",
      "metadata": {
        "id": "a2c649f9-08b6-4496-8bf3-31ae2106c0fd"
      },
      "source": [
        "#### Feature Dictionary\n",
        "\n",
        "Each patient's record in the UNOS database is associated with the following variables:"
      ]
    },
    {
      "cell_type": "code",
      "execution_count": null,
      "id": "21caaba9-5f43-4c70-8265-afce7e77782d",
      "metadata": {
        "id": "21caaba9-5f43-4c70-8265-afce7e77782d"
      },
      "outputs": [],
      "source": [
        "patient_variables   = [\"init_age\", \"gender\", \"hgt_cm_tcr\", \"wgt_kg_tcr\", \"diab\", \"ventilator_tcr\",\n",
        "                       \"ecmo_tcr\", \"most_rcnt_creat\", \"abo_A\", \"abo_B\", \"abo_O\", \"vad_while_listed\",\n",
        "                       \"days_stat1\", \"days_stat1a\", \"days_stat2\", \"days_stat1b\", \"iabp_tcr\",\n",
        "                       \"init_bmi_calc\", \"tah\", \"inotropic\", \"Censor (Censor = 1)\", \"Survival Time\"]"
      ]
    },
    {
      "cell_type": "markdown",
      "id": "224d7db7-36fa-4285-8dc1-fb202b608f7a",
      "metadata": {
        "id": "224d7db7-36fa-4285-8dc1-fb202b608f7a"
      },
      "source": [
        "The interpretation of each variable is provided below:\n",
        "\n",
        "- \"init_age\": Patient's age at time of enrolling in the wait-list\n",
        "- \"gender\": Patient's biological sex\n",
        "- \"hgt_cm_tcr\": Patient's height in cm\n",
        "- \"wgt_kg_tcr\": Patient's weight in kgs\n",
        "- \"diab\": Indication on whether or not the patient is diabetic\n",
        "- \"abo_A\": Indication on whether patient's blood type is A\n",
        "- \"abo_B\": Indication on whether patient's blood type is B\n",
        "- \"abo_O\": Indication on whether patient's blood type is O\n",
        "- \"ventilator_tcr\": Indication on whether the patient was dependent on a ventilator at time of enrollment in the wait-list\n",
        "- \"ecmo_tcr\": Indication on whether the patient was treated with ECMO (extracorporeal membrane oxygenation) by the time they where enrolled in the wait-list. ECMO is an artificial life support that continuously pumps blood out of the patient's body and sends it through a series of devices that add oxygen and remove carbon dioxide, pumping the blood back to the patient. It is used for a patient whose heart and lungs are not functioning properly.  \n",
        "- \"most_rcnt_creat\": Creatinine level in the patient's most recent blood test before enrolling in wait-list.\n",
        "- \"vad_while_listed\": Whether the patient was on ventricular assist device (VAD) support when listed for a heart transplant. VAD is a mechanical pump used to restore cardiac function by pumping blood from the lower chambers of the heart to the rest of the body.\n",
        "- \"iabp_tcr\": Whether the patient was on Intra-Aortic Balloon Pump (IABP) Therapy. This is a therapeutic device used to improve blood flow when the heart is unable to pump enough blood for your body.\n",
        "- \"init_bmi_calc\": Patient's Body Mass Index at time of enrollment in the wait-list.\n",
        "- \"tah\": Whether the patient underwent a total artificial heart (TAH) surgery. This is a mechanical pump that replaces the heart when it is not working as it should.\n",
        "- \"inotropic\": Whether the patient was on an Inotropic drug at time of enrollment in wait-list. These are medicines that change the force of the heart's contractions.\n",
        "- \"days_stat1\", \"days_stat1a\", \"days_stat1b\", \"days_stat2\": UNOS has an internal system for classifying the priority of patients for receiving a heart transplant. Individuals classified as Status 1A have the highest priority on the heart transplant waiting list. Status 1A are individuals who must stay in the hospital as in-patients and require high doses of intravenous drugs, require a VAD for survival, are dependent on a ventilator or have a life expectancy of a week or less without a transplant. Individuals classified as Status 1B are generally not required to stay in the hospital as in-patients. All other candidates for the transplant are listed under Status 2. These variables indicate the number of days a patient spends in each status during the time between their enrollment in the wait-list and death or reception of a transplant.\n",
        "- \"Censor (Censor = 1)\": Indication of censoring\n",
        "- \"Survival Time\": Time between enrollment in wait-list and death"
      ]
    },
    {
      "cell_type": "markdown",
      "id": "481eae55-45ef-46b9-9d45-a0a63f1da3d8",
      "metadata": {
        "id": "481eae55-45ef-46b9-9d45-a0a63f1da3d8"
      },
      "source": [
        "## Solution"
      ]
    },
    {
      "cell_type": "code",
      "execution_count": null,
      "id": "afa53cdd-d1af-4c4e-99ad-cea20184c547",
      "metadata": {
        "id": "afa53cdd-d1af-4c4e-99ad-cea20184c547"
      },
      "outputs": [],
      "source": [
        "# >> Write your model loading function here <<"
      ]
    },
    {
      "cell_type": "markdown",
      "id": "34zzM6FhbUud",
      "metadata": {
        "id": "34zzM6FhbUud"
      },
      "source": [
        "## Task 1.4: Handling Informative Censoring via Domain Adaptation [8 pts]"
      ]
    },
    {
      "cell_type": "code",
      "execution_count": 1,
      "id": "XuwUXwAEbPSN",
      "metadata": {
        "id": "XuwUXwAEbPSN"
      },
      "outputs": [],
      "source": [
        "# >> Write your code here <<"
      ]
    },
    {
      "cell_type": "markdown",
      "id": "cdafc12b-0755-4289-aa17-6fe5e254df45",
      "metadata": {
        "id": "cdafc12b-0755-4289-aa17-6fe5e254df45"
      },
      "source": [
        "## References\n",
        "\n",
        "[1] Chicco, Davide, and Giuseppe Jurman. “Machine learning can predict survival of patients with heart failure from serum creatinine and ejection fraction alone.” BMC Medical Informatics and Decision Making, vol.\n",
        "20, no. 1 (2020): 1-16.\n",
        "\n",
        "[2] Weiss, Eric S., Lois U. Nwakanma, Stuart B. Russell, John V. Conte, and Ashish S. Shah. “Outcomes in\n",
        "bicaval versus biatrial techniques in heart transplantation: an analysis of the UNOS database.” The Journal\n",
        "of heart and lung transplantation, vol. 27, no. 2 (2008): 178-183."
      ]
    }
  ],
  "metadata": {
    "colab": {
      "provenance": []
    },
    "kernelspec": {
      "display_name": "project1",
      "language": "python",
      "name": "python3"
    },
    "language_info": {
      "codemirror_mode": {
        "name": "ipython",
        "version": 3
      },
      "file_extension": ".py",
      "mimetype": "text/x-python",
      "name": "python",
      "nbconvert_exporter": "python",
      "pygments_lexer": "ipython3",
      "version": "3.11.11"
    }
  },
  "nbformat": 4,
  "nbformat_minor": 5
}
