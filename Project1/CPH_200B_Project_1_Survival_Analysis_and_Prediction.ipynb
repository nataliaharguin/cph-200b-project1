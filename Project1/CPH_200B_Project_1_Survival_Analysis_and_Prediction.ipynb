{
  "cells": [
    {
      "cell_type": "markdown",
      "id": "27cc5509-75ad-4148-93b8-088b97ad1b17",
      "metadata": {
        "id": "27cc5509-75ad-4148-93b8-088b97ad1b17"
      },
      "source": [
        "<p align=center>\n",
        "<img src=\"assets/cphbanner.png\" width=1280>\n",
        "</p>"
      ]
    },
    {
      "cell_type": "markdown",
      "id": "2c79aea8-f578-4310-9e04-46fed86f21f1",
      "metadata": {
        "id": "2c79aea8-f578-4310-9e04-46fed86f21f1"
      },
      "source": [
        "# **Project 1: Survival Analysis and Prediction [30 points]**"
      ]
    },
    {
      "cell_type": "markdown",
      "id": "a9f62d3c-682e-44df-bda2-c04125cdb7a8",
      "metadata": {
        "id": "a9f62d3c-682e-44df-bda2-c04125cdb7a8"
      },
      "source": [
        "Many clinical trials and observational studies involve following patients for a long time. The primary event of\n",
        "interest in those studies may include death, relapse, or the onset of a new disease. The follow-up time for a trial\n",
        "or a study may range from few weeks to many years. To analyze this data, we typically conduct time-to-event\n",
        "analysis and build predictive models that learn time-to-event distributions. The goal of this project is to test\n",
        "your ability to conduct basic survival analyses as well as develop ML models for survival prediction."
      ]
    },
    {
      "cell_type": "markdown",
      "id": "345becba-b634-48c3-9130-b7071af5e878",
      "metadata": {
        "id": "345becba-b634-48c3-9130-b7071af5e878"
      },
      "source": [
        "**Please submit your report and code by <u> Tuesday 2/4 11:59 PST </u>.**"
      ]
    },
    {
      "cell_type": "markdown",
      "id": "03ac5b5a-a269-46be-bf9a-a300b535809f",
      "metadata": {
        "id": "03ac5b5a-a269-46be-bf9a-a300b535809f"
      },
      "source": [
        "## Task 1.1: Nonparametric Survival Analysis in Heart Failure [7 pts]\n",
        "\n",
        "Nonparametric models of survival data do not make parametric assumptions on the distribution of timeto-event outcomes. They are widely used in clinical studies to derive descriptive statistics of survival in a population. In this task, we will apply standard nonparametric estimators to analyze survival of heart failure patients in a recent, widely-recognized study [1]."
      ]
    },
    {
      "cell_type": "markdown",
      "id": "c0fdb3da-c55d-46a3-a277-82260a5b8298",
      "metadata": {
        "id": "c0fdb3da-c55d-46a3-a277-82260a5b8298"
      },
      "source": [
        "####  Setup and Dataset\n",
        "\n",
        "The dataset we will use in this task was extracted from the electronic health records (EHRs) of 299 heart failure patients from the Faisalabad Institute of Cardiology and at the Allied Hospital in Faisalabad (Punjab, Pakistan), during April–December 2015. The cohort included 105 women and 194 men, and their ages range between 40 and 95 years old. All 299 patients had left ventricular systolic dysfunction and had previous heart failures (HF) that put them in classes III or IV of New York Heart Association (NYHA) classification of the stages of heart failure. The dataset contains 13 features, which report clinical, body, and lifestyle information. The patients were followed up for 130 days on average (maximum follow-up period was 285 days). The event of interest was death during the follow-up period."
      ]
    },
    {
      "cell_type": "markdown",
      "id": "f1e3b06b-9959-4feb-8700-e22e2cee7918",
      "metadata": {
        "id": "f1e3b06b-9959-4feb-8700-e22e2cee7918"
      },
      "source": [
        "The dataset is publicly accessible and was shared with the class through UCSF Box. You can load the dataset in the directory \"./data\" and inspect all the features/outcomes using pandas as follows:"
      ]
    },
    {
      "cell_type": "code",
      "execution_count": 1,
      "id": "bc2e885c-2106-49c8-9bd9-979919e5efa6",
      "metadata": {
        "id": "bc2e885c-2106-49c8-9bd9-979919e5efa6"
      },
      "outputs": [],
      "source": [
        "import pandas as pd\n",
        "\n",
        "dataset = pd.read_csv(\"data/heart_failure_clinical_records_dataset.csv\")"
      ]
    },
    {
      "cell_type": "code",
      "execution_count": 2,
      "id": "c75d4409-6dc3-412d-b931-f4544b0353ce",
      "metadata": {
        "id": "c75d4409-6dc3-412d-b931-f4544b0353ce",
        "outputId": "9ab13dd2-b6e3-4968-e9f5-c60615d3bf31"
      },
      "outputs": [
        {
          "data": {
            "text/html": [
              "<div>\n",
              "<style scoped>\n",
              "    .dataframe tbody tr th:only-of-type {\n",
              "        vertical-align: middle;\n",
              "    }\n",
              "\n",
              "    .dataframe tbody tr th {\n",
              "        vertical-align: top;\n",
              "    }\n",
              "\n",
              "    .dataframe thead th {\n",
              "        text-align: right;\n",
              "    }\n",
              "</style>\n",
              "<table border=\"1\" class=\"dataframe\">\n",
              "  <thead>\n",
              "    <tr style=\"text-align: right;\">\n",
              "      <th></th>\n",
              "      <th>age</th>\n",
              "      <th>anaemia</th>\n",
              "      <th>creatinine_phosphokinase</th>\n",
              "      <th>diabetes</th>\n",
              "      <th>ejection_fraction</th>\n",
              "      <th>high_blood_pressure</th>\n",
              "      <th>platelets</th>\n",
              "      <th>serum_creatinine</th>\n",
              "      <th>serum_sodium</th>\n",
              "      <th>sex</th>\n",
              "      <th>smoking</th>\n",
              "      <th>time</th>\n",
              "      <th>DEATH_EVENT</th>\n",
              "    </tr>\n",
              "  </thead>\n",
              "  <tbody>\n",
              "    <tr>\n",
              "      <th>0</th>\n",
              "      <td>75.0</td>\n",
              "      <td>0</td>\n",
              "      <td>582</td>\n",
              "      <td>0</td>\n",
              "      <td>20</td>\n",
              "      <td>1</td>\n",
              "      <td>265000.00</td>\n",
              "      <td>1.9</td>\n",
              "      <td>130</td>\n",
              "      <td>1</td>\n",
              "      <td>0</td>\n",
              "      <td>4</td>\n",
              "      <td>1</td>\n",
              "    </tr>\n",
              "    <tr>\n",
              "      <th>1</th>\n",
              "      <td>55.0</td>\n",
              "      <td>0</td>\n",
              "      <td>7861</td>\n",
              "      <td>0</td>\n",
              "      <td>38</td>\n",
              "      <td>0</td>\n",
              "      <td>263358.03</td>\n",
              "      <td>1.1</td>\n",
              "      <td>136</td>\n",
              "      <td>1</td>\n",
              "      <td>0</td>\n",
              "      <td>6</td>\n",
              "      <td>1</td>\n",
              "    </tr>\n",
              "    <tr>\n",
              "      <th>2</th>\n",
              "      <td>65.0</td>\n",
              "      <td>0</td>\n",
              "      <td>146</td>\n",
              "      <td>0</td>\n",
              "      <td>20</td>\n",
              "      <td>0</td>\n",
              "      <td>162000.00</td>\n",
              "      <td>1.3</td>\n",
              "      <td>129</td>\n",
              "      <td>1</td>\n",
              "      <td>1</td>\n",
              "      <td>7</td>\n",
              "      <td>1</td>\n",
              "    </tr>\n",
              "    <tr>\n",
              "      <th>3</th>\n",
              "      <td>50.0</td>\n",
              "      <td>1</td>\n",
              "      <td>111</td>\n",
              "      <td>0</td>\n",
              "      <td>20</td>\n",
              "      <td>0</td>\n",
              "      <td>210000.00</td>\n",
              "      <td>1.9</td>\n",
              "      <td>137</td>\n",
              "      <td>1</td>\n",
              "      <td>0</td>\n",
              "      <td>7</td>\n",
              "      <td>1</td>\n",
              "    </tr>\n",
              "    <tr>\n",
              "      <th>4</th>\n",
              "      <td>65.0</td>\n",
              "      <td>1</td>\n",
              "      <td>160</td>\n",
              "      <td>1</td>\n",
              "      <td>20</td>\n",
              "      <td>0</td>\n",
              "      <td>327000.00</td>\n",
              "      <td>2.7</td>\n",
              "      <td>116</td>\n",
              "      <td>0</td>\n",
              "      <td>0</td>\n",
              "      <td>8</td>\n",
              "      <td>1</td>\n",
              "    </tr>\n",
              "    <tr>\n",
              "      <th>...</th>\n",
              "      <td>...</td>\n",
              "      <td>...</td>\n",
              "      <td>...</td>\n",
              "      <td>...</td>\n",
              "      <td>...</td>\n",
              "      <td>...</td>\n",
              "      <td>...</td>\n",
              "      <td>...</td>\n",
              "      <td>...</td>\n",
              "      <td>...</td>\n",
              "      <td>...</td>\n",
              "      <td>...</td>\n",
              "      <td>...</td>\n",
              "    </tr>\n",
              "    <tr>\n",
              "      <th>294</th>\n",
              "      <td>62.0</td>\n",
              "      <td>0</td>\n",
              "      <td>61</td>\n",
              "      <td>1</td>\n",
              "      <td>38</td>\n",
              "      <td>1</td>\n",
              "      <td>155000.00</td>\n",
              "      <td>1.1</td>\n",
              "      <td>143</td>\n",
              "      <td>1</td>\n",
              "      <td>1</td>\n",
              "      <td>270</td>\n",
              "      <td>0</td>\n",
              "    </tr>\n",
              "    <tr>\n",
              "      <th>295</th>\n",
              "      <td>55.0</td>\n",
              "      <td>0</td>\n",
              "      <td>1820</td>\n",
              "      <td>0</td>\n",
              "      <td>38</td>\n",
              "      <td>0</td>\n",
              "      <td>270000.00</td>\n",
              "      <td>1.2</td>\n",
              "      <td>139</td>\n",
              "      <td>0</td>\n",
              "      <td>0</td>\n",
              "      <td>271</td>\n",
              "      <td>0</td>\n",
              "    </tr>\n",
              "    <tr>\n",
              "      <th>296</th>\n",
              "      <td>45.0</td>\n",
              "      <td>0</td>\n",
              "      <td>2060</td>\n",
              "      <td>1</td>\n",
              "      <td>60</td>\n",
              "      <td>0</td>\n",
              "      <td>742000.00</td>\n",
              "      <td>0.8</td>\n",
              "      <td>138</td>\n",
              "      <td>0</td>\n",
              "      <td>0</td>\n",
              "      <td>278</td>\n",
              "      <td>0</td>\n",
              "    </tr>\n",
              "    <tr>\n",
              "      <th>297</th>\n",
              "      <td>45.0</td>\n",
              "      <td>0</td>\n",
              "      <td>2413</td>\n",
              "      <td>0</td>\n",
              "      <td>38</td>\n",
              "      <td>0</td>\n",
              "      <td>140000.00</td>\n",
              "      <td>1.4</td>\n",
              "      <td>140</td>\n",
              "      <td>1</td>\n",
              "      <td>1</td>\n",
              "      <td>280</td>\n",
              "      <td>0</td>\n",
              "    </tr>\n",
              "    <tr>\n",
              "      <th>298</th>\n",
              "      <td>50.0</td>\n",
              "      <td>0</td>\n",
              "      <td>196</td>\n",
              "      <td>0</td>\n",
              "      <td>45</td>\n",
              "      <td>0</td>\n",
              "      <td>395000.00</td>\n",
              "      <td>1.6</td>\n",
              "      <td>136</td>\n",
              "      <td>1</td>\n",
              "      <td>1</td>\n",
              "      <td>285</td>\n",
              "      <td>0</td>\n",
              "    </tr>\n",
              "  </tbody>\n",
              "</table>\n",
              "<p>299 rows × 13 columns</p>\n",
              "</div>"
            ],
            "text/plain": [
              "      age  anaemia  creatinine_phosphokinase  diabetes  ejection_fraction  \\\n",
              "0    75.0        0                       582         0                 20   \n",
              "1    55.0        0                      7861         0                 38   \n",
              "2    65.0        0                       146         0                 20   \n",
              "3    50.0        1                       111         0                 20   \n",
              "4    65.0        1                       160         1                 20   \n",
              "..    ...      ...                       ...       ...                ...   \n",
              "294  62.0        0                        61         1                 38   \n",
              "295  55.0        0                      1820         0                 38   \n",
              "296  45.0        0                      2060         1                 60   \n",
              "297  45.0        0                      2413         0                 38   \n",
              "298  50.0        0                       196         0                 45   \n",
              "\n",
              "     high_blood_pressure  platelets  serum_creatinine  serum_sodium  sex  \\\n",
              "0                      1  265000.00               1.9           130    1   \n",
              "1                      0  263358.03               1.1           136    1   \n",
              "2                      0  162000.00               1.3           129    1   \n",
              "3                      0  210000.00               1.9           137    1   \n",
              "4                      0  327000.00               2.7           116    0   \n",
              "..                   ...        ...               ...           ...  ...   \n",
              "294                    1  155000.00               1.1           143    1   \n",
              "295                    0  270000.00               1.2           139    0   \n",
              "296                    0  742000.00               0.8           138    0   \n",
              "297                    0  140000.00               1.4           140    1   \n",
              "298                    0  395000.00               1.6           136    1   \n",
              "\n",
              "     smoking  time  DEATH_EVENT  \n",
              "0          0     4            1  \n",
              "1          0     6            1  \n",
              "2          1     7            1  \n",
              "3          0     7            1  \n",
              "4          0     8            1  \n",
              "..       ...   ...          ...  \n",
              "294        1   270            0  \n",
              "295        0   271            0  \n",
              "296        0   278            0  \n",
              "297        1   280            0  \n",
              "298        1   285            0  \n",
              "\n",
              "[299 rows x 13 columns]"
            ]
          },
          "execution_count": 2,
          "metadata": {},
          "output_type": "execute_result"
        }
      ],
      "source": [
        "dataset"
      ]
    },
    {
      "cell_type": "code",
      "execution_count": 3,
      "id": "5dea4106",
      "metadata": {},
      "outputs": [
        {
          "data": {
            "text/html": [
              "<div>\n",
              "<style scoped>\n",
              "    .dataframe tbody tr th:only-of-type {\n",
              "        vertical-align: middle;\n",
              "    }\n",
              "\n",
              "    .dataframe tbody tr th {\n",
              "        vertical-align: top;\n",
              "    }\n",
              "\n",
              "    .dataframe thead th {\n",
              "        text-align: right;\n",
              "    }\n",
              "</style>\n",
              "<table border=\"1\" class=\"dataframe\">\n",
              "  <thead>\n",
              "    <tr style=\"text-align: right;\">\n",
              "      <th></th>\n",
              "      <th>age</th>\n",
              "      <th>anaemia</th>\n",
              "      <th>creatinine_phosphokinase</th>\n",
              "      <th>diabetes</th>\n",
              "      <th>ejection_fraction</th>\n",
              "      <th>high_blood_pressure</th>\n",
              "      <th>platelets</th>\n",
              "      <th>serum_creatinine</th>\n",
              "      <th>serum_sodium</th>\n",
              "      <th>sex</th>\n",
              "      <th>smoking</th>\n",
              "      <th>time</th>\n",
              "      <th>DEATH_EVENT</th>\n",
              "    </tr>\n",
              "  </thead>\n",
              "  <tbody>\n",
              "    <tr>\n",
              "      <th>count</th>\n",
              "      <td>299.000000</td>\n",
              "      <td>299.000000</td>\n",
              "      <td>299.000000</td>\n",
              "      <td>299.000000</td>\n",
              "      <td>299.000000</td>\n",
              "      <td>299.000000</td>\n",
              "      <td>299.000000</td>\n",
              "      <td>299.00000</td>\n",
              "      <td>299.000000</td>\n",
              "      <td>299.000000</td>\n",
              "      <td>299.00000</td>\n",
              "      <td>299.000000</td>\n",
              "      <td>299.00000</td>\n",
              "    </tr>\n",
              "    <tr>\n",
              "      <th>mean</th>\n",
              "      <td>60.833893</td>\n",
              "      <td>0.431438</td>\n",
              "      <td>581.839465</td>\n",
              "      <td>0.418060</td>\n",
              "      <td>38.083612</td>\n",
              "      <td>0.351171</td>\n",
              "      <td>263358.029264</td>\n",
              "      <td>1.39388</td>\n",
              "      <td>136.625418</td>\n",
              "      <td>0.648829</td>\n",
              "      <td>0.32107</td>\n",
              "      <td>130.260870</td>\n",
              "      <td>0.32107</td>\n",
              "    </tr>\n",
              "    <tr>\n",
              "      <th>std</th>\n",
              "      <td>11.894809</td>\n",
              "      <td>0.496107</td>\n",
              "      <td>970.287881</td>\n",
              "      <td>0.494067</td>\n",
              "      <td>11.834841</td>\n",
              "      <td>0.478136</td>\n",
              "      <td>97804.236869</td>\n",
              "      <td>1.03451</td>\n",
              "      <td>4.412477</td>\n",
              "      <td>0.478136</td>\n",
              "      <td>0.46767</td>\n",
              "      <td>77.614208</td>\n",
              "      <td>0.46767</td>\n",
              "    </tr>\n",
              "    <tr>\n",
              "      <th>min</th>\n",
              "      <td>40.000000</td>\n",
              "      <td>0.000000</td>\n",
              "      <td>23.000000</td>\n",
              "      <td>0.000000</td>\n",
              "      <td>14.000000</td>\n",
              "      <td>0.000000</td>\n",
              "      <td>25100.000000</td>\n",
              "      <td>0.50000</td>\n",
              "      <td>113.000000</td>\n",
              "      <td>0.000000</td>\n",
              "      <td>0.00000</td>\n",
              "      <td>4.000000</td>\n",
              "      <td>0.00000</td>\n",
              "    </tr>\n",
              "    <tr>\n",
              "      <th>25%</th>\n",
              "      <td>51.000000</td>\n",
              "      <td>0.000000</td>\n",
              "      <td>116.500000</td>\n",
              "      <td>0.000000</td>\n",
              "      <td>30.000000</td>\n",
              "      <td>0.000000</td>\n",
              "      <td>212500.000000</td>\n",
              "      <td>0.90000</td>\n",
              "      <td>134.000000</td>\n",
              "      <td>0.000000</td>\n",
              "      <td>0.00000</td>\n",
              "      <td>73.000000</td>\n",
              "      <td>0.00000</td>\n",
              "    </tr>\n",
              "    <tr>\n",
              "      <th>50%</th>\n",
              "      <td>60.000000</td>\n",
              "      <td>0.000000</td>\n",
              "      <td>250.000000</td>\n",
              "      <td>0.000000</td>\n",
              "      <td>38.000000</td>\n",
              "      <td>0.000000</td>\n",
              "      <td>262000.000000</td>\n",
              "      <td>1.10000</td>\n",
              "      <td>137.000000</td>\n",
              "      <td>1.000000</td>\n",
              "      <td>0.00000</td>\n",
              "      <td>115.000000</td>\n",
              "      <td>0.00000</td>\n",
              "    </tr>\n",
              "    <tr>\n",
              "      <th>75%</th>\n",
              "      <td>70.000000</td>\n",
              "      <td>1.000000</td>\n",
              "      <td>582.000000</td>\n",
              "      <td>1.000000</td>\n",
              "      <td>45.000000</td>\n",
              "      <td>1.000000</td>\n",
              "      <td>303500.000000</td>\n",
              "      <td>1.40000</td>\n",
              "      <td>140.000000</td>\n",
              "      <td>1.000000</td>\n",
              "      <td>1.00000</td>\n",
              "      <td>203.000000</td>\n",
              "      <td>1.00000</td>\n",
              "    </tr>\n",
              "    <tr>\n",
              "      <th>max</th>\n",
              "      <td>95.000000</td>\n",
              "      <td>1.000000</td>\n",
              "      <td>7861.000000</td>\n",
              "      <td>1.000000</td>\n",
              "      <td>80.000000</td>\n",
              "      <td>1.000000</td>\n",
              "      <td>850000.000000</td>\n",
              "      <td>9.40000</td>\n",
              "      <td>148.000000</td>\n",
              "      <td>1.000000</td>\n",
              "      <td>1.00000</td>\n",
              "      <td>285.000000</td>\n",
              "      <td>1.00000</td>\n",
              "    </tr>\n",
              "  </tbody>\n",
              "</table>\n",
              "</div>"
            ],
            "text/plain": [
              "              age     anaemia  creatinine_phosphokinase    diabetes  \\\n",
              "count  299.000000  299.000000                299.000000  299.000000   \n",
              "mean    60.833893    0.431438                581.839465    0.418060   \n",
              "std     11.894809    0.496107                970.287881    0.494067   \n",
              "min     40.000000    0.000000                 23.000000    0.000000   \n",
              "25%     51.000000    0.000000                116.500000    0.000000   \n",
              "50%     60.000000    0.000000                250.000000    0.000000   \n",
              "75%     70.000000    1.000000                582.000000    1.000000   \n",
              "max     95.000000    1.000000               7861.000000    1.000000   \n",
              "\n",
              "       ejection_fraction  high_blood_pressure      platelets  \\\n",
              "count         299.000000           299.000000     299.000000   \n",
              "mean           38.083612             0.351171  263358.029264   \n",
              "std            11.834841             0.478136   97804.236869   \n",
              "min            14.000000             0.000000   25100.000000   \n",
              "25%            30.000000             0.000000  212500.000000   \n",
              "50%            38.000000             0.000000  262000.000000   \n",
              "75%            45.000000             1.000000  303500.000000   \n",
              "max            80.000000             1.000000  850000.000000   \n",
              "\n",
              "       serum_creatinine  serum_sodium         sex    smoking        time  \\\n",
              "count         299.00000    299.000000  299.000000  299.00000  299.000000   \n",
              "mean            1.39388    136.625418    0.648829    0.32107  130.260870   \n",
              "std             1.03451      4.412477    0.478136    0.46767   77.614208   \n",
              "min             0.50000    113.000000    0.000000    0.00000    4.000000   \n",
              "25%             0.90000    134.000000    0.000000    0.00000   73.000000   \n",
              "50%             1.10000    137.000000    1.000000    0.00000  115.000000   \n",
              "75%             1.40000    140.000000    1.000000    1.00000  203.000000   \n",
              "max             9.40000    148.000000    1.000000    1.00000  285.000000   \n",
              "\n",
              "       DEATH_EVENT  \n",
              "count    299.00000  \n",
              "mean       0.32107  \n",
              "std        0.46767  \n",
              "min        0.00000  \n",
              "25%        0.00000  \n",
              "50%        0.00000  \n",
              "75%        1.00000  \n",
              "max        1.00000  "
            ]
          },
          "execution_count": 3,
          "metadata": {},
          "output_type": "execute_result"
        }
      ],
      "source": [
        "dataset.describe()"
      ]
    },
    {
      "cell_type": "code",
      "execution_count": 4,
      "id": "7af2c382",
      "metadata": {},
      "outputs": [],
      "source": [
        "from lifelines import KaplanMeierFitter\n",
        "\n",
        "import matplotlib.pyplot as plt\n",
        "\n",
        "import math\n",
        "import torch"
      ]
    },
    {
      "cell_type": "markdown",
      "id": "d21442ab-caf2-4dae-acf9-ca225a272d9d",
      "metadata": {
        "id": "d21442ab-caf2-4dae-acf9-ca225a272d9d"
      },
      "source": [
        "## 1.1 Non parametric Survival"
      ]
    },
    {
      "cell_type": "code",
      "execution_count": 5,
      "id": "7f05a5a3",
      "metadata": {},
      "outputs": [],
      "source": [
        "# Implement the Kaplan-Meier point estimator from scratch in Python. \n",
        "# Apply your estimator to the dataset described above to estimate survival in HF patients."
      ]
    },
    {
      "cell_type": "markdown",
      "id": "db8a0b6e",
      "metadata": {},
      "source": [
        "### 1.1.1"
      ]
    },
    {
      "cell_type": "code",
      "execution_count": 6,
      "id": "315d6b73",
      "metadata": {},
      "outputs": [],
      "source": [
        "def q_estimator(step, dataset):\n",
        "    total_n = len(dataset)\n",
        "    out_before_step = len(dataset[dataset[\"time\"]<step])\n",
        "    nt = total_n - out_before_step\n",
        "    dt = dataset[dataset[\"time\"]==step][\"DEATH_EVENT\"].sum()\n",
        "    q = dt/nt\n",
        "    return q\n",
        "\n",
        "def s_estimator(dataset):\n",
        "    s_estimate = [1]\n",
        "    time_steps = list(dataset[\"time\"].unique())\n",
        "\n",
        "    for step in time_steps:\n",
        "        q_estimate = q_estimator(step, dataset)\n",
        "        s_estimate.append(s_estimate[-1]*(1-q_estimate))\n",
        "    \n",
        "    time_steps.insert(0, 0)\n",
        "\n",
        "    return s_estimate, time_steps\n",
        "    \n"
      ]
    },
    {
      "cell_type": "code",
      "execution_count": 7,
      "id": "cc835b23",
      "metadata": {},
      "outputs": [],
      "source": [
        "s_estimate, time_steps = s_estimator(dataset)"
      ]
    },
    {
      "cell_type": "code",
      "execution_count": 8,
      "id": "79f19f94",
      "metadata": {},
      "outputs": [
        {
          "data": {
            "image/png": "[encoded data removed]",
            "text/plain": [
              "<Figure size 640x480 with 1 Axes>"
            ]
          },
          "metadata": {},
          "output_type": "display_data"
        }
      ],
      "source": [
        "plt.plot(time_steps, s_estimate, label=\"KM Estimator\", color=\"#1f77b4\", linewidth=2)\n",
        "\n",
        "# Add labels, title, and grid\n",
        "plt.xlabel(\"Time (days)\", fontsize=12)\n",
        "plt.ylabel(\"Survival Probability\", fontsize=12)\n",
        "plt.title(\"Section 1.1: Kaplan-Meier Survival Curve from scratch\", fontsize=14)\n",
        "plt.grid(color='gray', linestyle='--', linewidth=0.5, alpha=0.7)\n",
        "plt.legend(fontsize=11, loc=\"best\")\n",
        "plt.tight_layout()\n",
        "plt.show()"
      ]
    },
    {
      "cell_type": "code",
      "execution_count": 9,
      "id": "7d6b44ac",
      "metadata": {},
      "outputs": [
        {
          "data": {
            "image/png": "[encoded data removed]",
            "text/plain": [
              "<Figure size 640x480 with 1 Axes>"
            ]
          },
          "metadata": {},
          "output_type": "display_data"
        }
      ],
      "source": [
        "# Then, compare your results with the built-in functions in lifelines library.\n",
        "kmf = KaplanMeierFitter()\n",
        "kmf.fit(dataset[\"time\"], dataset[\"DEATH_EVENT\"])\n",
        "\n",
        "kmf.survival_function_.plot()\n",
        "\n",
        "plt.xlabel(\"Time (days)\", fontsize=12)\n",
        "plt.ylabel(\"Survival Probability\", fontsize=12)\n",
        "plt.title(\"Section 1.1: Kaplan-Meier Survival Curve from lifelines\", fontsize=14)\n",
        "plt.grid(color='gray', linestyle='--', linewidth=0.5, alpha=0.7)\n",
        "plt.legend(fontsize=11, loc=\"best\")\n",
        "plt.tight_layout()\n",
        "plt.show()"
      ]
    },
    {
      "cell_type": "code",
      "execution_count": 10,
      "id": "d0b8fe23",
      "metadata": {},
      "outputs": [],
      "source": [
        "#kmf.plot_survival_function()"
      ]
    },
    {
      "cell_type": "markdown",
      "id": "4d1594bf-045d-45bb-82dd-19e94065452a",
      "metadata": {
        "id": "4d1594bf-045d-45bb-82dd-19e94065452a"
      },
      "source": [
        "### 1.1.2"
      ]
    },
    {
      "cell_type": "code",
      "execution_count": 11,
      "id": "d42ccbda",
      "metadata": {},
      "outputs": [],
      "source": [
        "def survival_function(t, beta):\n",
        "    return math.exp(-beta * t)"
      ]
    },
    {
      "cell_type": "code",
      "execution_count": 12,
      "id": "5604b135",
      "metadata": {},
      "outputs": [],
      "source": [
        "sum_censored = dataset['DEATH_EVENT'].sum()\n",
        "sum_times = dataset['time'].sum()\n",
        "\n",
        "beta_hat = sum_censored/sum_times"
      ]
    },
    {
      "cell_type": "code",
      "execution_count": 13,
      "id": "df18db34",
      "metadata": {},
      "outputs": [],
      "source": [
        "max_t = dataset['time'].max()\n",
        "time_steps = list(range(0,max_t))\n",
        "s_estimate = [survival_function(t,beta_hat) for t in time_steps]\n"
      ]
    },
    {
      "cell_type": "code",
      "execution_count": 14,
      "id": "bf047c8c",
      "metadata": {},
      "outputs": [
        {
          "data": {
            "image/png": "[encoded data removed]",
            "text/plain": [
              "<Figure size 640x480 with 1 Axes>"
            ]
          },
          "metadata": {},
          "output_type": "display_data"
        }
      ],
      "source": [
        "plt.plot(time_steps, s_estimate, label=\"Parametric Estimator (exp)\", color=\"#1f77b4\", linewidth=2)\n",
        "\n",
        "# Add labels, title, and grid\n",
        "plt.xlabel(\"Time (days)\", fontsize=12)\n",
        "plt.ylabel(\"Survival Probability\", fontsize=12)\n",
        "plt.title(\"Section 1.2: Exponential Parametric Survival Curve\", fontsize=14)\n",
        "plt.grid(color='gray', linestyle='--', linewidth=0.5, alpha=0.7)\n",
        "plt.legend(fontsize=11, loc=\"best\")\n",
        "plt.tight_layout()\n",
        "plt.show()"
      ]
    },
    {
      "cell_type": "markdown",
      "id": "62b7dee7",
      "metadata": {},
      "source": [
        "### 1.1.3"
      ]
    },
    {
      "cell_type": "code",
      "execution_count": 15,
      "id": "a4bd6577",
      "metadata": {},
      "outputs": [],
      "source": [
        "from scipy.spatial.distance import cdist\n",
        "from lifelines.utils import concordance_index\n",
        "from sklearn.preprocessing import StandardScaler"
      ]
    },
    {
      "cell_type": "code",
      "execution_count": 16,
      "id": "d8d6103c",
      "metadata": {},
      "outputs": [],
      "source": [
        "def normalize_data(data, features):\n",
        "    scaler = StandardScaler()\n",
        "    data[features] = scaler.fit_transform(data[features])\n",
        "    return data, scaler\n",
        "\n",
        "def nn_keplen_meier_individual(dataset, patient, features, n_neighbors):\n",
        "    query_vector = patient[features].values.reshape(1, -1)\n",
        "    distances = cdist(dataset[features], query_vector, metric='euclidean').flatten()\n",
        "    dataset[\"distance\"] = distances\n",
        "    nearest_neighbors = dataset.sort_values(by='distance').iloc[:n_neighbors]\n",
        "    kmf = KaplanMeierFitter()\n",
        "    kmf.fit(durations=nearest_neighbors['time'], event_observed=nearest_neighbors['DEATH_EVENT'])\n",
        "    return kmf\n",
        "\n",
        "def nn_keplen_meier(dataset, features, n_neighbors=20):\n",
        "    kmf_estimations = []\n",
        "    normalized_data, _ = normalize_data(dataset.copy(), features)\n",
        "    for idx, patient in normalized_data.iterrows():\n",
        "        data_excluding_patient = normalized_data.drop(idx)\n",
        "        kmf = nn_keplen_meier_individual(data_excluding_patient, patient, features, n_neighbors)\n",
        "        kmf_estimations.append(kmf)\n",
        "    return kmf_estimations\n"
      ]
    },
    {
      "cell_type": "code",
      "execution_count": 17,
      "id": "9aeda8d9",
      "metadata": {},
      "outputs": [
        {
          "name": "stdout",
          "output_type": "stream",
          "text": [
            "0.6884903486027082\n"
          ]
        }
      ],
      "source": [
        "features = ['age', 'anaemia', 'creatinine_phosphokinase', 'diabetes',\n",
        "       'ejection_fraction', 'high_blood_pressure', 'platelets',\n",
        "       'serum_creatinine', 'serum_sodium', 'sex', 'smoking',]\n",
        "n_neighbors=25\n",
        "time_point=150\n",
        "\n",
        "nn_keplen_meier_estimation = nn_keplen_meier(dataset, features, n_neighbors)\n",
        "survival_predictions = [kmf.survival_function_at_times([time_point]).values[0] for kmf in nn_keplen_meier_estimation]\n",
        "\n",
        "survival_times = dataset['time'].values\n",
        "events = dataset['DEATH_EVENT'].values\n",
        "c_index = concordance_index(survival_times, survival_predictions, events)\n",
        "\n",
        "print(c_index)"
      ]
    },
    {
      "cell_type": "markdown",
      "id": "cd354d5b",
      "metadata": {},
      "source": [
        "## Task 1.2: Survival Prediction in HF patients using the Cox Model [7 pts]"
      ]
    },
    {
      "cell_type": "markdown",
      "id": "e2d5dec4",
      "metadata": {},
      "source": [
        "### 1.2.1"
      ]
    },
    {
      "cell_type": "code",
      "execution_count": 18,
      "id": "11c886ab",
      "metadata": {},
      "outputs": [],
      "source": [
        "import numpy as np\n",
        "import torch.nn as nn\n",
        "import torch.optim as optim\n"
      ]
    },
    {
      "cell_type": "code",
      "execution_count": 19,
      "id": "7ef1243b",
      "metadata": {},
      "outputs": [],
      "source": [
        "class LinearRisk(nn.Module):\n",
        "    def __init__(self, input_dim):\n",
        "        super(LinearRisk, self).__init__()\n",
        "        self.linear = nn.Linear(input_dim, 1, bias=False) \n",
        "        nn.init.normal_(self.linear.weight, mean=0.0, std=0.01)\n",
        "\n",
        "    def forward(self, X):\n",
        "        return self.linear(X) \n",
        "\n",
        "def partial_likelihood_loss(model, dataset, input_columns, time_column = \"time\", event_column = \"DEATH_EVENT\"):\n",
        "    # Extract features and times\n",
        "    X = torch.tensor(dataset[input_columns].values, dtype=torch.float32)\n",
        "    times = torch.tensor(dataset[time_column].values, dtype=torch.float32)\n",
        "    events = torch.tensor(dataset[event_column].values, dtype=torch.float32)\n",
        "\n",
        "    # Compute linear scores and risk scores\n",
        "    linear_scores = model(X).squeeze()  # Shape: (n_patients,)\n",
        "    risk_scores = torch.exp(linear_scores)\n",
        "\n",
        "    # Sort patients by time (descending)\n",
        "    sorted_indices = torch.argsort(times, descending=True)\n",
        "    linear_scores = linear_scores[sorted_indices]\n",
        "    risk_scores = risk_scores[sorted_indices]\n",
        "    events = events[sorted_indices]\n",
        "\n",
        "    # Compute log-partial likelihood\n",
        "    log_cumulative_hazard = torch.log(torch.cumsum(risk_scores, dim=0))\n",
        "    log_likelihood = linear_scores - log_cumulative_hazard\n",
        "    neg_log_likelihood = -torch.sum(events * log_likelihood)\n",
        "\n",
        "    return neg_log_likelihood"
      ]
    },
    {
      "cell_type": "code",
      "execution_count": 20,
      "id": "d8292a72",
      "metadata": {},
      "outputs": [
        {
          "name": "stdout",
          "output_type": "stream",
          "text": [
            "Epoch 0, Loss: 508.0915\n",
            "Epoch 100, Loss: 490.8505\n",
            "Epoch 200, Loss: 480.7729\n",
            "Epoch 300, Loss: 475.2629\n",
            "Epoch 400, Loss: 472.2374\n",
            "Epoch 500, Loss: 470.4644\n",
            "Epoch 600, Loss: 469.3960\n",
            "Epoch 700, Loss: 468.7673\n",
            "Epoch 800, Loss: 468.4144\n",
            "Epoch 900, Loss: 468.2270\n"
          ]
        }
      ],
      "source": [
        "# Initialize dataset, model, and optimizer\n",
        "input_columns = ['age', 'anaemia', 'creatinine_phosphokinase', 'diabetes',\n",
        "                 'ejection_fraction', 'high_blood_pressure', 'platelets',\n",
        "                 'serum_creatinine', 'serum_sodium', 'sex', 'smoking']\n",
        "\n",
        "model = LinearRisk(input_dim=len(input_columns))  # 1-layer NN for linear risk\n",
        "optimizer = optim.Adam(model.parameters(), lr=0.001)\n",
        "n_epochs = 1000\n",
        "training_data, scaler = normalize_data(dataset.copy(), input_columns)\n",
        "\n",
        "# Training loop\n",
        "for epoch in range(n_epochs):\n",
        "    optimizer.zero_grad()\n",
        "    loss = partial_likelihood_loss(model, training_data, input_columns)\n",
        "    loss.backward()\n",
        "    optimizer.step()\n",
        "\n",
        "    if epoch % 100 == 0:\n",
        "        print(f\"Epoch {epoch}, Loss: {loss.item():.4f}\")\n"
      ]
    },
    {
      "cell_type": "code",
      "execution_count": 21,
      "id": "cca30d42",
      "metadata": {},
      "outputs": [
        {
          "name": "stdout",
          "output_type": "stream",
          "text": [
            "Model Coefficients:\n",
            "                      Column  Coefficient\n",
            "0                        age     0.520659\n",
            "1                    anaemia     0.226471\n",
            "2   creatinine_phosphokinase     0.212192\n",
            "3                   diabetes     0.060030\n",
            "4          ejection_fraction    -0.545407\n",
            "5        high_blood_pressure     0.226810\n",
            "6                  platelets    -0.042735\n",
            "7           serum_creatinine     0.326571\n",
            "8               serum_sodium    -0.204339\n",
            "9                        sex    -0.106607\n",
            "10                   smoking     0.056424\n"
          ]
        }
      ],
      "source": [
        "# Report coefficients\n",
        "model_coefficients = model.linear.weight.detach().numpy().flatten()\n",
        "print(\"Model Coefficients:\")\n",
        "coefficients_df = pd.DataFrame({\"Column\":input_columns, \"Coefficient\":model_coefficients})\n",
        "print(coefficients_df)\n",
        "\n",
        "coefficients_df.to_csv(\"Model_coefficients_part21.csv\")"
      ]
    },
    {
      "cell_type": "code",
      "execution_count": 22,
      "id": "ffdbdac2",
      "metadata": {},
      "outputs": [
        {
          "name": "stdout",
          "output_type": "stream",
          "text": [
            "                      Column  Coefficient  Unscaled Coefficient  Hazard Ratio\n",
            "0                        age        0.521                 0.044         1.045\n",
            "1                    anaemia        0.226                 0.457         1.580\n",
            "2   creatinine_phosphokinase        0.212                 0.000         1.000\n",
            "3                   diabetes        0.060                 0.122         1.129\n",
            "4          ejection_fraction       -0.545                -0.046         0.955\n",
            "5        high_blood_pressure        0.227                 0.475         1.608\n",
            "6                  platelets       -0.043                -0.000         1.000\n",
            "7           serum_creatinine        0.327                 0.316         1.372\n",
            "8               serum_sodium       -0.204                -0.046         0.955\n",
            "9                        sex       -0.107                -0.223         0.800\n",
            "10                   smoking        0.056                 0.121         1.128\n"
          ]
        }
      ],
      "source": [
        "# Since I normalized the features I need to undo the normalization\n",
        "# Get scaler parameters\n",
        "scaler_means = scaler.mean_  \n",
        "scaler_stds = scaler.scale_ \n",
        "\n",
        "# Create an empty list to store results\n",
        "unscaled_betas = []\n",
        "\n",
        "for i, feature in enumerate(input_columns):\n",
        "    # Get the scaled beta for the feature\n",
        "    scaled_beta = coefficients_df.loc[coefficients_df[\"Column\"] == feature, \"Coefficient\"].values[0]\n",
        "    \n",
        "    # Reverse normalization: unscaled_beta = scaled_beta * std\n",
        "    unscaled_beta = scaled_beta / scaler_stds[i]\n",
        "    hazard_ratio = np.exp(unscaled_beta)     # Compute Hazard Ratio (HR): HR = exp(unscaled_beta)\n",
        "    \n",
        "    # Append results\n",
        "    unscaled_betas.append({\n",
        "        \"Column\": feature,\n",
        "        \"Coefficient\": scaled_beta,\n",
        "        \"Unscaled Coefficient\": unscaled_beta,\n",
        "        \"Hazard Ratio\": hazard_ratio\n",
        "    })\n",
        "\n",
        "# Convert to a DataFrame\n",
        "unscaled_coefficients_df = pd.DataFrame(unscaled_betas).round(3)\n",
        "unscaled_coefficients_df.to_csv(\"Unscaled_model_coeffs_part_21.csv\")\n",
        "\n",
        "# Display the results\n",
        "print(unscaled_coefficients_df)\n"
      ]
    },
    {
      "cell_type": "markdown",
      "id": "601a19a3",
      "metadata": {},
      "source": [
        "### 1.2.2"
      ]
    },
    {
      "cell_type": "code",
      "execution_count": 23,
      "id": "a578212d",
      "metadata": {},
      "outputs": [
        {
          "name": "stdout",
          "output_type": "stream",
          "text": [
            "0.7415730337078652\n"
          ]
        }
      ],
      "source": [
        "survival_times = dataset['time'].values\n",
        "events = dataset['DEATH_EVENT'].values\n",
        "X = torch.tensor(training_data[input_columns].values, dtype=torch.float32)\n",
        "linear_scores = model(X).squeeze()  \n",
        "risk_scores = torch.exp(linear_scores).detach().numpy()\n",
        "survival_predictions = 1-risk_scores\n",
        "\n",
        "c_index = concordance_index(survival_times, survival_predictions, events)\n",
        "\n",
        "print(c_index)"
      ]
    },
    {
      "cell_type": "markdown",
      "id": "9b21727a",
      "metadata": {},
      "source": [
        "### 1.2.3\n"
      ]
    },
    {
      "cell_type": "code",
      "execution_count": 24,
      "id": "7a4a9cf1",
      "metadata": {},
      "outputs": [
        {
          "data": {
            "text/plain": [
              "Index(['age', 'anaemia', 'creatinine_phosphokinase', 'diabetes',\n",
              "       'ejection_fraction', 'high_blood_pressure', 'platelets',\n",
              "       'serum_creatinine', 'serum_sodium', 'sex', 'smoking', 'time',\n",
              "       'DEATH_EVENT'],\n",
              "      dtype='object')"
            ]
          },
          "execution_count": 24,
          "metadata": {},
          "output_type": "execute_result"
        }
      ],
      "source": [
        "dataset.columns"
      ]
    },
    {
      "cell_type": "code",
      "execution_count": 25,
      "id": "29778951",
      "metadata": {},
      "outputs": [
        {
          "name": "stdout",
          "output_type": "stream",
          "text": [
            "Epoch 0, Loss: 509.3091\n",
            "Epoch 100, Loss: 490.7278\n",
            "Epoch 200, Loss: 479.8495\n",
            "Epoch 300, Loss: 474.0891\n",
            "Epoch 400, Loss: 471.1405\n",
            "Epoch 500, Loss: 469.5639\n",
            "Epoch 600, Loss: 468.6916\n",
            "Epoch 700, Loss: 468.2150\n",
            "Epoch 800, Loss: 467.9644\n",
            "Epoch 900, Loss: 467.8384\n"
          ]
        }
      ],
      "source": [
        "# add interaction term\n",
        "training_data = dataset.copy()\n",
        "training_data[\"age_sex\"] = training_data[\"age\"] * dataset[\"sex\"]\n",
        "\n",
        "# Initialize dataset, model, and optimizer\n",
        "input_columns = ['age', 'anaemia', 'creatinine_phosphokinase', 'diabetes',\n",
        "                 'ejection_fraction', 'high_blood_pressure', 'platelets',\n",
        "                 'serum_creatinine', 'serum_sodium', 'sex', 'smoking', 'age_sex']\n",
        "\n",
        "model = LinearRisk(input_dim=len(input_columns))  # 1-layer NN for linear risk\n",
        "optimizer = optim.Adam(model.parameters(), lr=0.001)\n",
        "n_epochs = 1000\n",
        "training_data, scaler = normalize_data(training_data, input_columns)\n",
        "\n",
        "# Training loop\n",
        "for epoch in range(n_epochs):\n",
        "    optimizer.zero_grad()\n",
        "    loss = partial_likelihood_loss(model, training_data, input_columns)\n",
        "    loss.backward()\n",
        "    optimizer.step()\n",
        "\n",
        "    if epoch % 100 == 0:\n",
        "        print(f\"Epoch {epoch}, Loss: {loss.item():.4f}\")"
      ]
    },
    {
      "cell_type": "code",
      "execution_count": 26,
      "id": "e7959b62",
      "metadata": {},
      "outputs": [
        {
          "name": "stdout",
          "output_type": "stream",
          "text": [
            "Model Coefficients:\n",
            "                      Column  Coefficient\n",
            "0                        age     0.435142\n",
            "1                    anaemia     0.220876\n",
            "2   creatinine_phosphokinase     0.204392\n",
            "3                   diabetes     0.059552\n",
            "4          ejection_fraction    -0.542505\n",
            "5        high_blood_pressure     0.222263\n",
            "6                  platelets    -0.042151\n",
            "7           serum_creatinine     0.321274\n",
            "8               serum_sodium    -0.196461\n",
            "9                        sex    -0.515396\n",
            "10                   smoking     0.062518\n",
            "11                   age_sex     0.411315\n"
          ]
        }
      ],
      "source": [
        "# Report coefficients\n",
        "model_coefficients = model.linear.weight.detach().numpy().flatten()\n",
        "print(\"Model Coefficients:\")\n",
        "coefficients_df = pd.DataFrame({\"Column\":input_columns, \"Coefficient\":model_coefficients})\n",
        "print(coefficients_df)\n",
        "\n",
        "coefficients_df.to_csv(\"Model_coefficients_part22.csv\")"
      ]
    },
    {
      "cell_type": "code",
      "execution_count": 27,
      "id": "a808df96",
      "metadata": {},
      "outputs": [
        {
          "name": "stdout",
          "output_type": "stream",
          "text": [
            "                      Column  Coefficient  Unscaled Coefficient  Hazard Ratio\n",
            "0                        age        0.435                 0.037         1.037\n",
            "1                    anaemia        0.221                 0.446         1.562\n",
            "2   creatinine_phosphokinase        0.204                 0.000         1.000\n",
            "3                   diabetes        0.060                 0.121         1.128\n",
            "4          ejection_fraction       -0.543                -0.046         0.955\n",
            "5        high_blood_pressure        0.222                 0.466         1.593\n",
            "6                  platelets       -0.042                -0.000         1.000\n",
            "7           serum_creatinine        0.321                 0.311         1.365\n",
            "8               serum_sodium       -0.196                -0.045         0.956\n",
            "9                        sex       -0.515                -1.080         0.340\n",
            "10                   smoking        0.063                 0.134         1.143\n",
            "11                   age_sex        0.411                 0.013         1.013\n"
          ]
        }
      ],
      "source": [
        "# Since I normalized the features I need to undo the normalization\n",
        "# Get scaler parameters\n",
        "scaler_means = scaler.mean_  \n",
        "scaler_stds = scaler.scale_ \n",
        "\n",
        "# Create an empty list to store results\n",
        "unscaled_betas = []\n",
        "\n",
        "for i, feature in enumerate(input_columns):\n",
        "    # Get the scaled beta for the feature\n",
        "    scaled_beta = coefficients_df.loc[coefficients_df[\"Column\"] == feature, \"Coefficient\"].values[0]\n",
        "    \n",
        "    # Reverse normalization: unscaled_beta = scaled_beta * std\n",
        "    unscaled_beta = scaled_beta / scaler_stds[i]\n",
        "    hazard_ratio = np.exp(unscaled_beta)     # Compute Hazard Ratio (HR): HR = exp(unscaled_beta)\n",
        "    \n",
        "    # Append results\n",
        "    unscaled_betas.append({\n",
        "        \"Column\": feature,\n",
        "        \"Coefficient\": scaled_beta,\n",
        "        \"Unscaled Coefficient\": unscaled_beta,\n",
        "        \"Hazard Ratio\": hazard_ratio\n",
        "    })\n",
        "\n",
        "# Convert to a DataFrame\n",
        "unscaled_coefficients_df = pd.DataFrame(unscaled_betas).round(3)\n",
        "unscaled_coefficients_df.to_csv(\"Unscaled_model_coeffs_part_22.csv\")\n",
        "\n",
        "# Display the results\n",
        "print(unscaled_coefficients_df)\n"
      ]
    },
    {
      "cell_type": "markdown",
      "id": "0cc70b2d-cc66-42d0-8b37-8251f9e66636",
      "metadata": {
        "id": "0cc70b2d-cc66-42d0-8b37-8251f9e66636"
      },
      "source": [
        "## Task 1.3: Deep Survival Prediction for Heart Transplantation [8 pts]"
      ]
    },
    {
      "cell_type": "markdown",
      "id": "36d97445-e2aa-4429-9655-5c25041b2c67",
      "metadata": {
        "id": "36d97445-e2aa-4429-9655-5c25041b2c67"
      },
      "source": [
        "####  Setup and Dataset\n",
        "\n",
        "For this task, we will use data collected by the United Network for Organ Sharing (UNOS) [2], a non-profit organization that administers the only Organ Procurement and Transplantation Network (OPTN) in the US. UNOS is involved in many aspects of the organ transplant and donation process in the US, including data collection and maintenance, providing assitance to patients and care takers, and informing policy makers on the best use of the limited supply of organs and give all patients a fair chance at receiving the organ they need. UNOS manages the heart transplant waiting list, i.e., the list of terminally-ill patients waiting for donor heart. In order to determine the order of priority for receipt of a donor heart, individuals are classified by degrees of severity for a donor heart, blood type, body weight, and geographic location.\n",
        "\n",
        "This Task will focus on the cohort of terminally-ill patients who are enrolled in the wait-list for heart transplantation. In this setup, our goal is to predict the patients who are less likely to survive in order to prioritize them for receiving donated organs. The UNOS data covers 30 years of heart transplantation data in the US, spanning the years from 1985 to 2015. We will use data for patients who were on the wait-list for heart transplantation in the US from 1985 to 2010 (27,926 patients) to train an ML-based model for predicting individual-level survival. A held-out test set of 8,403 patients enrolled in the wait-list between 2010 and 2015 will be used by the instructor to evaluate your model. You can load the UNOS data in pandas as follows."
      ]
    },
    {
      "cell_type": "code",
      "execution_count": 28,
      "id": "e147b2a3-26d5-4bbc-8266-61f71ca8be9d",
      "metadata": {
        "id": "e147b2a3-26d5-4bbc-8266-61f71ca8be9d"
      },
      "outputs": [],
      "source": [
        "UNOS_data           = pd.read_csv(\"data/UNOS_train.csv\")"
      ]
    },
    {
      "cell_type": "markdown",
      "id": "a2c649f9-08b6-4496-8bf3-31ae2106c0fd",
      "metadata": {
        "id": "a2c649f9-08b6-4496-8bf3-31ae2106c0fd"
      },
      "source": [
        "#### Feature Dictionary\n",
        "\n",
        "Each patient's record in the UNOS database is associated with the following variables:"
      ]
    },
    {
      "cell_type": "code",
      "execution_count": 29,
      "id": "21caaba9-5f43-4c70-8265-afce7e77782d",
      "metadata": {
        "id": "21caaba9-5f43-4c70-8265-afce7e77782d"
      },
      "outputs": [],
      "source": [
        "patient_variables   = [\"init_age\", \"gender\", \"hgt_cm_tcr\", \"wgt_kg_tcr\", \"diab\", \"ventilator_tcr\",\n",
        "                       \"ecmo_tcr\", \"most_rcnt_creat\", \"abo_A\", \"abo_B\", \"abo_O\", \"vad_while_listed\",\n",
        "                       \"days_stat1\", \"days_stat1a\", \"days_stat2\", \"days_stat1b\", \"iabp_tcr\",\n",
        "                       \"init_bmi_calc\", \"tah\", \"inotropic\", \"Censor (Censor = 1)\", \"Survival Time\"]"
      ]
    },
    {
      "cell_type": "code",
      "execution_count": 30,
      "id": "9272e815",
      "metadata": {},
      "outputs": [],
      "source": [
        "# Filter patients with negative survival times-  unsure what the explanation is\n",
        "\n",
        "UNOS_data = UNOS_data[UNOS_data['Survival Time']>=0]"
      ]
    },
    {
      "cell_type": "code",
      "execution_count": 31,
      "id": "4b4916e7",
      "metadata": {},
      "outputs": [
        {
          "data": {
            "text/plain": [
              "np.int64(0)"
            ]
          },
          "execution_count": 31,
          "metadata": {},
          "output_type": "execute_result"
        }
      ],
      "source": [
        "UNOS_data['Survival Time'].min()"
      ]
    },
    {
      "cell_type": "markdown",
      "id": "224d7db7-36fa-4285-8dc1-fb202b608f7a",
      "metadata": {
        "id": "224d7db7-36fa-4285-8dc1-fb202b608f7a"
      },
      "source": [
        "The interpretation of each variable is provided below:\n",
        "\n",
        "- \"init_age\": Patient's age at time of enrolling in the wait-list\n",
        "- \"gender\": Patient's biological sex\n",
        "- \"hgt_cm_tcr\": Patient's height in cm\n",
        "- \"wgt_kg_tcr\": Patient's weight in kgs\n",
        "- \"diab\": Indication on whether or not the patient is diabetic\n",
        "- \"abo_A\": Indication on whether patient's blood type is A\n",
        "- \"abo_B\": Indication on whether patient's blood type is B\n",
        "- \"abo_O\": Indication on whether patient's blood type is O\n",
        "- \"ventilator_tcr\": Indication on whether the patient was dependent on a ventilator at time of enrollment in the wait-list\n",
        "- \"ecmo_tcr\": Indication on whether the patient was treated with ECMO (extracorporeal membrane oxygenation) by the time they where enrolled in the wait-list. ECMO is an artificial life support that continuously pumps blood out of the patient's body and sends it through a series of devices that add oxygen and remove carbon dioxide, pumping the blood back to the patient. It is used for a patient whose heart and lungs are not functioning properly.  \n",
        "- \"most_rcnt_creat\": Creatinine level in the patient's most recent blood test before enrolling in wait-list.\n",
        "- \"vad_while_listed\": Whether the patient was on ventricular assist device (VAD) support when listed for a heart transplant. VAD is a mechanical pump used to restore cardiac function by pumping blood from the lower chambers of the heart to the rest of the body.\n",
        "- \"iabp_tcr\": Whether the patient was on Intra-Aortic Balloon Pump (IABP) Therapy. This is a therapeutic device used to improve blood flow when the heart is unable to pump enough blood for your body.\n",
        "- \"init_bmi_calc\": Patient's Body Mass Index at time of enrollment in the wait-list.\n",
        "- \"tah\": Whether the patient underwent a total artificial heart (TAH) surgery. This is a mechanical pump that replaces the heart when it is not working as it should.\n",
        "- \"inotropic\": Whether the patient was on an Inotropic drug at time of enrollment in wait-list. These are medicines that change the force of the heart's contractions.\n",
        "- \"days_stat1\", \"days_stat1a\", \"days_stat1b\", \"days_stat2\": UNOS has an internal system for classifying the priority of patients for receiving a heart transplant. Individuals classified as Status 1A have the highest priority on the heart transplant waiting list. Status 1A are individuals who must stay in the hospital as in-patients and require high doses of intravenous drugs, require a VAD for survival, are dependent on a ventilator or have a life expectancy of a week or less without a transplant. Individuals classified as Status 1B are generally not required to stay in the hospital as in-patients. All other candidates for the transplant are listed under Status 2. These variables indicate the number of days a patient spends in each status during the time between their enrollment in the wait-list and death or reception of a transplant.\n",
        "- \"Censor (Censor = 1)\": Indication of censoring\n",
        "- \"Survival Time\": Time between enrollment in wait-list and death"
      ]
    },
    {
      "cell_type": "markdown",
      "id": "481eae55-45ef-46b9-9d45-a0a63f1da3d8",
      "metadata": {
        "id": "481eae55-45ef-46b9-9d45-a0a63f1da3d8"
      },
      "source": [
        "## Solution"
      ]
    },
    {
      "cell_type": "code",
      "execution_count": 32,
      "id": "a510a4cc",
      "metadata": {},
      "outputs": [],
      "source": [
        "from sklearn.model_selection import KFold\n",
        "import pickle"
      ]
    },
    {
      "cell_type": "code",
      "execution_count": 33,
      "id": "61bb677b",
      "metadata": {},
      "outputs": [],
      "source": [
        "def partial_likelihood_with_L2_reg(model, dataset, input_columns, lambda_reg, time_column, event_column):\n",
        "    # Compute the negative log partial likelihood\n",
        "    neg_log_likelihood = partial_likelihood_loss(model, dataset, input_columns, time_column, event_column)\n",
        "    \n",
        "    # Compute L2 regularization term\n",
        "    l2_reg = sum(torch.sum(param ** 2) for param in model.parameters())\n",
        "\n",
        "    # Add regularization to the loss\n",
        "    total_loss = neg_log_likelihood + 0.5 * lambda_reg * l2_reg\n",
        "\n",
        "    return total_loss"
      ]
    },
    {
      "cell_type": "code",
      "execution_count": 36,
      "id": "8d9a8bb2",
      "metadata": {},
      "outputs": [],
      "source": [
        "class DeepSurv(nn.Module):\n",
        "    ''' The module class performs building network according to config'''\n",
        "    def __init__(self, dimensions: list, dropout = 0.1, normalization=True, activation = \"ReLU\" ):\n",
        "        \"\"\"Initialize DeepSurv model. \n",
        "        Args:\n",
        "        - dimensions: list with the dimensions of each hidden layer. the len of dimensions will be the number of blocks\n",
        "            First item is the input dimension, and last item is the output dimension. \n",
        "        - dropout: proportion of dropout (float)\n",
        "        - normalization: boolean flag to to apply BatchNorm\n",
        "        - activation: which activation function to use\"\"\"\n",
        "        super(DeepSurv, self).__init__()\n",
        "        self.model = self._build_model(dimensions, dropout, normalization, activation)\n",
        "\n",
        "    def _build_model(self, dimensions, dropout, normalization, activation):\n",
        "        layers = []\n",
        "        # To do: update\n",
        "        for i in range(len(dimensions)-2):\n",
        "            layers.append(nn.Linear(dimensions[i], dimensions[i+1]))\n",
        "            if normalization: \n",
        "                layers.append(nn.BatchNorm1d(dimensions[i+1]))\n",
        "            layers.append(eval('nn.{}()'.format(activation)))\n",
        "            if dropout is not None: \n",
        "                layers.append(nn.Dropout(dropout))\n",
        "        # final layer\n",
        "        layers.append(nn.Linear(dimensions[-2], dimensions[-1]))\n",
        "\n",
        "        # builds sequential network\n",
        "        return nn.Sequential(*layers)\n",
        "\n",
        "    def forward(self, X):\n",
        "        return self.model(X)"
      ]
    },
    {
      "cell_type": "code",
      "execution_count": 37,
      "id": "8cac2a03",
      "metadata": {},
      "outputs": [],
      "source": [
        "UNOS_data[\"DEATH_EVENT\"] = np.logical_not(UNOS_data[\"Censor (Censor = 1)\"]).astype(int)\n",
        "\n",
        "columns_to_ignore = [\"days_stat1\", \"days_stat1a\", \"days_stat2\", \"days_stat1b\"]\n",
        "censor_col = \"Censor (Censor = 1)\"\n",
        "death_col = \"DEATH_EVENT\"\n",
        "survival_time_col = \"Survival Time\"\n",
        "\n",
        "input_columns = [p for p in patient_variables if p not in columns_to_ignore+[censor_col]+[survival_time_col]+[death_col]]"
      ]
    },
    {
      "cell_type": "code",
      "execution_count": 38,
      "id": "8a4e8ad3",
      "metadata": {},
      "outputs": [
        {
          "name": "stdout",
          "output_type": "stream",
          "text": [
            "Epoch 0, Loss: 154521.3438\n",
            "Epoch 100, Loss: 153019.6719\n",
            "Epoch 200, Loss: 152806.9219\n",
            "Epoch 300, Loss: 152737.9062\n",
            "Epoch 400, Loss: 152634.9844\n",
            "Epoch 500, Loss: 152604.0312\n",
            "Epoch 600, Loss: 152577.1094\n",
            "Epoch 700, Loss: 152489.8750\n",
            "Epoch 800, Loss: 152502.7344\n",
            "Epoch 900, Loss: 152518.4062\n",
            "0.6346725100003991\n"
          ]
        }
      ],
      "source": [
        "# No cross validation\n",
        "\n",
        "model = DeepSurv(dimensions = [len(input_columns), 20, 20, 20, 1],)  # 1-layer NN for linear risk\n",
        "optimizer = optim.Adam(model.parameters(), lr=0.001)\n",
        "n_epochs = 1000\n",
        "training_data, scaler = normalize_data(UNOS_data.copy(), input_columns)\n",
        "\n",
        "# Training loop\n",
        "for epoch in range(n_epochs):\n",
        "    optimizer.zero_grad()\n",
        "    loss = partial_likelihood_with_L2_reg(model, training_data, input_columns, 0.1, survival_time_col, death_col)\n",
        "    loss.backward()\n",
        "    optimizer.step()\n",
        "\n",
        "    if epoch % 100 == 0:\n",
        "        print(f\"Epoch {epoch}, Loss: {loss.item():.4f}\")\n",
        "\n",
        "survival_times = UNOS_data[survival_time_col].values\n",
        "events = UNOS_data[death_col].values\n",
        "X = torch.tensor(training_data[input_columns].values, dtype=torch.float32)\n",
        "linear_scores = model(X).squeeze()  \n",
        "risk_scores = torch.exp(linear_scores).detach().numpy()\n",
        "survival_predictions = 1-risk_scores\n",
        "\n",
        "c_index = concordance_index(survival_times, survival_predictions, events)\n",
        "\n",
        "print(c_index)"
      ]
    },
    {
      "cell_type": "code",
      "execution_count": 63,
      "id": "b497f2e2",
      "metadata": {},
      "outputs": [],
      "source": [
        "class SurvivalModel:\n",
        "    def __init__(self, dimensions, dropout=0.1, normalization=True, activation=\"ReLU\"):\n",
        "        self.model = DeepSurv(dimensions, dropout, normalization, activation)\n",
        "        self.baseline_survival = None  # Store baseline hazard parameter\n",
        "        self.scaler = None # Store scaler\n",
        "        self.times = np.arange(0, 3650, 180)  # Time in days (every 6 months for 10 years)\n",
        "\n",
        "    def fit(self, X, T, C, n_epochs=1000, lr=0.001, lambda_reg=0.1, save_weights=False, print_metrics=False):\n",
        "        optimizer = optim.Adam(self.model.parameters(), lr=lr)\n",
        "\n",
        "        self.scaler = StandardScaler()\n",
        "        X = self.scaler.fit_transform(X)        \n",
        "\n",
        "        dataset = pd.DataFrame(X)\n",
        "        input_columns = dataset.columns.tolist()\n",
        "        dataset[\"Survival Time\"] = T\n",
        "        dataset[\"Censor (Censor = 1)\"] = C\n",
        "        dataset[\"DEATH_EVENT\"] = np.logical_not(dataset[\"Censor (Censor = 1)\"]).astype(int)\n",
        "        \n",
        "        for epoch in range(n_epochs):\n",
        "            optimizer.zero_grad()\n",
        "            loss = partial_likelihood_with_L2_reg(self.model, dataset, input_columns, lambda_reg, \"Survival Time\", \"DEATH_EVENT\")\n",
        "            loss.backward()\n",
        "            optimizer.step()\n",
        "            if print_metrics:\n",
        "                if epoch % 100 == 0:\n",
        "                    print(f\"Epoch {epoch}, Loss: {loss.item():.4f}\")\n",
        "\n",
        "        self.baseline_survival = self._compute_baseline_survival(T, C)\n",
        "\n",
        "        if save_weights:\n",
        "            torch.save(self.model.state_dict(), \"model_weights.pth\")\n",
        "            with open(\"baseline_survival.pkl\", \"wb\") as f:\n",
        "                pickle.dump(self.baseline_survival, f)\n",
        "            with open(\"scaler.pkl\", \"wb\") as f:\n",
        "                pickle.dump(self.scaler, f)\n",
        "\n",
        "    def _compute_baseline_survival(self, T, C):\n",
        "        kmf = KaplanMeierFitter()\n",
        "        kmf.fit(T, event_observed=1 - C)  # Death event = 1 - C\n",
        "        return kmf.survival_function_\n",
        "    \n",
        "    def predict(self, X):\n",
        "        if self.scaler is None:\n",
        "            raise ValueError(\"Scaler not found. Train the model or load parameters first.\")\n",
        "        X = self.scaler.transform(X) # Normalize\n",
        "\n",
        "        X_tensor = torch.tensor(X, dtype=torch.float32) # Convert to tensor\n",
        "        linear_scores = self.model(X_tensor).squeeze().detach().numpy()\n",
        "        risk_scores = np.exp(linear_scores)  # Convert linear scores to risk\n",
        "\n",
        "        if self.baseline_survival is None:\n",
        "            raise ValueError(\"Baseline survival not found. Train the model or load parameters first.\")\n",
        "\n",
        "        # Interpolate the baseline survival function for the specified times\n",
        "        baseline_values = np.interp(self.times, self.baseline_survival.index, self.baseline_survival.values.flatten())\n",
        "\n",
        "        # Compute survival probabilities using baseline survival function\n",
        "        survival_predictions = np.power(baseline_values, risk_scores[:, None])\n",
        "        return survival_predictions\n",
        "\n",
        "    def load_weights(self, model_weights_path=\"model_weights.pth\", baseline_survival_path=\"baseline_survival.pkl\", scaler_path=\"scaler.pkl\"):\n",
        "        \"\"\" Load model weights, baseline survival function, and scaler \"\"\"\n",
        "        self.model.load_state_dict(torch.load(model_weights_path))\n",
        "        with open(baseline_survival_path, \"rb\") as f:\n",
        "            self.baseline_survival = pickle.load(f)\n",
        "        with open(scaler_path, \"rb\") as f:\n",
        "            self.scaler = pickle.load(f)\n"
      ]
    },
    {
      "cell_type": "code",
      "execution_count": 482,
      "id": "a3d08746",
      "metadata": {},
      "outputs": [],
      "source": [
        "def cross_validate(data, input_columns, param_grid, n_splits=3):\n",
        "    kf = KFold(n_splits=n_splits, shuffle=True, random_state=42)\n",
        "    results = []\n",
        "    \n",
        "    for params in param_grid:\n",
        "        c_index_scores = []\n",
        "        for train_idx, test_idx in kf.split(data):\n",
        "            train_data, test_data = data.iloc[train_idx], data.iloc[test_idx]\n",
        "            X_train, T_train, C_train = np.array(train_data[input_columns]), train_data[\"Survival Time\"].values, train_data[\"Censor (Censor = 1)\"].values\n",
        "            X_test, T_test, C_test = np.array(test_data[input_columns]), test_data[\"Survival Time\"].values, test_data[\"Censor (Censor = 1)\"].values\n",
        "            \n",
        "            model = SurvivalModel(**params)\n",
        "            model.fit(X_train, T_train, C_train)\n",
        "            \n",
        "            event_test = test_data[\"DEATH_EVENT\"].values\n",
        "            survival_prediction = model.predict(X_test)[:, 5]  # Use third time point as risk score proxy\n",
        "            c_index = concordance_index(T_test, survival_prediction, event_test)\n",
        "            c_index_scores.append(c_index)\n",
        "        \n",
        "        results.append((params, np.mean(c_index_scores)))\n",
        "    \n",
        "    return results"
      ]
    },
    {
      "cell_type": "code",
      "execution_count": 483,
      "id": "ea65b2c4",
      "metadata": {},
      "outputs": [
        {
          "name": "stdout",
          "output_type": "stream",
          "text": [
            "Params: {'dimensions': [16, 50, 1], 'dropout': 0.1, 'activation': 'ReLU'}, C-index: 0.6237\n",
            "Params: {'dimensions': [16, 10, 10, 10, 10, 1], 'dropout': 0.1, 'activation': 'ReLU'}, C-index: 0.6029\n",
            "Params: {'dimensions': [16, 20, 10, 1], 'dropout': 0.1, 'activation': 'SELU'}, C-index: 0.6216\n",
            "Params: {'dimensions': [16, 50, 50, 1], 'dropout': 0.1, 'activation': 'SELU'}, C-index: 0.6266\n"
          ]
        }
      ],
      "source": [
        "# Define hyperparameter grid\n",
        "param_grid = [\n",
        "    {\"dimensions\": [len(input_columns), 50, 1], \"dropout\": 0.1, \"activation\": \"ReLU\"},\n",
        "    {\"dimensions\": [len(input_columns), 10, 10, 10, 10, 1], \"dropout\": 0.1, \"activation\": \"ReLU\"},\n",
        "    {\"dimensions\": [len(input_columns), 20, 10, 1], \"dropout\": 0.1, \"activation\": \"SELU\"},\n",
        "    {\"dimensions\": [len(input_columns), 50, 50, 1], \"dropout\": 0.1, \"activation\": \"SELU\"}\n",
        "]\n",
        "\n",
        "results = cross_validate(UNOS_data, input_columns, param_grid=param_grid)\n",
        "for params, score in results:\n",
        "    print(f\"Params: {params}, C-index: {score:.4f}\")"
      ]
    },
    {
      "cell_type": "code",
      "execution_count": 71,
      "id": "32fb84d1",
      "metadata": {},
      "outputs": [
        {
          "name": "stdout",
          "output_type": "stream",
          "text": [
            "0.6390887580741508\n"
          ]
        }
      ],
      "source": [
        "train_data = UNOS_data.copy()\n",
        "\n",
        "X_train, T_train, C_train = np.array(train_data[input_columns]), train_data[\"Survival Time\"].values, train_data[\"Censor (Censor = 1)\"].values\n",
        "\n",
        "model = SurvivalModel(dimensions=[len(input_columns), 50, 50, 1], dropout= 0.1, activation= \"ReLU\")\n",
        "model.fit(X_train, T_train, C_train, save_weights=True)\n",
        "\n",
        "event = train_data[\"DEATH_EVENT\"].values\n",
        "risk_scores = model.predict(X_train)[:, 5]  # Use third time point as risk score proxy\n",
        "c_index = concordance_index(T_train, risk_scores, event)\n",
        "\n",
        "print(c_index)"
      ]
    },
    {
      "cell_type": "code",
      "execution_count": 66,
      "id": "ab8f3a57",
      "metadata": {},
      "outputs": [
        {
          "name": "stderr",
          "output_type": "stream",
          "text": [
            "/var/folders/zv/fpk7tffn5dd3nvq2jc4mp9m80000gn/T/ipykernel_36629/859571609.py:64: FutureWarning: You are using `torch.load` with `weights_only=False` (the current default value), which uses the default pickle module implicitly. It is possible to construct malicious pickle data which will execute arbitrary code during unpickling (See https://github.com/pytorch/pytorch/blob/main/SECURITY.md#untrusted-models for more details). In a future release, the default value for `weights_only` will be flipped to `True`. This limits the functions that could be executed during unpickling. Arbitrary objects will no longer be allowed to be loaded via this mode unless they are explicitly allowlisted by the user via `torch.serialization.add_safe_globals`. We recommend you start setting `weights_only=True` for any use case where you don't have full control of the loaded file. Please open an issue on GitHub for any issues related to this experimental feature.\n",
            "  self.model.load_state_dict(torch.load(model_weights_path))\n"
          ]
        }
      ],
      "source": [
        "model = SurvivalModel(dimensions=[len(input_columns), 50, 50, 1])\n",
        "try:\n",
        "    model.load_weights()\n",
        "    model.model.eval()\n",
        "except FileNotFoundError:\n",
        "    print(\"No pre-trained model weights found. Training a new model.\")"
      ]
    },
    {
      "cell_type": "code",
      "execution_count": 72,
      "id": "dc173099",
      "metadata": {},
      "outputs": [
        {
          "data": {
            "image/png": "[encoded data removed]",
            "text/plain": [
              "<Figure size 640x480 with 1 Axes>"
            ]
          },
          "metadata": {},
          "output_type": "display_data"
        }
      ],
      "source": [
        "predictions = model.predict(X_train)\n",
        "times = np.arange(0, 3650, 180)\n",
        "kmf = KaplanMeierFitter()\n",
        "kmf.fit(T_train, event_observed=event)\n",
        "\n",
        "import matplotlib.pyplot as plt\n",
        "plt.step(times, np.mean(predictions, axis=0), label=\"Predicted Survival Curve\", linestyle=\"--\")\n",
        "plt.step(kmf.survival_function_.index, kmf.survival_function_.values, label=\"Kaplan-Meier Estimate\")\n",
        "plt.title(\"DeepSurv estimate with KM baseline vs Kaplen-Meier estimate\")\n",
        "plt.xlabel(\"Time (Days)\")\n",
        "plt.ylabel(\"Survival Probability\")\n",
        "plt.legend()\n",
        "plt.show()"
      ]
    },
    {
      "cell_type": "markdown",
      "id": "34zzM6FhbUud",
      "metadata": {
        "id": "34zzM6FhbUud"
      },
      "source": [
        "## Task 1.4: Handling Informative Censoring via Domain Adaptation [8 pts]"
      ]
    },
    {
      "cell_type": "code",
      "execution_count": 77,
      "id": "5b0b2319",
      "metadata": {},
      "outputs": [
        {
          "name": "stdout",
          "output_type": "stream",
          "text": [
            "Requirement already satisfied: numpy==2.1 in /opt/anaconda3/envs/project1/lib/python3.11/site-packages (2.1.0)\n",
            "Note: you may need to restart the kernel to use updated packages.\n"
          ]
        }
      ],
      "source": [
        "pip install numpy==2.1"
      ]
    },
    {
      "cell_type": "code",
      "execution_count": 1,
      "id": "bc725826",
      "metadata": {},
      "outputs": [],
      "source": [
        "from pycox import datasets"
      ]
    },
    {
      "cell_type": "code",
      "execution_count": 13,
      "id": "9dac1ad9",
      "metadata": {},
      "outputs": [],
      "source": [
        "list_of_datasets = [\"flchain\", \"gbsg\", \"metabric\", \"nwtco\", \"support\"]"
      ]
    },
    {
      "cell_type": "code",
      "execution_count": 17,
      "id": "9a850673",
      "metadata": {},
      "outputs": [],
      "source": [
        "# flchain\n",
        "\n",
        "dataset_flchain = datasets.flchain.read_df(processed=False)"
      ]
    },
    {
      "cell_type": "code",
      "execution_count": 15,
      "id": "fde6f7bd",
      "metadata": {},
      "outputs": [],
      "source": [
        "processed_df = {\n",
        "    \"gbsg\": datasets.gbsg.read_df(),\n",
        "    \"metabric\": datasets.metabric.read_df(),\n",
        "    \"support\": datasets.support.read_df(),\n",
        "}"
      ]
    },
    {
      "cell_type": "code",
      "execution_count": 9,
      "id": "1e0272df",
      "metadata": {},
      "outputs": [
        {
          "name": "stdout",
          "output_type": "stream",
          "text": [
            "Dataset 'gbsg' not locally available. Downloading...\n",
            "Done\n"
          ]
        }
      ],
      "source": [
        "df_gbsg = datasets.gbsg.read_df()"
      ]
    },
    {
      "cell_type": "code",
      "execution_count": 11,
      "id": "7d74d3ec",
      "metadata": {},
      "outputs": [
        {
          "name": "stdout",
          "output_type": "stream",
          "text": [
            "Dataset 'metabric' not locally available. Downloading...\n",
            "Done\n"
          ]
        }
      ],
      "source": [
        "df_metabric = datasets.metabric.read_df()"
      ]
    },
    {
      "cell_type": "code",
      "execution_count": 12,
      "id": "3ac309e7",
      "metadata": {},
      "outputs": [
        {
          "data": {
            "text/html": [
              "<div>\n",
              "<style scoped>\n",
              "    .dataframe tbody tr th:only-of-type {\n",
              "        vertical-align: middle;\n",
              "    }\n",
              "\n",
              "    .dataframe tbody tr th {\n",
              "        vertical-align: top;\n",
              "    }\n",
              "\n",
              "    .dataframe thead th {\n",
              "        text-align: right;\n",
              "    }\n",
              "</style>\n",
              "<table border=\"1\" class=\"dataframe\">\n",
              "  <thead>\n",
              "    <tr style=\"text-align: right;\">\n",
              "      <th></th>\n",
              "      <th>x0</th>\n",
              "      <th>x1</th>\n",
              "      <th>x2</th>\n",
              "      <th>x3</th>\n",
              "      <th>x4</th>\n",
              "      <th>x5</th>\n",
              "      <th>x6</th>\n",
              "      <th>x7</th>\n",
              "      <th>x8</th>\n",
              "      <th>duration</th>\n",
              "      <th>event</th>\n",
              "    </tr>\n",
              "  </thead>\n",
              "  <tbody>\n",
              "    <tr>\n",
              "      <th>0</th>\n",
              "      <td>5.603834</td>\n",
              "      <td>7.811392</td>\n",
              "      <td>10.797988</td>\n",
              "      <td>5.967607</td>\n",
              "      <td>1.0</td>\n",
              "      <td>1.0</td>\n",
              "      <td>0.0</td>\n",
              "      <td>1.0</td>\n",
              "      <td>56.840000</td>\n",
              "      <td>99.333336</td>\n",
              "      <td>0</td>\n",
              "    </tr>\n",
              "    <tr>\n",
              "      <th>1</th>\n",
              "      <td>5.284882</td>\n",
              "      <td>9.581043</td>\n",
              "      <td>10.204620</td>\n",
              "      <td>5.664970</td>\n",
              "      <td>1.0</td>\n",
              "      <td>0.0</td>\n",
              "      <td>0.0</td>\n",
              "      <td>1.0</td>\n",
              "      <td>85.940002</td>\n",
              "      <td>95.733330</td>\n",
              "      <td>1</td>\n",
              "    </tr>\n",
              "    <tr>\n",
              "      <th>2</th>\n",
              "      <td>5.920251</td>\n",
              "      <td>6.776564</td>\n",
              "      <td>12.431715</td>\n",
              "      <td>5.873857</td>\n",
              "      <td>0.0</td>\n",
              "      <td>1.0</td>\n",
              "      <td>0.0</td>\n",
              "      <td>1.0</td>\n",
              "      <td>48.439999</td>\n",
              "      <td>140.233337</td>\n",
              "      <td>0</td>\n",
              "    </tr>\n",
              "    <tr>\n",
              "      <th>3</th>\n",
              "      <td>6.654017</td>\n",
              "      <td>5.341846</td>\n",
              "      <td>8.646379</td>\n",
              "      <td>5.655888</td>\n",
              "      <td>0.0</td>\n",
              "      <td>0.0</td>\n",
              "      <td>0.0</td>\n",
              "      <td>0.0</td>\n",
              "      <td>66.910004</td>\n",
              "      <td>239.300003</td>\n",
              "      <td>0</td>\n",
              "    </tr>\n",
              "    <tr>\n",
              "      <th>4</th>\n",
              "      <td>5.456747</td>\n",
              "      <td>5.339741</td>\n",
              "      <td>10.555724</td>\n",
              "      <td>6.008429</td>\n",
              "      <td>1.0</td>\n",
              "      <td>0.0</td>\n",
              "      <td>0.0</td>\n",
              "      <td>1.0</td>\n",
              "      <td>67.849998</td>\n",
              "      <td>56.933334</td>\n",
              "      <td>1</td>\n",
              "    </tr>\n",
              "    <tr>\n",
              "      <th>...</th>\n",
              "      <td>...</td>\n",
              "      <td>...</td>\n",
              "      <td>...</td>\n",
              "      <td>...</td>\n",
              "      <td>...</td>\n",
              "      <td>...</td>\n",
              "      <td>...</td>\n",
              "      <td>...</td>\n",
              "      <td>...</td>\n",
              "      <td>...</td>\n",
              "      <td>...</td>\n",
              "    </tr>\n",
              "    <tr>\n",
              "      <th>1899</th>\n",
              "      <td>5.946987</td>\n",
              "      <td>5.370492</td>\n",
              "      <td>12.345780</td>\n",
              "      <td>5.741395</td>\n",
              "      <td>1.0</td>\n",
              "      <td>1.0</td>\n",
              "      <td>0.0</td>\n",
              "      <td>1.0</td>\n",
              "      <td>76.839996</td>\n",
              "      <td>87.233330</td>\n",
              "      <td>1</td>\n",
              "    </tr>\n",
              "    <tr>\n",
              "      <th>1900</th>\n",
              "      <td>5.339228</td>\n",
              "      <td>5.408853</td>\n",
              "      <td>12.176101</td>\n",
              "      <td>5.693043</td>\n",
              "      <td>1.0</td>\n",
              "      <td>1.0</td>\n",
              "      <td>0.0</td>\n",
              "      <td>1.0</td>\n",
              "      <td>63.090000</td>\n",
              "      <td>157.533340</td>\n",
              "      <td>0</td>\n",
              "    </tr>\n",
              "    <tr>\n",
              "      <th>1901</th>\n",
              "      <td>5.901610</td>\n",
              "      <td>5.272237</td>\n",
              "      <td>14.200950</td>\n",
              "      <td>6.139390</td>\n",
              "      <td>0.0</td>\n",
              "      <td>0.0</td>\n",
              "      <td>0.0</td>\n",
              "      <td>1.0</td>\n",
              "      <td>57.770000</td>\n",
              "      <td>37.866665</td>\n",
              "      <td>1</td>\n",
              "    </tr>\n",
              "    <tr>\n",
              "      <th>1902</th>\n",
              "      <td>6.818109</td>\n",
              "      <td>5.372744</td>\n",
              "      <td>11.652624</td>\n",
              "      <td>6.077852</td>\n",
              "      <td>1.0</td>\n",
              "      <td>0.0</td>\n",
              "      <td>0.0</td>\n",
              "      <td>1.0</td>\n",
              "      <td>58.889999</td>\n",
              "      <td>198.433334</td>\n",
              "      <td>0</td>\n",
              "    </tr>\n",
              "    <tr>\n",
              "      <th>1903</th>\n",
              "      <td>5.725708</td>\n",
              "      <td>5.449718</td>\n",
              "      <td>9.680736</td>\n",
              "      <td>6.595955</td>\n",
              "      <td>1.0</td>\n",
              "      <td>1.0</td>\n",
              "      <td>0.0</td>\n",
              "      <td>0.0</td>\n",
              "      <td>60.630001</td>\n",
              "      <td>140.766663</td>\n",
              "      <td>0</td>\n",
              "    </tr>\n",
              "  </tbody>\n",
              "</table>\n",
              "<p>1904 rows × 11 columns</p>\n",
              "</div>"
            ],
            "text/plain": [
              "            x0        x1         x2        x3   x4   x5   x6   x7         x8  \\\n",
              "0     5.603834  7.811392  10.797988  5.967607  1.0  1.0  0.0  1.0  56.840000   \n",
              "1     5.284882  9.581043  10.204620  5.664970  1.0  0.0  0.0  1.0  85.940002   \n",
              "2     5.920251  6.776564  12.431715  5.873857  0.0  1.0  0.0  1.0  48.439999   \n",
              "3     6.654017  5.341846   8.646379  5.655888  0.0  0.0  0.0  0.0  66.910004   \n",
              "4     5.456747  5.339741  10.555724  6.008429  1.0  0.0  0.0  1.0  67.849998   \n",
              "...        ...       ...        ...       ...  ...  ...  ...  ...        ...   \n",
              "1899  5.946987  5.370492  12.345780  5.741395  1.0  1.0  0.0  1.0  76.839996   \n",
              "1900  5.339228  5.408853  12.176101  5.693043  1.0  1.0  0.0  1.0  63.090000   \n",
              "1901  5.901610  5.272237  14.200950  6.139390  0.0  0.0  0.0  1.0  57.770000   \n",
              "1902  6.818109  5.372744  11.652624  6.077852  1.0  0.0  0.0  1.0  58.889999   \n",
              "1903  5.725708  5.449718   9.680736  6.595955  1.0  1.0  0.0  0.0  60.630001   \n",
              "\n",
              "        duration  event  \n",
              "0      99.333336      0  \n",
              "1      95.733330      1  \n",
              "2     140.233337      0  \n",
              "3     239.300003      0  \n",
              "4      56.933334      1  \n",
              "...          ...    ...  \n",
              "1899   87.233330      1  \n",
              "1900  157.533340      0  \n",
              "1901   37.866665      1  \n",
              "1902  198.433334      0  \n",
              "1903  140.766663      0  \n",
              "\n",
              "[1904 rows x 11 columns]"
            ]
          },
          "execution_count": 12,
          "metadata": {},
          "output_type": "execute_result"
        }
      ],
      "source": [
        "df_metabric"
      ]
    },
    {
      "cell_type": "code",
      "execution_count": 5,
      "id": "73eeaac7",
      "metadata": {},
      "outputs": [],
      "source": [
        "df = datasets.flchain.read_df(processed=False)"
      ]
    },
    {
      "cell_type": "code",
      "execution_count": null,
      "id": "33b12c38",
      "metadata": {},
      "outputs": [],
      "source": []
    },
    {
      "cell_type": "code",
      "execution_count": 7,
      "id": "1aa98a12",
      "metadata": {},
      "outputs": [
        {
          "data": {
            "text/html": [
              "<div>\n",
              "<style scoped>\n",
              "    .dataframe tbody tr th:only-of-type {\n",
              "        vertical-align: middle;\n",
              "    }\n",
              "\n",
              "    .dataframe tbody tr th {\n",
              "        vertical-align: top;\n",
              "    }\n",
              "\n",
              "    .dataframe thead th {\n",
              "        text-align: right;\n",
              "    }\n",
              "</style>\n",
              "<table border=\"1\" class=\"dataframe\">\n",
              "  <thead>\n",
              "    <tr style=\"text-align: right;\">\n",
              "      <th></th>\n",
              "      <th>rownames</th>\n",
              "      <th>age</th>\n",
              "      <th>sex</th>\n",
              "      <th>sample.yr</th>\n",
              "      <th>kappa</th>\n",
              "      <th>lambda</th>\n",
              "      <th>flc.grp</th>\n",
              "      <th>creatinine</th>\n",
              "      <th>mgus</th>\n",
              "      <th>chapter</th>\n",
              "      <th>futime</th>\n",
              "      <th>death</th>\n",
              "    </tr>\n",
              "  </thead>\n",
              "  <tbody>\n",
              "    <tr>\n",
              "      <th>0</th>\n",
              "      <td>1</td>\n",
              "      <td>97</td>\n",
              "      <td>F</td>\n",
              "      <td>1997</td>\n",
              "      <td>5.700</td>\n",
              "      <td>4.860</td>\n",
              "      <td>10</td>\n",
              "      <td>1.7</td>\n",
              "      <td>0</td>\n",
              "      <td>Circulatory</td>\n",
              "      <td>85</td>\n",
              "      <td>1</td>\n",
              "    </tr>\n",
              "    <tr>\n",
              "      <th>1</th>\n",
              "      <td>2</td>\n",
              "      <td>92</td>\n",
              "      <td>F</td>\n",
              "      <td>2000</td>\n",
              "      <td>0.870</td>\n",
              "      <td>0.683</td>\n",
              "      <td>1</td>\n",
              "      <td>0.9</td>\n",
              "      <td>0</td>\n",
              "      <td>Neoplasms</td>\n",
              "      <td>1281</td>\n",
              "      <td>1</td>\n",
              "    </tr>\n",
              "    <tr>\n",
              "      <th>2</th>\n",
              "      <td>3</td>\n",
              "      <td>94</td>\n",
              "      <td>F</td>\n",
              "      <td>1997</td>\n",
              "      <td>4.360</td>\n",
              "      <td>3.850</td>\n",
              "      <td>10</td>\n",
              "      <td>1.4</td>\n",
              "      <td>0</td>\n",
              "      <td>Circulatory</td>\n",
              "      <td>69</td>\n",
              "      <td>1</td>\n",
              "    </tr>\n",
              "    <tr>\n",
              "      <th>3</th>\n",
              "      <td>4</td>\n",
              "      <td>92</td>\n",
              "      <td>F</td>\n",
              "      <td>1996</td>\n",
              "      <td>2.420</td>\n",
              "      <td>2.220</td>\n",
              "      <td>9</td>\n",
              "      <td>1.0</td>\n",
              "      <td>0</td>\n",
              "      <td>Circulatory</td>\n",
              "      <td>115</td>\n",
              "      <td>1</td>\n",
              "    </tr>\n",
              "    <tr>\n",
              "      <th>4</th>\n",
              "      <td>5</td>\n",
              "      <td>93</td>\n",
              "      <td>F</td>\n",
              "      <td>1996</td>\n",
              "      <td>1.320</td>\n",
              "      <td>1.690</td>\n",
              "      <td>6</td>\n",
              "      <td>1.1</td>\n",
              "      <td>0</td>\n",
              "      <td>Circulatory</td>\n",
              "      <td>1039</td>\n",
              "      <td>1</td>\n",
              "    </tr>\n",
              "    <tr>\n",
              "      <th>...</th>\n",
              "      <td>...</td>\n",
              "      <td>...</td>\n",
              "      <td>...</td>\n",
              "      <td>...</td>\n",
              "      <td>...</td>\n",
              "      <td>...</td>\n",
              "      <td>...</td>\n",
              "      <td>...</td>\n",
              "      <td>...</td>\n",
              "      <td>...</td>\n",
              "      <td>...</td>\n",
              "      <td>...</td>\n",
              "    </tr>\n",
              "    <tr>\n",
              "      <th>7869</th>\n",
              "      <td>7870</td>\n",
              "      <td>52</td>\n",
              "      <td>F</td>\n",
              "      <td>1995</td>\n",
              "      <td>1.210</td>\n",
              "      <td>1.610</td>\n",
              "      <td>6</td>\n",
              "      <td>1.0</td>\n",
              "      <td>0</td>\n",
              "      <td>None</td>\n",
              "      <td>4997</td>\n",
              "      <td>0</td>\n",
              "    </tr>\n",
              "    <tr>\n",
              "      <th>7870</th>\n",
              "      <td>7871</td>\n",
              "      <td>52</td>\n",
              "      <td>F</td>\n",
              "      <td>1999</td>\n",
              "      <td>0.858</td>\n",
              "      <td>0.581</td>\n",
              "      <td>1</td>\n",
              "      <td>0.8</td>\n",
              "      <td>0</td>\n",
              "      <td>None</td>\n",
              "      <td>3652</td>\n",
              "      <td>0</td>\n",
              "    </tr>\n",
              "    <tr>\n",
              "      <th>7871</th>\n",
              "      <td>7872</td>\n",
              "      <td>54</td>\n",
              "      <td>F</td>\n",
              "      <td>2002</td>\n",
              "      <td>1.700</td>\n",
              "      <td>1.720</td>\n",
              "      <td>8</td>\n",
              "      <td>NaN</td>\n",
              "      <td>0</td>\n",
              "      <td>None</td>\n",
              "      <td>2507</td>\n",
              "      <td>0</td>\n",
              "    </tr>\n",
              "    <tr>\n",
              "      <th>7872</th>\n",
              "      <td>7873</td>\n",
              "      <td>53</td>\n",
              "      <td>F</td>\n",
              "      <td>1995</td>\n",
              "      <td>1.710</td>\n",
              "      <td>2.690</td>\n",
              "      <td>9</td>\n",
              "      <td>NaN</td>\n",
              "      <td>0</td>\n",
              "      <td>None</td>\n",
              "      <td>4982</td>\n",
              "      <td>0</td>\n",
              "    </tr>\n",
              "    <tr>\n",
              "      <th>7873</th>\n",
              "      <td>7874</td>\n",
              "      <td>50</td>\n",
              "      <td>F</td>\n",
              "      <td>1998</td>\n",
              "      <td>1.190</td>\n",
              "      <td>1.250</td>\n",
              "      <td>4</td>\n",
              "      <td>0.7</td>\n",
              "      <td>0</td>\n",
              "      <td>None</td>\n",
              "      <td>3995</td>\n",
              "      <td>0</td>\n",
              "    </tr>\n",
              "  </tbody>\n",
              "</table>\n",
              "<p>7874 rows × 12 columns</p>\n",
              "</div>"
            ],
            "text/plain": [
              "      rownames  age sex  sample.yr  kappa  lambda  flc.grp  creatinine  mgus  \\\n",
              "0            1   97   F       1997  5.700   4.860       10         1.7     0   \n",
              "1            2   92   F       2000  0.870   0.683        1         0.9     0   \n",
              "2            3   94   F       1997  4.360   3.850       10         1.4     0   \n",
              "3            4   92   F       1996  2.420   2.220        9         1.0     0   \n",
              "4            5   93   F       1996  1.320   1.690        6         1.1     0   \n",
              "...        ...  ...  ..        ...    ...     ...      ...         ...   ...   \n",
              "7869      7870   52   F       1995  1.210   1.610        6         1.0     0   \n",
              "7870      7871   52   F       1999  0.858   0.581        1         0.8     0   \n",
              "7871      7872   54   F       2002  1.700   1.720        8         NaN     0   \n",
              "7872      7873   53   F       1995  1.710   2.690        9         NaN     0   \n",
              "7873      7874   50   F       1998  1.190   1.250        4         0.7     0   \n",
              "\n",
              "          chapter  futime  death  \n",
              "0     Circulatory      85      1  \n",
              "1       Neoplasms    1281      1  \n",
              "2     Circulatory      69      1  \n",
              "3     Circulatory     115      1  \n",
              "4     Circulatory    1039      1  \n",
              "...           ...     ...    ...  \n",
              "7869         None    4997      0  \n",
              "7870         None    3652      0  \n",
              "7871         None    2507      0  \n",
              "7872         None    4982      0  \n",
              "7873         None    3995      0  \n",
              "\n",
              "[7874 rows x 12 columns]"
            ]
          },
          "execution_count": 7,
          "metadata": {},
          "output_type": "execute_result"
        }
      ],
      "source": [
        "df"
      ]
    },
    {
      "cell_type": "code",
      "execution_count": 6,
      "id": "89ea5eec",
      "metadata": {},
      "outputs": [
        {
          "data": {
            "text/plain": [
              "Index(['rownames', 'age', 'sex', 'sample.yr', 'kappa', 'lambda', 'flc.grp',\n",
              "       'creatinine', 'mgus', 'chapter', 'futime', 'death'],\n",
              "      dtype='object')"
            ]
          },
          "execution_count": 6,
          "metadata": {},
          "output_type": "execute_result"
        }
      ],
      "source": [
        "df.columns"
      ]
    },
    {
      "cell_type": "code",
      "execution_count": 1,
      "id": "XuwUXwAEbPSN",
      "metadata": {
        "id": "XuwUXwAEbPSN"
      },
      "outputs": [],
      "source": [
        "# >> Write your code here <<"
      ]
    },
    {
      "cell_type": "markdown",
      "id": "cdafc12b-0755-4289-aa17-6fe5e254df45",
      "metadata": {
        "id": "cdafc12b-0755-4289-aa17-6fe5e254df45"
      },
      "source": [
        "## References\n",
        "\n",
        "[1] Chicco, Davide, and Giuseppe Jurman. “Machine learning can predict survival of patients with heart failure from serum creatinine and ejection fraction alone.” BMC Medical Informatics and Decision Making, vol.\n",
        "20, no. 1 (2020): 1-16.\n",
        "\n",
        "[2] Weiss, Eric S., Lois U. Nwakanma, Stuart B. Russell, John V. Conte, and Ashish S. Shah. “Outcomes in\n",
        "bicaval versus biatrial techniques in heart transplantation: an analysis of the UNOS database.” The Journal\n",
        "of heart and lung transplantation, vol. 27, no. 2 (2008): 178-183."
      ]
    }
  ],
  "metadata": {
    "colab": {
      "provenance": []
    },
    "kernelspec": {
      "display_name": "project1",
      "language": "python",
      "name": "python3"
    },
    "language_info": {
      "codemirror_mode": {
        "name": "ipython",
        "version": 3
      },
      "file_extension": ".py",
      "mimetype": "text/x-python",
      "name": "python",
      "nbconvert_exporter": "python",
      "pygments_lexer": "ipython3",
      "version": "3.11.11"
    }
  },
  "nbformat": 4,
  "nbformat_minor": 5
}
